{
  "nbformat": 4,
  "nbformat_minor": 0,
  "metadata": {
    "colab": {
      "name": "ChessPiece_Color_Model.ipynb",
      "provenance": [],
      "collapsed_sections": []
    },
    "kernelspec": {
      "name": "python3",
      "display_name": "Python 3"
    },
    "language_info": {
      "name": "python"
    },
    "accelerator": "GPU"
  },
  "cells": [
    {
      "cell_type": "code",
      "execution_count": null,
      "metadata": {
        "id": "YjtDd9f6ESiL"
      },
      "outputs": [],
      "source": [
        "import torch\n",
        "from torch.utils.data import Dataset\n",
        "from torchvision import datasets\n",
        "from torchvision.transforms import ToTensor\n",
        "import matplotlib.pyplot as plt\n",
        "import torchvision.transforms as transforms\n",
        "from torch.utils.data import DataLoader\n",
        "from PIL import Image\n",
        "from google.colab.patches import cv2_imshow\n",
        "%tensorflow_version 1.x\n",
        "import torchvision.models as models\n",
        "import pandas as pd\n",
        "import numpy as np\n",
        "from torch.utils.data import DataLoader\n",
        "from torch.utils.data import Dataset\n",
        "from PIL import Image\n",
        "import torchvision.models as models\n",
        "import torch\n",
        "from collections import OrderedDict\n",
        "\n",
        "from google.colab import drive\n",
        "drive.mount('/content/drive')"
      ]
    },
    {
      "cell_type": "markdown",
      "source": [
        "Iphone Data"
      ],
      "metadata": {
        "id": "fzMOiGMbEr4Z"
      }
    },
    {
      "cell_type": "code",
      "source": [
        "foldername = \"/content/drive/MyDrive/iphone_data/dataset_done/\"\n",
        "dataset = pd.read_csv(foldername + 'my_csv.csv', names=['id','piece','color'])\n",
        "dataset = dataset.iloc[1:, ::2]\n",
        "x = dataset.to_numpy()\n",
        "for i in range(len(x)):\n",
        "  x[i, 1] = int(x[i, 1]) - 1\n",
        "dataset = pd.DataFrame(x, columns=['id','color'])\n",
        "dataset = dataset[dataset['color'] > -1] \n",
        "dataset"
      ],
      "metadata": {
        "colab": {
          "base_uri": "https://localhost:8080/",
          "height": 424
        },
        "id": "iQCQquTjEbAp",
        "outputId": "f20f74ac-8e16-4f5a-8437-67cefc8e70df"
      },
      "execution_count": null,
      "outputs": [
        {
          "output_type": "execute_result",
          "data": {
            "text/html": [
              "\n",
              "  <div id=\"df-5efe8a0f-8e1c-4167-a0fb-b9490df9e5a3\">\n",
              "    <div class=\"colab-df-container\">\n",
              "      <div>\n",
              "<style scoped>\n",
              "    .dataframe tbody tr th:only-of-type {\n",
              "        vertical-align: middle;\n",
              "    }\n",
              "\n",
              "    .dataframe tbody tr th {\n",
              "        vertical-align: top;\n",
              "    }\n",
              "\n",
              "    .dataframe thead th {\n",
              "        text-align: right;\n",
              "    }\n",
              "</style>\n",
              "<table border=\"1\" class=\"dataframe\">\n",
              "  <thead>\n",
              "    <tr style=\"text-align: right;\">\n",
              "      <th></th>\n",
              "      <th>id</th>\n",
              "      <th>color</th>\n",
              "    </tr>\n",
              "  </thead>\n",
              "  <tbody>\n",
              "    <tr>\n",
              "      <th>5</th>\n",
              "      <td>f7610259834.jpg</td>\n",
              "      <td>1</td>\n",
              "    </tr>\n",
              "    <tr>\n",
              "      <th>7</th>\n",
              "      <td>f2137846095.jpg</td>\n",
              "      <td>0</td>\n",
              "    </tr>\n",
              "    <tr>\n",
              "      <th>9</th>\n",
              "      <td>f0695374812.jpg</td>\n",
              "      <td>0</td>\n",
              "    </tr>\n",
              "    <tr>\n",
              "      <th>11</th>\n",
              "      <td>f9058461372.jpg</td>\n",
              "      <td>1</td>\n",
              "    </tr>\n",
              "    <tr>\n",
              "      <th>12</th>\n",
              "      <td>f9576230814.jpg</td>\n",
              "      <td>0</td>\n",
              "    </tr>\n",
              "    <tr>\n",
              "      <th>...</th>\n",
              "      <td>...</td>\n",
              "      <td>...</td>\n",
              "    </tr>\n",
              "    <tr>\n",
              "      <th>1140</th>\n",
              "      <td>f9784352061.jpg</td>\n",
              "      <td>1</td>\n",
              "    </tr>\n",
              "    <tr>\n",
              "      <th>1142</th>\n",
              "      <td>f2835976104.jpg</td>\n",
              "      <td>1</td>\n",
              "    </tr>\n",
              "    <tr>\n",
              "      <th>1143</th>\n",
              "      <td>f7913285604.jpg</td>\n",
              "      <td>1</td>\n",
              "    </tr>\n",
              "    <tr>\n",
              "      <th>1145</th>\n",
              "      <td>f1687034259.jpg</td>\n",
              "      <td>0</td>\n",
              "    </tr>\n",
              "    <tr>\n",
              "      <th>1148</th>\n",
              "      <td>f3426579108.jpg</td>\n",
              "      <td>0</td>\n",
              "    </tr>\n",
              "  </tbody>\n",
              "</table>\n",
              "<p>486 rows × 2 columns</p>\n",
              "</div>\n",
              "      <button class=\"colab-df-convert\" onclick=\"convertToInteractive('df-5efe8a0f-8e1c-4167-a0fb-b9490df9e5a3')\"\n",
              "              title=\"Convert this dataframe to an interactive table.\"\n",
              "              style=\"display:none;\">\n",
              "        \n",
              "  <svg xmlns=\"http://www.w3.org/2000/svg\" height=\"24px\"viewBox=\"0 0 24 24\"\n",
              "       width=\"24px\">\n",
              "    <path d=\"M0 0h24v24H0V0z\" fill=\"none\"/>\n",
              "    <path d=\"M18.56 5.44l.94 2.06.94-2.06 2.06-.94-2.06-.94-.94-2.06-.94 2.06-2.06.94zm-11 1L8.5 8.5l.94-2.06 2.06-.94-2.06-.94L8.5 2.5l-.94 2.06-2.06.94zm10 10l.94 2.06.94-2.06 2.06-.94-2.06-.94-.94-2.06-.94 2.06-2.06.94z\"/><path d=\"M17.41 7.96l-1.37-1.37c-.4-.4-.92-.59-1.43-.59-.52 0-1.04.2-1.43.59L10.3 9.45l-7.72 7.72c-.78.78-.78 2.05 0 2.83L4 21.41c.39.39.9.59 1.41.59.51 0 1.02-.2 1.41-.59l7.78-7.78 2.81-2.81c.8-.78.8-2.07 0-2.86zM5.41 20L4 18.59l7.72-7.72 1.47 1.35L5.41 20z\"/>\n",
              "  </svg>\n",
              "      </button>\n",
              "      \n",
              "  <style>\n",
              "    .colab-df-container {\n",
              "      display:flex;\n",
              "      flex-wrap:wrap;\n",
              "      gap: 12px;\n",
              "    }\n",
              "\n",
              "    .colab-df-convert {\n",
              "      background-color: #E8F0FE;\n",
              "      border: none;\n",
              "      border-radius: 50%;\n",
              "      cursor: pointer;\n",
              "      display: none;\n",
              "      fill: #1967D2;\n",
              "      height: 32px;\n",
              "      padding: 0 0 0 0;\n",
              "      width: 32px;\n",
              "    }\n",
              "\n",
              "    .colab-df-convert:hover {\n",
              "      background-color: #E2EBFA;\n",
              "      box-shadow: 0px 1px 2px rgba(60, 64, 67, 0.3), 0px 1px 3px 1px rgba(60, 64, 67, 0.15);\n",
              "      fill: #174EA6;\n",
              "    }\n",
              "\n",
              "    [theme=dark] .colab-df-convert {\n",
              "      background-color: #3B4455;\n",
              "      fill: #D2E3FC;\n",
              "    }\n",
              "\n",
              "    [theme=dark] .colab-df-convert:hover {\n",
              "      background-color: #434B5C;\n",
              "      box-shadow: 0px 1px 3px 1px rgba(0, 0, 0, 0.15);\n",
              "      filter: drop-shadow(0px 1px 2px rgba(0, 0, 0, 0.3));\n",
              "      fill: #FFFFFF;\n",
              "    }\n",
              "  </style>\n",
              "\n",
              "      <script>\n",
              "        const buttonEl =\n",
              "          document.querySelector('#df-5efe8a0f-8e1c-4167-a0fb-b9490df9e5a3 button.colab-df-convert');\n",
              "        buttonEl.style.display =\n",
              "          google.colab.kernel.accessAllowed ? 'block' : 'none';\n",
              "\n",
              "        async function convertToInteractive(key) {\n",
              "          const element = document.querySelector('#df-5efe8a0f-8e1c-4167-a0fb-b9490df9e5a3');\n",
              "          const dataTable =\n",
              "            await google.colab.kernel.invokeFunction('convertToInteractive',\n",
              "                                                     [key], {});\n",
              "          if (!dataTable) return;\n",
              "\n",
              "          const docLinkHtml = 'Like what you see? Visit the ' +\n",
              "            '<a target=\"_blank\" href=https://colab.research.google.com/notebooks/data_table.ipynb>data table notebook</a>'\n",
              "            + ' to learn more about interactive tables.';\n",
              "          element.innerHTML = '';\n",
              "          dataTable['output_type'] = 'display_data';\n",
              "          await google.colab.output.renderOutput(dataTable, element);\n",
              "          const docLink = document.createElement('div');\n",
              "          docLink.innerHTML = docLinkHtml;\n",
              "          element.appendChild(docLink);\n",
              "        }\n",
              "      </script>\n",
              "    </div>\n",
              "  </div>\n",
              "  "
            ],
            "text/plain": [
              "                   id color\n",
              "5     f7610259834.jpg     1\n",
              "7     f2137846095.jpg     0\n",
              "9     f0695374812.jpg     0\n",
              "11    f9058461372.jpg     1\n",
              "12    f9576230814.jpg     0\n",
              "...               ...   ...\n",
              "1140  f9784352061.jpg     1\n",
              "1142  f2835976104.jpg     1\n",
              "1143  f7913285604.jpg     1\n",
              "1145  f1687034259.jpg     0\n",
              "1148  f3426579108.jpg     0\n",
              "\n",
              "[486 rows x 2 columns]"
            ]
          },
          "metadata": {},
          "execution_count": 74
        }
      ]
    },
    {
      "cell_type": "markdown",
      "source": [
        "Labels: "
      ],
      "metadata": {
        "id": "DR8hxyRAE1PS"
      }
    },
    {
      "cell_type": "code",
      "source": [
        "color_num_to_name = {\n",
        "      0 : 'Orange',\n",
        "      1 : 'Blue',\n",
        "}"
      ],
      "metadata": {
        "id": "_DcqDvrGEoft"
      },
      "execution_count": null,
      "outputs": []
    },
    {
      "cell_type": "markdown",
      "source": [
        "Uniform data:\n"
      ],
      "metadata": {
        "id": "gAG6zxXXFGk3"
      }
    },
    {
      "cell_type": "code",
      "source": [
        "def uniform(dataframe):\n",
        "  dic = {}\n",
        "  df = dataframe.sample(frac=1)\n",
        "  for i in df['color']:\n",
        "    if i not in dic:\n",
        "      dic[i] = dic.get(i, 0)\n",
        "    else:\n",
        "      dic[i] += 1\n",
        "  min_key = min(dic, key=dic.get)\n",
        "  minimum = dic.get(min_key)\n",
        "  dic2 = {}\n",
        "  new = pd.DataFrame(columns = ['id', 'color'])\n",
        "  for j in df['color']:\n",
        "    if j not in dic2:\n",
        "      pholder = df.loc[df['color']==j]\n",
        "      pholder = pholder[:minimum]\n",
        "      new = pd.concat([new,pholder], ignore_index=True)\n",
        "      dic2[j] = dic2.get(j,0)\n",
        "  return new\n",
        "\n",
        "dataset = uniform(dataset)\n",
        "dataset"
      ],
      "metadata": {
        "id": "pMDt88neFH5o"
      },
      "execution_count": null,
      "outputs": []
    },
    {
      "cell_type": "markdown",
      "source": [
        "Split Dataset Into Train, Validation, Test"
      ],
      "metadata": {
        "id": "0uIHxICFFh0p"
      }
    },
    {
      "cell_type": "code",
      "source": [
        "np.random.seed(123)\n",
        "\n",
        "\n",
        "def data_split(N, ratio=[7, 2, 1]):\n",
        "  shuffle_idx = np.arange(N)\n",
        "  np.random.shuffle(shuffle_idx)\n",
        "  data_split = (np.cumsum(ratio)/float(sum(ratio))*N).astype(int)\n",
        "  out_idx = [None] * len(ratio)\n",
        "  out_idx[0] = shuffle_idx[:data_split[0]]\n",
        "  for i in range(1,len(ratio)):\n",
        "    out_idx[i] = shuffle_idx[data_split[i-1] : data_split[i]]\n",
        "  return out_idx  \n",
        "\n",
        "\n",
        "split_idx = data_split(len(dataset))\n",
        "df_train = dataset.loc[split_idx[0]]\n",
        "df_valid = dataset.loc[split_idx[1]]\n",
        "df_test = dataset.loc[split_idx[2]]"
      ],
      "metadata": {
        "id": "k6nmvp4uFi6R"
      },
      "execution_count": null,
      "outputs": []
    },
    {
      "cell_type": "markdown",
      "source": [
        "Creates a data loader for each piece"
      ],
      "metadata": {
        "id": "HwSogIQMFtwY"
      }
    },
    {
      "cell_type": "code",
      "source": [
        "class ChessDataset(Dataset):\n",
        "    def __init__(self, root_dir, df, transforms=None):\n",
        "        self.root_dir = root_dir\n",
        "        self.df = df\n",
        "        self.file_names = df['id'].values\n",
        "        self.targets = df['color'].values\n",
        "        self.transforms = transforms\n",
        "    def __len__(self):\n",
        "        return len(self.df)\n",
        "    def __getitem__(self, index):\n",
        "        img_path = self.root_dir + self.file_names[index]\n",
        "        img = Image.open(img_path)\n",
        "        if self.transforms:\n",
        "            img = self.transforms(img)\n",
        "        target = self.targets[index]\n",
        "        return img, target\n",
        "\n",
        "\n",
        "transform_train = transforms.Compose([\n",
        "    transforms.Resize(256),\n",
        "    transforms.RandomCrop(224),\n",
        "    transforms.RandomHorizontalFlip(),\n",
        "    transforms.ToTensor(),\n",
        "    #transforms.Grayscale(3)\n",
        "    # transforms.Normalize([0.485, 0.456, 0.406], [0.229, 0.224, 0.225])\n",
        "])\n",
        "transform_test = transforms.Compose([\n",
        "    transforms.Resize(256),\n",
        "    transforms.CenterCrop(224),\n",
        "    transforms.ToTensor(),\n",
        "    #transforms.Grayscale(3)\n",
        "    # transforms.Normalize([0.485, 0.456, 0.406], [0.229, 0.224, 0.225])\n",
        "])\n",
        "\n",
        "\n",
        "train_dataset = ChessDataset(foldername, df_train, transforms=transform_train)\n",
        "valid_dataset = ChessDataset(foldername, df_valid, transforms=transform_test)\n",
        "test_dataset = ChessDataset(foldername, df_test, transforms=transform_test)\n",
        "\n",
        "\n",
        "train_loader = torch.utils.data.DataLoader(train_dataset, batch_size=8, shuffle=True)\n",
        "valid_loader = torch.utils.data.DataLoader(valid_dataset, batch_size=8, shuffle=True)\n",
        "test_loader = torch.utils.data.DataLoader(test_dataset, batch_size=8, shuffle=True)"
      ],
      "metadata": {
        "id": "z7phAQqdFuFk"
      },
      "execution_count": null,
      "outputs": []
    },
    {
      "cell_type": "code",
      "source": [
        "x = train_dataset[5][0]\n",
        "\n",
        "plt.imshow(x.permute(1, 2, 0))\n",
        "\n",
        "train_dataset[5]"
      ],
      "metadata": {
        "id": "O38p4fYwF0N_"
      },
      "execution_count": null,
      "outputs": []
    },
    {
      "cell_type": "markdown",
      "source": [
        "MODEL"
      ],
      "metadata": {
        "id": "5X0z6ivWGLEA"
      }
    },
    {
      "cell_type": "code",
      "source": [
        "model = models.vgg16()\n",
        "classifier = torch.nn.Sequential(OrderedDict([('fc1', torch.nn.Linear(25088, 5000)),\n",
        "                                        ('relu', torch.nn.ReLU()),\n",
        "                                        ('drop', torch.nn.Dropout(p=0.5)),\n",
        "                                        ('fc2', torch.nn.Linear(5000, 2)),\n",
        "                                        ('output', torch.nn.LogSoftmax(dim=1))]))\n",
        "model.classifier = classifier"
      ],
      "metadata": {
        "id": "2wg9TX5nGKvz"
      },
      "execution_count": 94,
      "outputs": []
    },
    {
      "cell_type": "markdown",
      "source": [
        "Sets up GPU or CPU"
      ],
      "metadata": {
        "id": "d3syCHCLGPQ8"
      }
    },
    {
      "cell_type": "code",
      "source": [
        "device = 'cuda' if torch.cuda.is_available() else 'cpu'\n",
        "#device = 'cpu'\n",
        "print(f'Using {device} device')"
      ],
      "metadata": {
        "id": "7UVnxG68GTgL"
      },
      "execution_count": null,
      "outputs": []
    },
    {
      "cell_type": "markdown",
      "source": [
        "Optimizer and Loss"
      ],
      "metadata": {
        "id": "iJCwwSnoGZlm"
      }
    },
    {
      "cell_type": "code",
      "source": [
        "criterion = torch.nn.NLLLoss()\n",
        "optimizer = torch.optim.SGD(model.parameters(), lr=.001, momentum=0.9)\n",
        "model.to(device)"
      ],
      "metadata": {
        "id": "PVtI6FyoGTHx"
      },
      "execution_count": null,
      "outputs": []
    },
    {
      "cell_type": "markdown",
      "source": [
        "Fuction for Validation Pass"
      ],
      "metadata": {
        "id": "KdEnCCqGG0Zk"
      }
    },
    {
      "cell_type": "code",
      "source": [
        "def validation(model, validateloader, criterion):    \n",
        "    val_loss = 0\n",
        "    accuracy = 0\n",
        "    for images, labels in iter(validateloader):\n",
        "        images, labels = images.to(device), labels.to(device)\n",
        "        output = model.forward(images)\n",
        "        val_loss += criterion(output, labels).item()\n",
        "        probabilities = torch.exp(output)\n",
        "        equality = (labels.data == probabilities.max(dim=1)[1])\n",
        "        accuracy += equality.type(torch.FloatTensor).mean()\n",
        "    return val_loss, accuracy"
      ],
      "metadata": {
        "id": "h8l3FfwBG3Bh"
      },
      "execution_count": null,
      "outputs": []
    },
    {
      "cell_type": "markdown",
      "source": [
        "Training the classifier"
      ],
      "metadata": {
        "id": "wxldC3HQG526"
      }
    },
    {
      "cell_type": "code",
      "source": [
        "def train_classifier():\n",
        "        \n",
        "        epochs = 300\n",
        "        steps = 0\n",
        "        print_every = 10\n",
        "        model.to(device)\n",
        "        for e in range(epochs):\n",
        "            model.train()\n",
        "            running_loss = 0\n",
        "            for images, labels in iter(train_loader):\n",
        "                steps += 1\n",
        "                images, labels = images.to(device), labels.to(device)\n",
        "                optimizer.zero_grad()\n",
        "                output = model.forward(images)\n",
        "                loss = criterion(output, labels)\n",
        "                loss.backward()\n",
        "                optimizer.step()\n",
        "                running_loss += loss.item()\n",
        "                if steps % print_every == 0:\n",
        "                    model.eval()\n",
        "                \n",
        "                    # Turn off gradients for validation, saves memory and computations\n",
        "                    with torch.no_grad():\n",
        "                        validation_loss, accuracy = validation(model, valid_loader, criterion)\n",
        "            \n",
        "                    print(\"Epoch: {}/{}.. \".format(e+1, epochs),\n",
        "                          \"Training Loss: {:.3f}.. \".format(running_loss/print_every),\n",
        "                          \"Validation Loss: {:.3f}.. \".format(validation_loss/len(valid_loader)),\n",
        "                          \"Validation Accuracy: {:.3f}\".format(accuracy/len(valid_loader)))\n",
        "            \n",
        "                    running_loss = 0\n",
        "                    model.train()\n",
        "                    \n",
        "train_classifier()"
      ],
      "metadata": {
        "id": "Q-FGGtxeG-CW"
      },
      "execution_count": null,
      "outputs": []
    },
    {
      "cell_type": "markdown",
      "source": [
        "Validation on Test Set"
      ],
      "metadata": {
        "id": "9wz3d5N3HSTT"
      }
    },
    {
      "cell_type": "code",
      "source": [
        "def test_accuracy(model, test_loader):\n",
        "\n",
        "    model.eval()\n",
        "    model.to(device)\n",
        "    with torch.no_grad():\n",
        "        accuracy = 0\n",
        "        for images, labels in iter(test_loader):\n",
        "            images, labels = images.to(device), labels.to(device)\n",
        "            output = model.forward(images)\n",
        "            probabilities = torch.exp(output)\n",
        "            equality = (labels.data == probabilities.max(dim=1)[1])\n",
        "            accuracy += equality.type(torch.FloatTensor).mean()\n",
        "        print(\"Test Accuracy: {}\".format(accuracy/len(test_loader)))    \n",
        "        \n",
        "        \n",
        "test_accuracy(model, test_loader)"
      ],
      "metadata": {
        "id": "wGRdAeUcHRfx"
      },
      "execution_count": null,
      "outputs": []
    },
    {
      "cell_type": "markdown",
      "source": [
        "Saving the Trained Model"
      ],
      "metadata": {
        "id": "_iEcWWQ2HVpd"
      }
    },
    {
      "cell_type": "code",
      "source": [
        "def save_checkpoint(model):\n",
        "\n",
        "    model.class_to_idx = train_dataset.class_to_idx\n",
        "\n",
        "    checkpoint = {'arch': \"vgg16\",\n",
        "                  'class_to_idx': model.class_to_idx,\n",
        "                  'model_state_dict': model.state_dict()\n",
        "                 }\n",
        "\n",
        "    torch.save(checkpoint, 'checkpoint.pth')\n",
        "    \n",
        "save_checkpoint(model)"
      ],
      "metadata": {
        "id": "D9Oxy9kvHX_4"
      },
      "execution_count": null,
      "outputs": []
    }
  ]
}