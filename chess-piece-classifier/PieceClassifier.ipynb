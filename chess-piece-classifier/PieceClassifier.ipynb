{
  "nbformat": 4,
  "nbformat_minor": 0,
  "metadata": {
    "colab": {
      "name": "PieceClassifier.ipynb",
      "provenance": [],
      "collapsed_sections": [
        "Cv7AHp1ybrNE",
        "flpB3jmZbxBw"
      ]
    },
    "kernelspec": {
      "name": "python3",
      "display_name": "Python 3"
    },
    "language_info": {
      "name": "python"
    },
    "accelerator": "GPU"
  },
  "cells": [
    {
      "cell_type": "markdown",
      "source": [
        "# Classifies Chess Pieces"
      ],
      "metadata": {
        "id": "H9eQ66DKlYLy"
      }
    },
    {
      "cell_type": "markdown",
      "source": [
        "#Imports"
      ],
      "metadata": {
        "id": "DMeZ6ypslVn2"
      }
    },
    {
      "cell_type": "code",
      "execution_count": 2,
      "metadata": {
        "id": "tIDOn8EY0neI",
        "colab": {
          "base_uri": "https://localhost:8080/"
        },
        "outputId": "fe7c7c34-4d58-49be-a6d9-a1ec4d91a206"
      },
      "outputs": [
        {
          "output_type": "stream",
          "name": "stdout",
          "text": [
            "TensorFlow 1.x selected.\n",
            "Mounted at /content/drive\n"
          ]
        }
      ],
      "source": [
        "import torch\n",
        "from torch.utils.data import Dataset\n",
        "from torchvision import datasets\n",
        "from torchvision.transforms import ToTensor\n",
        "import matplotlib.pyplot as plt\n",
        "import torchvision.transforms as transforms\n",
        "from torch.utils.data import DataLoader\n",
        "from PIL import Image\n",
        "from google.colab.patches import cv2_imshow\n",
        "%tensorflow_version 1.x\n",
        "import torchvision.models as models\n",
        "import pandas as pd\n",
        "import numpy as np\n",
        "from torch.utils.data import DataLoader\n",
        "from torch.utils.data import Dataset\n",
        "from PIL import Image\n",
        "import torchvision.models as models\n",
        "import torch\n",
        "from collections import OrderedDict\n",
        "\n",
        "from google.colab import drive\n",
        "drive.mount('/content/drive')"
      ]
    },
    {
      "cell_type": "markdown",
      "source": [
        "# Dataset\n"
      ],
      "metadata": {
        "id": "r1anmTTWehd9"
      }
    },
    {
      "cell_type": "markdown",
      "source": [
        "#### Get Dataset"
      ],
      "metadata": {
        "id": "ZkgQyHdqj0-d"
      }
    },
    {
      "cell_type": "markdown",
      "source": [
        "##### Turk Data"
      ],
      "metadata": {
        "id": "Cv7AHp1ybrNE"
      }
    },
    {
      "cell_type": "code",
      "source": [
        "foldername = \"/content/drive/MyDrive/turk_data/data_done/\"\n",
        "dataset = pd.read_csv(foldername + 'my_csv.csv', names=['id','piece'])"
      ],
      "metadata": {
        "id": "8UDbmJ9fVWZC"
      },
      "execution_count": 3,
      "outputs": []
    },
    {
      "cell_type": "markdown",
      "source": [
        "##### Realsense"
      ],
      "metadata": {
        "id": "flpB3jmZbxBw"
      }
    },
    {
      "cell_type": "code",
      "source": [
        "foldername = \"/content/drive/MyDrive/cv_chess_data/realsense_dataset0/\"\n",
        "dataset = pd.read_csv(foldername + 'my_csv.csv', names=['id','piece'])"
      ],
      "metadata": {
        "id": "RXIcAwE-j0Y6"
      },
      "execution_count": 4,
      "outputs": []
    },
    {
      "cell_type": "code",
      "source": [
        "dataset.iloc[911]"
      ],
      "metadata": {
        "colab": {
          "base_uri": "https://localhost:8080/"
        },
        "id": "oVR8fiX9pz-K",
        "outputId": "b33225b0-d14c-49be-c6da-ea5782c1ea9d"
      },
      "execution_count": 5,
      "outputs": [
        {
          "output_type": "execute_result",
          "data": {
            "text/plain": [
              "id       f2154873069.jpg\n",
              "piece                  0\n",
              "Name: 911, dtype: object"
            ]
          },
          "metadata": {},
          "execution_count": 5
        }
      ]
    },
    {
      "cell_type": "code",
      "source": [
        "from torch.utils import data\n",
        "dataset = dataset.drop([0,1, 911])\n",
        "x = dataset.to_numpy()\n",
        "for i in range(len(x)):\n",
        "  x[i, 1] = int(x[i, 1])\n",
        "dataset = pd.DataFrame(x, columns=['id','piece'])"
      ],
      "metadata": {
        "id": "z6QBDKjxVKLB"
      },
      "execution_count": 6,
      "outputs": []
    },
    {
      "cell_type": "markdown",
      "source": [
        "##### IPhone\n"
      ],
      "metadata": {
        "id": "XcDzC6JVaVSs"
      }
    },
    {
      "cell_type": "code",
      "source": [
        "foldername = \"/content/drive/MyDrive/iphone_data/dataset_done/\"\n",
        "dataset = pd.read_csv(foldername + 'my_csv.csv', names=['id','piece','color'])\n",
        "dataset = dataset.iloc[1:, :-1]\n",
        "x = dataset.to_numpy()\n",
        "for i in range(len(x)):\n",
        "  x[i, 1] = int(x[i, 1])\n",
        "dataset = pd.DataFrame(x, columns=['id','piece'])\n",
        "dataset"
      ],
      "metadata": {
        "colab": {
          "base_uri": "https://localhost:8080/",
          "height": 424
        },
        "id": "7ydQgs76aZ1w",
        "outputId": "3578ca85-6095-4155-c7bb-4abaf48e6da9"
      },
      "execution_count": 7,
      "outputs": [
        {
          "output_type": "execute_result",
          "data": {
            "text/html": [
              "\n",
              "  <div id=\"df-db141059-73ab-4f54-bbb8-b26faf81470d\">\n",
              "    <div class=\"colab-df-container\">\n",
              "      <div>\n",
              "<style scoped>\n",
              "    .dataframe tbody tr th:only-of-type {\n",
              "        vertical-align: middle;\n",
              "    }\n",
              "\n",
              "    .dataframe tbody tr th {\n",
              "        vertical-align: top;\n",
              "    }\n",
              "\n",
              "    .dataframe thead th {\n",
              "        text-align: right;\n",
              "    }\n",
              "</style>\n",
              "<table border=\"1\" class=\"dataframe\">\n",
              "  <thead>\n",
              "    <tr style=\"text-align: right;\">\n",
              "      <th></th>\n",
              "      <th>id</th>\n",
              "      <th>piece</th>\n",
              "    </tr>\n",
              "  </thead>\n",
              "  <tbody>\n",
              "    <tr>\n",
              "      <th>0</th>\n",
              "      <td>f8246013957.jpg</td>\n",
              "      <td>0</td>\n",
              "    </tr>\n",
              "    <tr>\n",
              "      <th>1</th>\n",
              "      <td>f8721645039.jpg</td>\n",
              "      <td>0</td>\n",
              "    </tr>\n",
              "    <tr>\n",
              "      <th>2</th>\n",
              "      <td>f5703841296.jpg</td>\n",
              "      <td>0</td>\n",
              "    </tr>\n",
              "    <tr>\n",
              "      <th>3</th>\n",
              "      <td>f3816792504.jpg</td>\n",
              "      <td>0</td>\n",
              "    </tr>\n",
              "    <tr>\n",
              "      <th>4</th>\n",
              "      <td>f0497621853.jpg</td>\n",
              "      <td>0</td>\n",
              "    </tr>\n",
              "    <tr>\n",
              "      <th>...</th>\n",
              "      <td>...</td>\n",
              "      <td>...</td>\n",
              "    </tr>\n",
              "    <tr>\n",
              "      <th>1147</th>\n",
              "      <td>f9507231684.jpg</td>\n",
              "      <td>0</td>\n",
              "    </tr>\n",
              "    <tr>\n",
              "      <th>1148</th>\n",
              "      <td>f3426579108.jpg</td>\n",
              "      <td>1</td>\n",
              "    </tr>\n",
              "    <tr>\n",
              "      <th>1149</th>\n",
              "      <td>f3896425710.jpg</td>\n",
              "      <td>0</td>\n",
              "    </tr>\n",
              "    <tr>\n",
              "      <th>1150</th>\n",
              "      <td>f1890264357.jpg</td>\n",
              "      <td>0</td>\n",
              "    </tr>\n",
              "    <tr>\n",
              "      <th>1151</th>\n",
              "      <td>f3104298657.jpg</td>\n",
              "      <td>0</td>\n",
              "    </tr>\n",
              "  </tbody>\n",
              "</table>\n",
              "<p>1152 rows × 2 columns</p>\n",
              "</div>\n",
              "      <button class=\"colab-df-convert\" onclick=\"convertToInteractive('df-db141059-73ab-4f54-bbb8-b26faf81470d')\"\n",
              "              title=\"Convert this dataframe to an interactive table.\"\n",
              "              style=\"display:none;\">\n",
              "        \n",
              "  <svg xmlns=\"http://www.w3.org/2000/svg\" height=\"24px\"viewBox=\"0 0 24 24\"\n",
              "       width=\"24px\">\n",
              "    <path d=\"M0 0h24v24H0V0z\" fill=\"none\"/>\n",
              "    <path d=\"M18.56 5.44l.94 2.06.94-2.06 2.06-.94-2.06-.94-.94-2.06-.94 2.06-2.06.94zm-11 1L8.5 8.5l.94-2.06 2.06-.94-2.06-.94L8.5 2.5l-.94 2.06-2.06.94zm10 10l.94 2.06.94-2.06 2.06-.94-2.06-.94-.94-2.06-.94 2.06-2.06.94z\"/><path d=\"M17.41 7.96l-1.37-1.37c-.4-.4-.92-.59-1.43-.59-.52 0-1.04.2-1.43.59L10.3 9.45l-7.72 7.72c-.78.78-.78 2.05 0 2.83L4 21.41c.39.39.9.59 1.41.59.51 0 1.02-.2 1.41-.59l7.78-7.78 2.81-2.81c.8-.78.8-2.07 0-2.86zM5.41 20L4 18.59l7.72-7.72 1.47 1.35L5.41 20z\"/>\n",
              "  </svg>\n",
              "      </button>\n",
              "      \n",
              "  <style>\n",
              "    .colab-df-container {\n",
              "      display:flex;\n",
              "      flex-wrap:wrap;\n",
              "      gap: 12px;\n",
              "    }\n",
              "\n",
              "    .colab-df-convert {\n",
              "      background-color: #E8F0FE;\n",
              "      border: none;\n",
              "      border-radius: 50%;\n",
              "      cursor: pointer;\n",
              "      display: none;\n",
              "      fill: #1967D2;\n",
              "      height: 32px;\n",
              "      padding: 0 0 0 0;\n",
              "      width: 32px;\n",
              "    }\n",
              "\n",
              "    .colab-df-convert:hover {\n",
              "      background-color: #E2EBFA;\n",
              "      box-shadow: 0px 1px 2px rgba(60, 64, 67, 0.3), 0px 1px 3px 1px rgba(60, 64, 67, 0.15);\n",
              "      fill: #174EA6;\n",
              "    }\n",
              "\n",
              "    [theme=dark] .colab-df-convert {\n",
              "      background-color: #3B4455;\n",
              "      fill: #D2E3FC;\n",
              "    }\n",
              "\n",
              "    [theme=dark] .colab-df-convert:hover {\n",
              "      background-color: #434B5C;\n",
              "      box-shadow: 0px 1px 3px 1px rgba(0, 0, 0, 0.15);\n",
              "      filter: drop-shadow(0px 1px 2px rgba(0, 0, 0, 0.3));\n",
              "      fill: #FFFFFF;\n",
              "    }\n",
              "  </style>\n",
              "\n",
              "      <script>\n",
              "        const buttonEl =\n",
              "          document.querySelector('#df-db141059-73ab-4f54-bbb8-b26faf81470d button.colab-df-convert');\n",
              "        buttonEl.style.display =\n",
              "          google.colab.kernel.accessAllowed ? 'block' : 'none';\n",
              "\n",
              "        async function convertToInteractive(key) {\n",
              "          const element = document.querySelector('#df-db141059-73ab-4f54-bbb8-b26faf81470d');\n",
              "          const dataTable =\n",
              "            await google.colab.kernel.invokeFunction('convertToInteractive',\n",
              "                                                     [key], {});\n",
              "          if (!dataTable) return;\n",
              "\n",
              "          const docLinkHtml = 'Like what you see? Visit the ' +\n",
              "            '<a target=\"_blank\" href=https://colab.research.google.com/notebooks/data_table.ipynb>data table notebook</a>'\n",
              "            + ' to learn more about interactive tables.';\n",
              "          element.innerHTML = '';\n",
              "          dataTable['output_type'] = 'display_data';\n",
              "          await google.colab.output.renderOutput(dataTable, element);\n",
              "          const docLink = document.createElement('div');\n",
              "          docLink.innerHTML = docLinkHtml;\n",
              "          element.appendChild(docLink);\n",
              "        }\n",
              "      </script>\n",
              "    </div>\n",
              "  </div>\n",
              "  "
            ],
            "text/plain": [
              "                   id piece\n",
              "0     f8246013957.jpg     0\n",
              "1     f8721645039.jpg     0\n",
              "2     f5703841296.jpg     0\n",
              "3     f3816792504.jpg     0\n",
              "4     f0497621853.jpg     0\n",
              "...               ...   ...\n",
              "1147  f9507231684.jpg     0\n",
              "1148  f3426579108.jpg     1\n",
              "1149  f3896425710.jpg     0\n",
              "1150  f1890264357.jpg     0\n",
              "1151  f3104298657.jpg     0\n",
              "\n",
              "[1152 rows x 2 columns]"
            ]
          },
          "metadata": {},
          "execution_count": 7
        }
      ]
    },
    {
      "cell_type": "markdown",
      "source": [
        ""
      ],
      "metadata": {
        "id": "WdA96xikbJej"
      }
    },
    {
      "cell_type": "markdown",
      "source": [
        "#### Label Mapping"
      ],
      "metadata": {
        "id": "S0ooo4HmsebP"
      }
    },
    {
      "cell_type": "code",
      "source": [
        "piece_num_to_name = {\n",
        "      0 : 'Empty',\n",
        "      1 : 'Pawn',\n",
        "      2 : 'Bishop',\n",
        "      3 : 'Knight',\n",
        "      4 : 'Rook',\n",
        "      5 : 'Queen',\n",
        "      6 : 'King'\n",
        "}"
      ],
      "metadata": {
        "id": "W_i5ImxjsgQo"
      },
      "execution_count": 8,
      "outputs": []
    },
    {
      "cell_type": "markdown",
      "source": [
        "#### Makes the dataset uniform"
      ],
      "metadata": {
        "id": "y59LSK2ltuBZ"
      }
    },
    {
      "cell_type": "code",
      "source": [
        "def uniform(dataframe):\n",
        "  dic = {}\n",
        "  df = dataframe.sample(frac=1)\n",
        "  for i in df['piece']:\n",
        "    if i not in dic:\n",
        "      dic[i] = dic.get(i, 0)\n",
        "    else:\n",
        "      dic[i] += 1\n",
        "  min_key = min(dic, key=dic.get)\n",
        "  minimum = dic.get(min_key)\n",
        "  dic2 = {}\n",
        "  new = pd.DataFrame(columns = ['id', 'piece'])\n",
        "  for j in df['piece']:\n",
        "    if j not in dic2:\n",
        "      pholder = df.loc[df['piece']==j]\n",
        "      pholder = pholder[:minimum]\n",
        "      new = pd.concat([new,pholder], ignore_index=True)\n",
        "      dic2[j] = dic2.get(j,0)\n",
        "  return new\n",
        "\n",
        "dataset = uniform(dataset)"
      ],
      "metadata": {
        "id": "5du1GElkty1b"
      },
      "execution_count": 9,
      "outputs": []
    },
    {
      "cell_type": "markdown",
      "source": [
        "#### Split Dataset Into Train, Validation, Test"
      ],
      "metadata": {
        "id": "_btmqt7Cj7VW"
      }
    },
    {
      "cell_type": "code",
      "source": [
        "np.random.seed(123)\n",
        "\n",
        "\n",
        "def data_split(N, ratio=[7, 2, 1]):\n",
        "  shuffle_idx = np.arange(N)\n",
        "  np.random.shuffle(shuffle_idx)\n",
        "  data_split = (np.cumsum(ratio)/float(sum(ratio))*N).astype(int)\n",
        "  out_idx = [None] * len(ratio)\n",
        "  out_idx[0] = shuffle_idx[:data_split[0]]\n",
        "  for i in range(1,len(ratio)):\n",
        "    out_idx[i] = shuffle_idx[data_split[i-1] : data_split[i]]\n",
        "  return out_idx  \n",
        "\n",
        "\n",
        "split_idx = data_split(len(dataset))\n",
        "df_train = dataset.loc[split_idx[0]]\n",
        "df_valid = dataset.loc[split_idx[1]]\n",
        "df_test = dataset.loc[split_idx[2]]"
      ],
      "metadata": {
        "id": "RettlkNL1wcj"
      },
      "execution_count": 10,
      "outputs": []
    },
    {
      "cell_type": "markdown",
      "source": [
        "#### Create a Dataloader for each dataset"
      ],
      "metadata": {
        "id": "_rc_FezrkLVy"
      }
    },
    {
      "cell_type": "code",
      "source": [
        "class ChessDataset(Dataset):\n",
        "    def __init__(self, root_dir, df, transforms=None):\n",
        "        self.root_dir = root_dir\n",
        "        self.df = df\n",
        "        self.file_names = df['id'].values\n",
        "        self.targets = df['piece'].values\n",
        "        self.transforms = transforms\n",
        "    def __len__(self):\n",
        "        return len(self.df)\n",
        "    def __getitem__(self, index):\n",
        "        img_path = self.root_dir + self.file_names[index]\n",
        "        img = Image.open(img_path)\n",
        "        if self.transforms:\n",
        "            img = self.transforms(img)\n",
        "        target = self.targets[index]\n",
        "        return img, target\n",
        "\n",
        "\n",
        "transform_train = transforms.Compose([\n",
        "    transforms.Resize(256),\n",
        "    transforms.RandomCrop(224),\n",
        "    transforms.RandomHorizontalFlip(),\n",
        "    transforms.ToTensor(),\n",
        "    transforms.Grayscale(3)\n",
        "    # transforms.Normalize([0.485, 0.456, 0.406], [0.229, 0.224, 0.225])\n",
        "])\n",
        "transform_test = transforms.Compose([\n",
        "    transforms.Resize(256),\n",
        "    transforms.CenterCrop(224),\n",
        "    transforms.ToTensor(),\n",
        "    transforms.Grayscale(3)\n",
        "    # transforms.Normalize([0.485, 0.456, 0.406], [0.229, 0.224, 0.225])\n",
        "])\n",
        "\n",
        "\n",
        "train_dataset = ChessDataset(foldername, df_train, transforms=transform_train)\n",
        "valid_dataset = ChessDataset(foldername, df_valid, transforms=transform_test)\n",
        "test_dataset = ChessDataset(foldername, df_test, transforms=transform_test)\n",
        "\n",
        "\n",
        "train_loader = torch.utils.data.DataLoader(train_dataset, batch_size=8, shuffle=True)\n",
        "valid_loader = torch.utils.data.DataLoader(valid_dataset, batch_size=8, shuffle=True)\n",
        "test_loader = torch.utils.data.DataLoader(test_dataset, batch_size=8, shuffle=True)  "
      ],
      "metadata": {
        "id": "oZmMm2pJkRKo"
      },
      "execution_count": 11,
      "outputs": []
    },
    {
      "cell_type": "code",
      "source": [
        "x = train_dataset[5][0]\n",
        "\n",
        "plt.imshow(x.permute(1, 2, 0))\n",
        "\n",
        "train_dataset[5]"
      ],
      "metadata": {
        "colab": {
          "base_uri": "https://localhost:8080/",
          "height": 668
        },
        "id": "dLT59OmMK21J",
        "outputId": "b9de33ec-2e24-41ea-eff8-354ce848c603"
      },
      "execution_count": 12,
      "outputs": [
        {
          "output_type": "execute_result",
          "data": {
            "text/plain": [
              "(tensor([[[0.6899, 0.4379, 0.0733,  ..., 0.1245, 0.1342, 0.1398],\n",
              "          [0.6820, 0.4323, 0.0705,  ..., 0.1167, 0.1225, 0.1441],\n",
              "          [0.6816, 0.4323, 0.0693,  ..., 0.1285, 0.1241, 0.1363],\n",
              "          ...,\n",
              "          [0.7319, 0.7556, 0.7381,  ..., 0.1218, 0.1296, 0.1335],\n",
              "          [0.7236, 0.7521, 0.7504,  ..., 0.1139, 0.1139, 0.1139],\n",
              "          [0.7315, 0.7689, 0.7504,  ..., 0.1021, 0.1021, 0.1021]],\n",
              " \n",
              "         [[0.6899, 0.4379, 0.0733,  ..., 0.1245, 0.1342, 0.1398],\n",
              "          [0.6820, 0.4323, 0.0705,  ..., 0.1167, 0.1225, 0.1441],\n",
              "          [0.6816, 0.4323, 0.0693,  ..., 0.1285, 0.1241, 0.1363],\n",
              "          ...,\n",
              "          [0.7319, 0.7556, 0.7381,  ..., 0.1218, 0.1296, 0.1335],\n",
              "          [0.7236, 0.7521, 0.7504,  ..., 0.1139, 0.1139, 0.1139],\n",
              "          [0.7315, 0.7689, 0.7504,  ..., 0.1021, 0.1021, 0.1021]],\n",
              " \n",
              "         [[0.6899, 0.4379, 0.0733,  ..., 0.1245, 0.1342, 0.1398],\n",
              "          [0.6820, 0.4323, 0.0705,  ..., 0.1167, 0.1225, 0.1441],\n",
              "          [0.6816, 0.4323, 0.0693,  ..., 0.1285, 0.1241, 0.1363],\n",
              "          ...,\n",
              "          [0.7319, 0.7556, 0.7381,  ..., 0.1218, 0.1296, 0.1335],\n",
              "          [0.7236, 0.7521, 0.7504,  ..., 0.1139, 0.1139, 0.1139],\n",
              "          [0.7315, 0.7689, 0.7504,  ..., 0.1021, 0.1021, 0.1021]]]), 6)"
            ]
          },
          "metadata": {},
          "execution_count": 12
        },
        {
          "output_type": "display_data",
          "data": {
            "image/png": "[encoded data removed]",
            "text/plain": [
              "<Figure size 432x288 with 1 Axes>"
            ]
          },
          "metadata": {
            "needs_background": "light"
          }
        }
      ]
    },
    {
      "cell_type": "markdown",
      "source": [
        "# Model"
      ],
      "metadata": {
        "id": "lcuz17ZDeXHC"
      }
    },
    {
      "cell_type": "markdown",
      "source": [
        "#### Creates a Model"
      ],
      "metadata": {
        "id": "A0N1_0WGmXtJ"
      }
    },
    {
      "cell_type": "code",
      "source": [
        "model = models.vgg16()\n",
        "classifier = torch.nn.Sequential(OrderedDict([('fc1', torch.nn.Linear(25088, 5000)),\n",
        "                                        ('relu', torch.nn.ReLU()),\n",
        "                                        ('drop', torch.nn.Dropout(p=0.5)),\n",
        "                                        ('fc2', torch.nn.Linear(5000, 7)),\n",
        "                                        ('output', torch.nn.LogSoftmax(dim=1))]))\n",
        "model.classifier = classifier"
      ],
      "metadata": {
        "id": "6G9_smkXmbd3"
      },
      "execution_count": 13,
      "outputs": []
    },
    {
      "cell_type": "markdown",
      "source": [
        "#### Sets up GPU or CPU"
      ],
      "metadata": {
        "id": "Wd0hhnvMnWXC"
      }
    },
    {
      "cell_type": "code",
      "source": [
        "device = 'cuda' if torch.cuda.is_available() else 'cpu'\n",
        "# device = 'cpu'\n",
        "print(f'Using {device} device')"
      ],
      "metadata": {
        "id": "tCX1wm2xm_BY",
        "colab": {
          "base_uri": "https://localhost:8080/"
        },
        "outputId": "4bfb1fab-48a0-48f7-ba78-168418793a6c"
      },
      "execution_count": 14,
      "outputs": [
        {
          "output_type": "stream",
          "name": "stdout",
          "text": [
            "Using cuda device\n"
          ]
        }
      ]
    },
    {
      "cell_type": "markdown",
      "source": [
        "#### Optimizer and Loss"
      ],
      "metadata": {
        "id": "1_jio_fNm0UF"
      }
    },
    {
      "cell_type": "code",
      "source": [
        "criterion = torch.nn.NLLLoss()\n",
        "optimizer = torch.optim.SGD(model.parameters(), lr=.001, momentum=0.9)\n",
        "model.to(device)"
      ],
      "metadata": {
        "id": "lsy2pdnEnzl0",
        "colab": {
          "base_uri": "https://localhost:8080/"
        },
        "outputId": "78ec57ce-1acb-4e8f-a1e6-45ff86e1bdcf"
      },
      "execution_count": 15,
      "outputs": [
        {
          "output_type": "execute_result",
          "data": {
            "text/plain": [
              "VGG(\n",
              "  (features): Sequential(\n",
              "    (0): Conv2d(3, 64, kernel_size=(3, 3), stride=(1, 1), padding=(1, 1))\n",
              "    (1): ReLU(inplace=True)\n",
              "    (2): Conv2d(64, 64, kernel_size=(3, 3), stride=(1, 1), padding=(1, 1))\n",
              "    (3): ReLU(inplace=True)\n",
              "    (4): MaxPool2d(kernel_size=2, stride=2, padding=0, dilation=1, ceil_mode=False)\n",
              "    (5): Conv2d(64, 128, kernel_size=(3, 3), stride=(1, 1), padding=(1, 1))\n",
              "    (6): ReLU(inplace=True)\n",
              "    (7): Conv2d(128, 128, kernel_size=(3, 3), stride=(1, 1), padding=(1, 1))\n",
              "    (8): ReLU(inplace=True)\n",
              "    (9): MaxPool2d(kernel_size=2, stride=2, padding=0, dilation=1, ceil_mode=False)\n",
              "    (10): Conv2d(128, 256, kernel_size=(3, 3), stride=(1, 1), padding=(1, 1))\n",
              "    (11): ReLU(inplace=True)\n",
              "    (12): Conv2d(256, 256, kernel_size=(3, 3), stride=(1, 1), padding=(1, 1))\n",
              "    (13): ReLU(inplace=True)\n",
              "    (14): Conv2d(256, 256, kernel_size=(3, 3), stride=(1, 1), padding=(1, 1))\n",
              "    (15): ReLU(inplace=True)\n",
              "    (16): MaxPool2d(kernel_size=2, stride=2, padding=0, dilation=1, ceil_mode=False)\n",
              "    (17): Conv2d(256, 512, kernel_size=(3, 3), stride=(1, 1), padding=(1, 1))\n",
              "    (18): ReLU(inplace=True)\n",
              "    (19): Conv2d(512, 512, kernel_size=(3, 3), stride=(1, 1), padding=(1, 1))\n",
              "    (20): ReLU(inplace=True)\n",
              "    (21): Conv2d(512, 512, kernel_size=(3, 3), stride=(1, 1), padding=(1, 1))\n",
              "    (22): ReLU(inplace=True)\n",
              "    (23): MaxPool2d(kernel_size=2, stride=2, padding=0, dilation=1, ceil_mode=False)\n",
              "    (24): Conv2d(512, 512, kernel_size=(3, 3), stride=(1, 1), padding=(1, 1))\n",
              "    (25): ReLU(inplace=True)\n",
              "    (26): Conv2d(512, 512, kernel_size=(3, 3), stride=(1, 1), padding=(1, 1))\n",
              "    (27): ReLU(inplace=True)\n",
              "    (28): Conv2d(512, 512, kernel_size=(3, 3), stride=(1, 1), padding=(1, 1))\n",
              "    (29): ReLU(inplace=True)\n",
              "    (30): MaxPool2d(kernel_size=2, stride=2, padding=0, dilation=1, ceil_mode=False)\n",
              "  )\n",
              "  (avgpool): AdaptiveAvgPool2d(output_size=(7, 7))\n",
              "  (classifier): Sequential(\n",
              "    (fc1): Linear(in_features=25088, out_features=5000, bias=True)\n",
              "    (relu): ReLU()\n",
              "    (drop): Dropout(p=0.5, inplace=False)\n",
              "    (fc2): Linear(in_features=5000, out_features=7, bias=True)\n",
              "    (output): LogSoftmax(dim=1)\n",
              "  )\n",
              ")"
            ]
          },
          "metadata": {},
          "execution_count": 15
        }
      ]
    },
    {
      "cell_type": "markdown",
      "source": [
        "#### Fuction for Validation Pass"
      ],
      "metadata": {
        "id": "O0-zhL-1mn_D"
      }
    },
    {
      "cell_type": "code",
      "source": [
        "def validation(model, validateloader, criterion):    \n",
        "    val_loss = 0\n",
        "    accuracy = 0\n",
        "    for images, labels in iter(validateloader):\n",
        "        images, labels = images.to(device), labels.to(device)\n",
        "        output = model.forward(images)\n",
        "        val_loss += criterion(output, labels).item()\n",
        "        probabilities = torch.exp(output)\n",
        "        equality = (labels.data == probabilities.max(dim=1)[1])\n",
        "        accuracy += equality.type(torch.FloatTensor).mean()\n",
        "    return val_loss, accuracy"
      ],
      "metadata": {
        "id": "k9XvKMxg3Erz"
      },
      "execution_count": 16,
      "outputs": []
    },
    {
      "cell_type": "markdown",
      "source": [
        "#### Training the classifier"
      ],
      "metadata": {
        "id": "2WGd1A-ooO3A"
      }
    },
    {
      "cell_type": "code",
      "source": [
        "def train_classifier():\n",
        "        \n",
        "        epochs = 300\n",
        "        steps = 0\n",
        "        print_every = 10\n",
        "        model.to(device)\n",
        "        for e in range(epochs):\n",
        "            model.train()\n",
        "            running_loss = 0\n",
        "            for images, labels in iter(train_loader):\n",
        "                steps += 1\n",
        "                images, labels = images.to(device), labels.to(device)\n",
        "                optimizer.zero_grad()\n",
        "                output = model.forward(images)\n",
        "                loss = criterion(output, labels)\n",
        "                loss.backward()\n",
        "                optimizer.step()\n",
        "                running_loss += loss.item()\n",
        "                if steps % print_every == 0:\n",
        "                    model.eval()\n",
        "                \n",
        "                    # Turn off gradients for validation, saves memory and computations\n",
        "                    with torch.no_grad():\n",
        "                        validation_loss, accuracy = validation(model, valid_loader, criterion)\n",
        "            \n",
        "                    print(\"Epoch: {}/{}.. \".format(e+1, epochs),\n",
        "                          \"Training Loss: {:.3f}.. \".format(running_loss/print_every),\n",
        "                          \"Validation Loss: {:.3f}.. \".format(validation_loss/len(valid_loader)),\n",
        "                          \"Validation Accuracy: {:.3f}\".format(accuracy/len(valid_loader)))\n",
        "            \n",
        "                    running_loss = 0\n",
        "                    model.train()\n",
        "                    \n",
        "train_classifier()                    "
      ],
      "metadata": {
        "id": "FIh46DSPMzRt",
        "colab": {
          "base_uri": "https://localhost:8080/"
        },
        "outputId": "3af79440-51fe-411b-b1bf-368b8bdcdf5e"
      },
      "execution_count": 17,
      "outputs": [
        {
          "output_type": "stream",
          "name": "stdout",
          "text": [
            "Epoch: 1/300..  Training Loss: 1.945..  Validation Loss: 1.949..  Validation Accuracy: 0.089\n",
            "Epoch: 1/300..  Training Loss: 1.947..  Validation Loss: 1.948..  Validation Accuracy: 0.089\n",
            "Epoch: 2/300..  Training Loss: 1.555..  Validation Loss: 1.948..  Validation Accuracy: 0.125\n",
            "Epoch: 2/300..  Training Loss: 1.947..  Validation Loss: 1.943..  Validation Accuracy: 0.107\n",
            "Epoch: 3/300..  Training Loss: 1.167..  Validation Loss: 1.939..  Validation Accuracy: 0.107\n",
            "Epoch: 3/300..  Training Loss: 1.945..  Validation Loss: 1.945..  Validation Accuracy: 0.107\n",
            "Epoch: 4/300..  Training Loss: 0.783..  Validation Loss: 1.949..  Validation Accuracy: 0.107\n",
            "Epoch: 4/300..  Training Loss: 1.932..  Validation Loss: 1.932..  Validation Accuracy: 0.232\n",
            "Epoch: 5/300..  Training Loss: 0.391..  Validation Loss: 1.946..  Validation Accuracy: 0.196\n",
            "Epoch: 5/300..  Training Loss: 1.935..  Validation Loss: 1.927..  Validation Accuracy: 0.250\n",
            "Epoch: 5/300..  Training Loss: 1.940..  Validation Loss: 1.920..  Validation Accuracy: 0.143\n",
            "Epoch: 6/300..  Training Loss: 1.928..  Validation Loss: 1.927..  Validation Accuracy: 0.107\n",
            "Epoch: 6/300..  Training Loss: 1.932..  Validation Loss: 1.916..  Validation Accuracy: 0.250\n",
            "Epoch: 7/300..  Training Loss: 1.534..  Validation Loss: 1.925..  Validation Accuracy: 0.143\n",
            "Epoch: 7/300..  Training Loss: 1.943..  Validation Loss: 1.933..  Validation Accuracy: 0.214\n",
            "Epoch: 8/300..  Training Loss: 1.155..  Validation Loss: 1.920..  Validation Accuracy: 0.125\n",
            "Epoch: 8/300..  Training Loss: 1.918..  Validation Loss: 1.924..  Validation Accuracy: 0.125\n",
            "Epoch: 9/300..  Training Loss: 0.763..  Validation Loss: 1.905..  Validation Accuracy: 0.411\n",
            "Epoch: 9/300..  Training Loss: 1.927..  Validation Loss: 1.911..  Validation Accuracy: 0.232\n",
            "Epoch: 10/300..  Training Loss: 0.386..  Validation Loss: 1.914..  Validation Accuracy: 0.232\n",
            "Epoch: 10/300..  Training Loss: 1.901..  Validation Loss: 1.903..  Validation Accuracy: 0.179\n",
            "Epoch: 10/300..  Training Loss: 1.909..  Validation Loss: 1.886..  Validation Accuracy: 0.125\n",
            "Epoch: 11/300..  Training Loss: 1.885..  Validation Loss: 1.866..  Validation Accuracy: 0.179\n",
            "Epoch: 11/300..  Training Loss: 1.909..  Validation Loss: 1.932..  Validation Accuracy: 0.179\n",
            "Epoch: 12/300..  Training Loss: 1.533..  Validation Loss: 1.936..  Validation Accuracy: 0.143\n",
            "Epoch: 12/300..  Training Loss: 1.914..  Validation Loss: 1.883..  Validation Accuracy: 0.268\n",
            "Epoch: 13/300..  Training Loss: 1.119..  Validation Loss: 1.891..  Validation Accuracy: 0.232\n",
            "Epoch: 13/300..  Training Loss: 1.897..  Validation Loss: 1.902..  Validation Accuracy: 0.161\n",
            "Epoch: 14/300..  Training Loss: 0.711..  Validation Loss: 1.872..  Validation Accuracy: 0.143\n",
            "Epoch: 14/300..  Training Loss: 1.922..  Validation Loss: 1.840..  Validation Accuracy: 0.232\n",
            "Epoch: 15/300..  Training Loss: 0.382..  Validation Loss: 1.966..  Validation Accuracy: 0.214\n",
            "Epoch: 15/300..  Training Loss: 1.804..  Validation Loss: 1.831..  Validation Accuracy: 0.321\n",
            "Epoch: 15/300..  Training Loss: 1.917..  Validation Loss: 1.942..  Validation Accuracy: 0.161\n",
            "Epoch: 16/300..  Training Loss: 1.890..  Validation Loss: 1.886..  Validation Accuracy: 0.286\n",
            "Epoch: 16/300..  Training Loss: 1.858..  Validation Loss: 1.865..  Validation Accuracy: 0.214\n",
            "Epoch: 17/300..  Training Loss: 1.419..  Validation Loss: 2.004..  Validation Accuracy: 0.161\n",
            "Epoch: 17/300..  Training Loss: 1.884..  Validation Loss: 1.767..  Validation Accuracy: 0.339\n",
            "Epoch: 18/300..  Training Loss: 1.124..  Validation Loss: 1.828..  Validation Accuracy: 0.179\n",
            "Epoch: 18/300..  Training Loss: 1.803..  Validation Loss: 1.809..  Validation Accuracy: 0.196\n",
            "Epoch: 19/300..  Training Loss: 0.696..  Validation Loss: 1.881..  Validation Accuracy: 0.250\n",
            "Epoch: 19/300..  Training Loss: 1.678..  Validation Loss: 1.891..  Validation Accuracy: 0.268\n",
            "Epoch: 20/300..  Training Loss: 0.379..  Validation Loss: 2.018..  Validation Accuracy: 0.143\n",
            "Epoch: 20/300..  Training Loss: 1.965..  Validation Loss: 1.977..  Validation Accuracy: 0.089\n",
            "Epoch: 20/300..  Training Loss: 1.936..  Validation Loss: 1.938..  Validation Accuracy: 0.089\n",
            "Epoch: 21/300..  Training Loss: 1.923..  Validation Loss: 1.918..  Validation Accuracy: 0.268\n",
            "Epoch: 21/300..  Training Loss: 1.890..  Validation Loss: 1.861..  Validation Accuracy: 0.250\n",
            "Epoch: 22/300..  Training Loss: 1.429..  Validation Loss: 1.981..  Validation Accuracy: 0.143\n",
            "Epoch: 22/300..  Training Loss: 1.873..  Validation Loss: 1.852..  Validation Accuracy: 0.196\n",
            "Epoch: 23/300..  Training Loss: 1.053..  Validation Loss: 1.751..  Validation Accuracy: 0.179\n",
            "Epoch: 23/300..  Training Loss: 1.832..  Validation Loss: 1.850..  Validation Accuracy: 0.268\n",
            "Epoch: 24/300..  Training Loss: 0.723..  Validation Loss: 1.795..  Validation Accuracy: 0.214\n",
            "Epoch: 24/300..  Training Loss: 1.787..  Validation Loss: 1.808..  Validation Accuracy: 0.250\n",
            "Epoch: 25/300..  Training Loss: 0.376..  Validation Loss: 1.920..  Validation Accuracy: 0.214\n",
            "Epoch: 25/300..  Training Loss: 1.782..  Validation Loss: 1.891..  Validation Accuracy: 0.179\n",
            "Epoch: 25/300..  Training Loss: 1.763..  Validation Loss: 1.678..  Validation Accuracy: 0.411\n",
            "Epoch: 26/300..  Training Loss: 1.661..  Validation Loss: 1.852..  Validation Accuracy: 0.268\n",
            "Epoch: 26/300..  Training Loss: 1.701..  Validation Loss: 1.815..  Validation Accuracy: 0.304\n",
            "Epoch: 27/300..  Training Loss: 1.213..  Validation Loss: 2.013..  Validation Accuracy: 0.304\n",
            "Epoch: 27/300..  Training Loss: 1.763..  Validation Loss: 1.824..  Validation Accuracy: 0.250\n",
            "Epoch: 28/300..  Training Loss: 0.943..  Validation Loss: 1.701..  Validation Accuracy: 0.429\n",
            "Epoch: 28/300..  Training Loss: 1.670..  Validation Loss: 1.681..  Validation Accuracy: 0.357\n",
            "Epoch: 29/300..  Training Loss: 0.620..  Validation Loss: 1.663..  Validation Accuracy: 0.232\n",
            "Epoch: 29/300..  Training Loss: 1.584..  Validation Loss: 1.766..  Validation Accuracy: 0.286\n",
            "Epoch: 30/300..  Training Loss: 0.351..  Validation Loss: 1.797..  Validation Accuracy: 0.250\n",
            "Epoch: 30/300..  Training Loss: 1.457..  Validation Loss: 1.548..  Validation Accuracy: 0.339\n",
            "Epoch: 30/300..  Training Loss: 1.653..  Validation Loss: 1.715..  Validation Accuracy: 0.321\n",
            "Epoch: 31/300..  Training Loss: 1.592..  Validation Loss: 1.825..  Validation Accuracy: 0.250\n",
            "Epoch: 31/300..  Training Loss: 1.589..  Validation Loss: 1.744..  Validation Accuracy: 0.268\n",
            "Epoch: 32/300..  Training Loss: 1.214..  Validation Loss: 1.569..  Validation Accuracy: 0.357\n",
            "Epoch: 32/300..  Training Loss: 1.540..  Validation Loss: 1.629..  Validation Accuracy: 0.339\n",
            "Epoch: 33/300..  Training Loss: 0.827..  Validation Loss: 1.747..  Validation Accuracy: 0.339\n",
            "Epoch: 33/300..  Training Loss: 1.487..  Validation Loss: 1.888..  Validation Accuracy: 0.232\n",
            "Epoch: 34/300..  Training Loss: 0.649..  Validation Loss: 1.669..  Validation Accuracy: 0.250\n",
            "Epoch: 34/300..  Training Loss: 1.490..  Validation Loss: 1.771..  Validation Accuracy: 0.286\n",
            "Epoch: 35/300..  Training Loss: 0.289..  Validation Loss: 1.714..  Validation Accuracy: 0.232\n",
            "Epoch: 35/300..  Training Loss: 1.416..  Validation Loss: 1.712..  Validation Accuracy: 0.268\n",
            "Epoch: 35/300..  Training Loss: 1.699..  Validation Loss: 1.541..  Validation Accuracy: 0.446\n",
            "Epoch: 36/300..  Training Loss: 1.563..  Validation Loss: 1.749..  Validation Accuracy: 0.196\n",
            "Epoch: 36/300..  Training Loss: 1.409..  Validation Loss: 1.685..  Validation Accuracy: 0.232\n",
            "Epoch: 37/300..  Training Loss: 1.227..  Validation Loss: 1.906..  Validation Accuracy: 0.250\n",
            "Epoch: 37/300..  Training Loss: 1.432..  Validation Loss: 1.808..  Validation Accuracy: 0.357\n",
            "Epoch: 38/300..  Training Loss: 0.767..  Validation Loss: 1.590..  Validation Accuracy: 0.393\n",
            "Epoch: 38/300..  Training Loss: 1.417..  Validation Loss: 1.947..  Validation Accuracy: 0.161\n",
            "Epoch: 39/300..  Training Loss: 0.527..  Validation Loss: 1.677..  Validation Accuracy: 0.411\n",
            "Epoch: 39/300..  Training Loss: 1.392..  Validation Loss: 1.664..  Validation Accuracy: 0.321\n",
            "Epoch: 40/300..  Training Loss: 0.258..  Validation Loss: 1.635..  Validation Accuracy: 0.375\n",
            "Epoch: 40/300..  Training Loss: 1.304..  Validation Loss: 1.757..  Validation Accuracy: 0.214\n",
            "Epoch: 40/300..  Training Loss: 1.218..  Validation Loss: 1.890..  Validation Accuracy: 0.411\n",
            "Epoch: 41/300..  Training Loss: 1.338..  Validation Loss: 1.940..  Validation Accuracy: 0.339\n",
            "Epoch: 41/300..  Training Loss: 1.353..  Validation Loss: 1.764..  Validation Accuracy: 0.232\n",
            "Epoch: 42/300..  Training Loss: 0.897..  Validation Loss: 1.752..  Validation Accuracy: 0.232\n",
            "Epoch: 42/300..  Training Loss: 1.391..  Validation Loss: 1.868..  Validation Accuracy: 0.232\n",
            "Epoch: 43/300..  Training Loss: 0.840..  Validation Loss: 1.900..  Validation Accuracy: 0.179\n",
            "Epoch: 43/300..  Training Loss: 1.177..  Validation Loss: 1.972..  Validation Accuracy: 0.268\n",
            "Epoch: 44/300..  Training Loss: 0.566..  Validation Loss: 1.644..  Validation Accuracy: 0.375\n",
            "Epoch: 44/300..  Training Loss: 1.315..  Validation Loss: 1.595..  Validation Accuracy: 0.429\n",
            "Epoch: 45/300..  Training Loss: 0.258..  Validation Loss: 1.830..  Validation Accuracy: 0.196\n",
            "Epoch: 45/300..  Training Loss: 1.225..  Validation Loss: 1.682..  Validation Accuracy: 0.250\n",
            "Epoch: 45/300..  Training Loss: 1.147..  Validation Loss: 1.771..  Validation Accuracy: 0.268\n",
            "Epoch: 46/300..  Training Loss: 1.420..  Validation Loss: 1.587..  Validation Accuracy: 0.339\n",
            "Epoch: 46/300..  Training Loss: 1.145..  Validation Loss: 1.496..  Validation Accuracy: 0.446\n",
            "Epoch: 47/300..  Training Loss: 0.876..  Validation Loss: 1.723..  Validation Accuracy: 0.321\n",
            "Epoch: 47/300..  Training Loss: 1.111..  Validation Loss: 1.704..  Validation Accuracy: 0.286\n",
            "Epoch: 48/300..  Training Loss: 0.778..  Validation Loss: 1.547..  Validation Accuracy: 0.268\n",
            "Epoch: 48/300..  Training Loss: 1.249..  Validation Loss: 1.459..  Validation Accuracy: 0.464\n",
            "Epoch: 49/300..  Training Loss: 0.329..  Validation Loss: 1.564..  Validation Accuracy: 0.464\n",
            "Epoch: 49/300..  Training Loss: 1.173..  Validation Loss: 1.567..  Validation Accuracy: 0.482\n",
            "Epoch: 50/300..  Training Loss: 0.184..  Validation Loss: 1.508..  Validation Accuracy: 0.464\n",
            "Epoch: 50/300..  Training Loss: 1.204..  Validation Loss: 1.775..  Validation Accuracy: 0.321\n",
            "Epoch: 50/300..  Training Loss: 0.918..  Validation Loss: 2.581..  Validation Accuracy: 0.321\n",
            "Epoch: 51/300..  Training Loss: 1.119..  Validation Loss: 2.114..  Validation Accuracy: 0.357\n",
            "Epoch: 51/300..  Training Loss: 1.119..  Validation Loss: 1.553..  Validation Accuracy: 0.500\n",
            "Epoch: 52/300..  Training Loss: 0.975..  Validation Loss: 2.072..  Validation Accuracy: 0.339\n",
            "Epoch: 52/300..  Training Loss: 1.080..  Validation Loss: 1.732..  Validation Accuracy: 0.446\n",
            "Epoch: 53/300..  Training Loss: 0.632..  Validation Loss: 1.682..  Validation Accuracy: 0.500\n",
            "Epoch: 53/300..  Training Loss: 1.038..  Validation Loss: 1.677..  Validation Accuracy: 0.464\n",
            "Epoch: 54/300..  Training Loss: 0.267..  Validation Loss: 1.803..  Validation Accuracy: 0.411\n",
            "Epoch: 54/300..  Training Loss: 0.848..  Validation Loss: 1.634..  Validation Accuracy: 0.464\n",
            "Epoch: 55/300..  Training Loss: 0.249..  Validation Loss: 1.516..  Validation Accuracy: 0.429\n",
            "Epoch: 55/300..  Training Loss: 0.968..  Validation Loss: 1.662..  Validation Accuracy: 0.464\n",
            "Epoch: 55/300..  Training Loss: 1.029..  Validation Loss: 2.082..  Validation Accuracy: 0.321\n",
            "Epoch: 56/300..  Training Loss: 1.056..  Validation Loss: 1.785..  Validation Accuracy: 0.464\n",
            "Epoch: 56/300..  Training Loss: 0.967..  Validation Loss: 1.594..  Validation Accuracy: 0.464\n",
            "Epoch: 57/300..  Training Loss: 0.689..  Validation Loss: 1.983..  Validation Accuracy: 0.286\n",
            "Epoch: 57/300..  Training Loss: 0.875..  Validation Loss: 1.813..  Validation Accuracy: 0.357\n",
            "Epoch: 58/300..  Training Loss: 0.601..  Validation Loss: 1.736..  Validation Accuracy: 0.375\n",
            "Epoch: 58/300..  Training Loss: 0.811..  Validation Loss: 2.321..  Validation Accuracy: 0.375\n",
            "Epoch: 59/300..  Training Loss: 0.407..  Validation Loss: 1.585..  Validation Accuracy: 0.536\n",
            "Epoch: 59/300..  Training Loss: 0.868..  Validation Loss: 2.596..  Validation Accuracy: 0.339\n",
            "Epoch: 60/300..  Training Loss: 0.160..  Validation Loss: 1.617..  Validation Accuracy: 0.446\n",
            "Epoch: 60/300..  Training Loss: 0.762..  Validation Loss: 2.379..  Validation Accuracy: 0.339\n",
            "Epoch: 60/300..  Training Loss: 1.024..  Validation Loss: 1.814..  Validation Accuracy: 0.339\n",
            "Epoch: 61/300..  Training Loss: 0.894..  Validation Loss: 1.660..  Validation Accuracy: 0.411\n",
            "Epoch: 61/300..  Training Loss: 0.987..  Validation Loss: 1.652..  Validation Accuracy: 0.339\n",
            "Epoch: 62/300..  Training Loss: 0.643..  Validation Loss: 2.219..  Validation Accuracy: 0.339\n",
            "Epoch: 62/300..  Training Loss: 0.950..  Validation Loss: 1.700..  Validation Accuracy: 0.482\n",
            "Epoch: 63/300..  Training Loss: 0.486..  Validation Loss: 1.622..  Validation Accuracy: 0.446\n",
            "Epoch: 63/300..  Training Loss: 0.787..  Validation Loss: 1.700..  Validation Accuracy: 0.429\n",
            "Epoch: 64/300..  Training Loss: 0.332..  Validation Loss: 3.586..  Validation Accuracy: 0.250\n",
            "Epoch: 64/300..  Training Loss: 0.793..  Validation Loss: 1.567..  Validation Accuracy: 0.500\n",
            "Epoch: 65/300..  Training Loss: 0.081..  Validation Loss: 1.940..  Validation Accuracy: 0.321\n",
            "Epoch: 65/300..  Training Loss: 0.761..  Validation Loss: 2.173..  Validation Accuracy: 0.321\n",
            "Epoch: 65/300..  Training Loss: 0.728..  Validation Loss: 2.394..  Validation Accuracy: 0.304\n",
            "Epoch: 66/300..  Training Loss: 0.738..  Validation Loss: 2.112..  Validation Accuracy: 0.304\n",
            "Epoch: 66/300..  Training Loss: 0.607..  Validation Loss: 1.919..  Validation Accuracy: 0.429\n",
            "Epoch: 67/300..  Training Loss: 0.454..  Validation Loss: 2.352..  Validation Accuracy: 0.393\n",
            "Epoch: 67/300..  Training Loss: 0.785..  Validation Loss: 2.418..  Validation Accuracy: 0.250\n",
            "Epoch: 68/300..  Training Loss: 0.583..  Validation Loss: 2.438..  Validation Accuracy: 0.321\n",
            "Epoch: 68/300..  Training Loss: 0.898..  Validation Loss: 1.558..  Validation Accuracy: 0.304\n",
            "Epoch: 69/300..  Training Loss: 0.247..  Validation Loss: 1.906..  Validation Accuracy: 0.304\n",
            "Epoch: 69/300..  Training Loss: 0.902..  Validation Loss: 1.537..  Validation Accuracy: 0.500\n",
            "Epoch: 70/300..  Training Loss: 0.060..  Validation Loss: 2.201..  Validation Accuracy: 0.357\n",
            "Epoch: 70/300..  Training Loss: 0.580..  Validation Loss: 2.560..  Validation Accuracy: 0.357\n",
            "Epoch: 70/300..  Training Loss: 0.625..  Validation Loss: 2.445..  Validation Accuracy: 0.304\n",
            "Epoch: 71/300..  Training Loss: 0.891..  Validation Loss: 2.440..  Validation Accuracy: 0.304\n",
            "Epoch: 71/300..  Training Loss: 0.866..  Validation Loss: 1.661..  Validation Accuracy: 0.429\n",
            "Epoch: 72/300..  Training Loss: 0.417..  Validation Loss: 3.364..  Validation Accuracy: 0.321\n",
            "Epoch: 72/300..  Training Loss: 0.580..  Validation Loss: 2.870..  Validation Accuracy: 0.339\n",
            "Epoch: 73/300..  Training Loss: 0.246..  Validation Loss: 3.786..  Validation Accuracy: 0.304\n",
            "Epoch: 73/300..  Training Loss: 0.612..  Validation Loss: 2.068..  Validation Accuracy: 0.339\n",
            "Epoch: 74/300..  Training Loss: 0.266..  Validation Loss: 2.200..  Validation Accuracy: 0.339\n",
            "Epoch: 74/300..  Training Loss: 0.613..  Validation Loss: 1.865..  Validation Accuracy: 0.464\n",
            "Epoch: 75/300..  Training Loss: 0.102..  Validation Loss: 2.795..  Validation Accuracy: 0.304\n",
            "Epoch: 75/300..  Training Loss: 0.505..  Validation Loss: 2.643..  Validation Accuracy: 0.446\n",
            "Epoch: 75/300..  Training Loss: 0.503..  Validation Loss: 2.492..  Validation Accuracy: 0.339\n",
            "Epoch: 76/300..  Training Loss: 0.568..  Validation Loss: 2.052..  Validation Accuracy: 0.339\n",
            "Epoch: 76/300..  Training Loss: 0.888..  Validation Loss: 2.147..  Validation Accuracy: 0.429\n",
            "Epoch: 77/300..  Training Loss: 0.753..  Validation Loss: 2.248..  Validation Accuracy: 0.321\n",
            "Epoch: 77/300..  Training Loss: 0.941..  Validation Loss: 1.968..  Validation Accuracy: 0.339\n",
            "Epoch: 78/300..  Training Loss: 0.351..  Validation Loss: 1.915..  Validation Accuracy: 0.482\n",
            "Epoch: 78/300..  Training Loss: 0.450..  Validation Loss: 3.472..  Validation Accuracy: 0.357\n",
            "Epoch: 79/300..  Training Loss: 0.419..  Validation Loss: 1.933..  Validation Accuracy: 0.304\n",
            "Epoch: 79/300..  Training Loss: 1.088..  Validation Loss: 1.583..  Validation Accuracy: 0.482\n",
            "Epoch: 80/300..  Training Loss: 0.177..  Validation Loss: 2.487..  Validation Accuracy: 0.339\n",
            "Epoch: 80/300..  Training Loss: 0.646..  Validation Loss: 2.234..  Validation Accuracy: 0.304\n",
            "Epoch: 80/300..  Training Loss: 0.701..  Validation Loss: 2.475..  Validation Accuracy: 0.286\n",
            "Epoch: 81/300..  Training Loss: 0.482..  Validation Loss: 2.577..  Validation Accuracy: 0.321\n",
            "Epoch: 81/300..  Training Loss: 0.623..  Validation Loss: 3.034..  Validation Accuracy: 0.304\n",
            "Epoch: 82/300..  Training Loss: 0.617..  Validation Loss: 2.455..  Validation Accuracy: 0.286\n",
            "Epoch: 82/300..  Training Loss: 0.638..  Validation Loss: 2.851..  Validation Accuracy: 0.339\n",
            "Epoch: 83/300..  Training Loss: 0.413..  Validation Loss: 2.344..  Validation Accuracy: 0.375\n",
            "Epoch: 83/300..  Training Loss: 0.586..  Validation Loss: 2.213..  Validation Accuracy: 0.375\n",
            "Epoch: 84/300..  Training Loss: 0.275..  Validation Loss: 1.907..  Validation Accuracy: 0.375\n",
            "Epoch: 84/300..  Training Loss: 0.549..  Validation Loss: 2.090..  Validation Accuracy: 0.536\n",
            "Epoch: 85/300..  Training Loss: 0.092..  Validation Loss: 2.011..  Validation Accuracy: 0.321\n",
            "Epoch: 85/300..  Training Loss: 0.567..  Validation Loss: 2.165..  Validation Accuracy: 0.321\n",
            "Epoch: 85/300..  Training Loss: 0.385..  Validation Loss: 2.652..  Validation Accuracy: 0.482\n",
            "Epoch: 86/300..  Training Loss: 0.452..  Validation Loss: 2.796..  Validation Accuracy: 0.339\n",
            "Epoch: 86/300..  Training Loss: 0.434..  Validation Loss: 1.957..  Validation Accuracy: 0.536\n",
            "Epoch: 87/300..  Training Loss: 0.437..  Validation Loss: 2.754..  Validation Accuracy: 0.482\n",
            "Epoch: 87/300..  Training Loss: 0.567..  Validation Loss: 4.142..  Validation Accuracy: 0.375\n",
            "Epoch: 88/300..  Training Loss: 0.200..  Validation Loss: 2.258..  Validation Accuracy: 0.393\n",
            "Epoch: 88/300..  Training Loss: 0.588..  Validation Loss: 2.120..  Validation Accuracy: 0.571\n",
            "Epoch: 89/300..  Training Loss: 0.146..  Validation Loss: 2.297..  Validation Accuracy: 0.375\n",
            "Epoch: 89/300..  Training Loss: 0.499..  Validation Loss: 2.341..  Validation Accuracy: 0.464\n",
            "Epoch: 90/300..  Training Loss: 0.093..  Validation Loss: 1.824..  Validation Accuracy: 0.500\n",
            "Epoch: 90/300..  Training Loss: 0.348..  Validation Loss: 2.146..  Validation Accuracy: 0.393\n",
            "Epoch: 90/300..  Training Loss: 0.313..  Validation Loss: 2.420..  Validation Accuracy: 0.536\n",
            "Epoch: 91/300..  Training Loss: 0.280..  Validation Loss: 2.700..  Validation Accuracy: 0.518\n",
            "Epoch: 91/300..  Training Loss: 0.383..  Validation Loss: 2.120..  Validation Accuracy: 0.482\n",
            "Epoch: 92/300..  Training Loss: 0.197..  Validation Loss: 4.243..  Validation Accuracy: 0.339\n",
            "Epoch: 92/300..  Training Loss: 0.709..  Validation Loss: 1.786..  Validation Accuracy: 0.464\n",
            "Epoch: 93/300..  Training Loss: 0.150..  Validation Loss: 1.919..  Validation Accuracy: 0.482\n",
            "Epoch: 93/300..  Training Loss: 0.300..  Validation Loss: 3.584..  Validation Accuracy: 0.339\n",
            "Epoch: 94/300..  Training Loss: 0.143..  Validation Loss: 3.320..  Validation Accuracy: 0.339\n",
            "Epoch: 94/300..  Training Loss: 0.307..  Validation Loss: 2.375..  Validation Accuracy: 0.393\n",
            "Epoch: 95/300..  Training Loss: 0.060..  Validation Loss: 2.465..  Validation Accuracy: 0.357\n",
            "Epoch: 95/300..  Training Loss: 0.441..  Validation Loss: 2.466..  Validation Accuracy: 0.518\n",
            "Epoch: 95/300..  Training Loss: 0.276..  Validation Loss: 3.013..  Validation Accuracy: 0.393\n",
            "Epoch: 96/300..  Training Loss: 0.430..  Validation Loss: 2.437..  Validation Accuracy: 0.500\n",
            "Epoch: 96/300..  Training Loss: 0.278..  Validation Loss: 3.484..  Validation Accuracy: 0.357\n",
            "Epoch: 97/300..  Training Loss: 0.400..  Validation Loss: 2.096..  Validation Accuracy: 0.375\n",
            "Epoch: 97/300..  Training Loss: 0.325..  Validation Loss: 1.865..  Validation Accuracy: 0.536\n",
            "Epoch: 98/300..  Training Loss: 0.057..  Validation Loss: 2.507..  Validation Accuracy: 0.536\n",
            "Epoch: 98/300..  Training Loss: 0.481..  Validation Loss: 2.503..  Validation Accuracy: 0.429\n",
            "Epoch: 99/300..  Training Loss: 0.218..  Validation Loss: 1.782..  Validation Accuracy: 0.429\n",
            "Epoch: 99/300..  Training Loss: 0.451..  Validation Loss: 2.089..  Validation Accuracy: 0.357\n",
            "Epoch: 100/300..  Training Loss: 0.045..  Validation Loss: 2.377..  Validation Accuracy: 0.357\n",
            "Epoch: 100/300..  Training Loss: 0.428..  Validation Loss: 3.529..  Validation Accuracy: 0.357\n",
            "Epoch: 100/300..  Training Loss: 0.365..  Validation Loss: 3.263..  Validation Accuracy: 0.429\n",
            "Epoch: 101/300..  Training Loss: 0.415..  Validation Loss: 3.097..  Validation Accuracy: 0.536\n",
            "Epoch: 101/300..  Training Loss: 0.234..  Validation Loss: 2.957..  Validation Accuracy: 0.375\n",
            "Epoch: 102/300..  Training Loss: 0.287..  Validation Loss: 1.798..  Validation Accuracy: 0.571\n",
            "Epoch: 102/300..  Training Loss: 0.385..  Validation Loss: 2.534..  Validation Accuracy: 0.554\n",
            "Epoch: 103/300..  Training Loss: 0.197..  Validation Loss: 2.171..  Validation Accuracy: 0.571\n",
            "Epoch: 103/300..  Training Loss: 0.499..  Validation Loss: 1.800..  Validation Accuracy: 0.571\n",
            "Epoch: 104/300..  Training Loss: 0.116..  Validation Loss: 1.993..  Validation Accuracy: 0.625\n",
            "Epoch: 104/300..  Training Loss: 0.341..  Validation Loss: 2.598..  Validation Accuracy: 0.536\n",
            "Epoch: 105/300..  Training Loss: 0.087..  Validation Loss: 2.426..  Validation Accuracy: 0.446\n",
            "Epoch: 105/300..  Training Loss: 0.320..  Validation Loss: 2.191..  Validation Accuracy: 0.607\n",
            "Epoch: 105/300..  Training Loss: 0.371..  Validation Loss: 2.174..  Validation Accuracy: 0.643\n",
            "Epoch: 106/300..  Training Loss: 0.250..  Validation Loss: 2.392..  Validation Accuracy: 0.518\n",
            "Epoch: 106/300..  Training Loss: 0.339..  Validation Loss: 5.585..  Validation Accuracy: 0.446\n",
            "Epoch: 107/300..  Training Loss: 0.318..  Validation Loss: 2.051..  Validation Accuracy: 0.518\n",
            "Epoch: 107/300..  Training Loss: 0.285..  Validation Loss: 4.184..  Validation Accuracy: 0.482\n",
            "Epoch: 108/300..  Training Loss: 0.078..  Validation Loss: 3.605..  Validation Accuracy: 0.464\n",
            "Epoch: 108/300..  Training Loss: 0.245..  Validation Loss: 2.728..  Validation Accuracy: 0.571\n",
            "Epoch: 109/300..  Training Loss: 0.158..  Validation Loss: 1.947..  Validation Accuracy: 0.589\n",
            "Epoch: 109/300..  Training Loss: 0.341..  Validation Loss: 2.134..  Validation Accuracy: 0.518\n",
            "Epoch: 110/300..  Training Loss: 0.188..  Validation Loss: 1.665..  Validation Accuracy: 0.554\n",
            "Epoch: 110/300..  Training Loss: 0.199..  Validation Loss: 6.199..  Validation Accuracy: 0.375\n",
            "Epoch: 110/300..  Training Loss: 0.261..  Validation Loss: 3.245..  Validation Accuracy: 0.357\n",
            "Epoch: 111/300..  Training Loss: 0.242..  Validation Loss: 3.132..  Validation Accuracy: 0.393\n",
            "Epoch: 111/300..  Training Loss: 0.225..  Validation Loss: 2.336..  Validation Accuracy: 0.500\n",
            "Epoch: 112/300..  Training Loss: 0.197..  Validation Loss: 2.602..  Validation Accuracy: 0.304\n",
            "Epoch: 112/300..  Training Loss: 0.227..  Validation Loss: 2.866..  Validation Accuracy: 0.411\n",
            "Epoch: 113/300..  Training Loss: 0.183..  Validation Loss: 4.895..  Validation Accuracy: 0.429\n",
            "Epoch: 113/300..  Training Loss: 0.282..  Validation Loss: 4.892..  Validation Accuracy: 0.464\n",
            "Epoch: 114/300..  Training Loss: 0.168..  Validation Loss: 2.575..  Validation Accuracy: 0.411\n",
            "Epoch: 114/300..  Training Loss: 0.229..  Validation Loss: 3.618..  Validation Accuracy: 0.393\n",
            "Epoch: 115/300..  Training Loss: 0.043..  Validation Loss: 2.201..  Validation Accuracy: 0.429\n",
            "Epoch: 115/300..  Training Loss: 0.665..  Validation Loss: 1.643..  Validation Accuracy: 0.536\n",
            "Epoch: 115/300..  Training Loss: 0.828..  Validation Loss: 1.366..  Validation Accuracy: 0.607\n",
            "Epoch: 116/300..  Training Loss: 0.441..  Validation Loss: 1.505..  Validation Accuracy: 0.607\n",
            "Epoch: 116/300..  Training Loss: 0.279..  Validation Loss: 2.219..  Validation Accuracy: 0.482\n",
            "Epoch: 117/300..  Training Loss: 0.156..  Validation Loss: 2.657..  Validation Accuracy: 0.500\n",
            "Epoch: 117/300..  Training Loss: 0.307..  Validation Loss: 2.830..  Validation Accuracy: 0.482\n",
            "Epoch: 118/300..  Training Loss: 0.125..  Validation Loss: 2.251..  Validation Accuracy: 0.554\n",
            "Epoch: 118/300..  Training Loss: 0.243..  Validation Loss: 2.466..  Validation Accuracy: 0.482\n",
            "Epoch: 119/300..  Training Loss: 0.183..  Validation Loss: 2.480..  Validation Accuracy: 0.411\n",
            "Epoch: 119/300..  Training Loss: 0.341..  Validation Loss: 4.238..  Validation Accuracy: 0.446\n",
            "Epoch: 120/300..  Training Loss: 0.094..  Validation Loss: 2.169..  Validation Accuracy: 0.625\n",
            "Epoch: 120/300..  Training Loss: 0.388..  Validation Loss: 2.224..  Validation Accuracy: 0.482\n",
            "Epoch: 120/300..  Training Loss: 0.411..  Validation Loss: 1.989..  Validation Accuracy: 0.643\n",
            "Epoch: 121/300..  Training Loss: 0.329..  Validation Loss: 1.932..  Validation Accuracy: 0.607\n",
            "Epoch: 121/300..  Training Loss: 0.314..  Validation Loss: 1.718..  Validation Accuracy: 0.589\n",
            "Epoch: 122/300..  Training Loss: 0.344..  Validation Loss: 2.208..  Validation Accuracy: 0.375\n",
            "Epoch: 122/300..  Training Loss: 0.450..  Validation Loss: 3.478..  Validation Accuracy: 0.411\n",
            "Epoch: 123/300..  Training Loss: 0.208..  Validation Loss: 2.589..  Validation Accuracy: 0.339\n",
            "Epoch: 123/300..  Training Loss: 0.314..  Validation Loss: 2.627..  Validation Accuracy: 0.393\n",
            "Epoch: 124/300..  Training Loss: 0.090..  Validation Loss: 2.323..  Validation Accuracy: 0.500\n",
            "Epoch: 124/300..  Training Loss: 0.275..  Validation Loss: 3.195..  Validation Accuracy: 0.446\n",
            "Epoch: 125/300..  Training Loss: 0.044..  Validation Loss: 2.160..  Validation Accuracy: 0.607\n",
            "Epoch: 125/300..  Training Loss: 0.227..  Validation Loss: 2.635..  Validation Accuracy: 0.446\n",
            "Epoch: 125/300..  Training Loss: 0.294..  Validation Loss: 2.780..  Validation Accuracy: 0.589\n",
            "Epoch: 126/300..  Training Loss: 0.326..  Validation Loss: 2.261..  Validation Accuracy: 0.571\n",
            "Epoch: 126/300..  Training Loss: 0.325..  Validation Loss: 1.639..  Validation Accuracy: 0.554\n",
            "Epoch: 127/300..  Training Loss: 0.230..  Validation Loss: 1.945..  Validation Accuracy: 0.589\n",
            "Epoch: 127/300..  Training Loss: 0.245..  Validation Loss: 2.980..  Validation Accuracy: 0.446\n",
            "Epoch: 128/300..  Training Loss: 0.125..  Validation Loss: 2.833..  Validation Accuracy: 0.429\n",
            "Epoch: 128/300..  Training Loss: 0.335..  Validation Loss: 2.262..  Validation Accuracy: 0.429\n",
            "Epoch: 129/300..  Training Loss: 0.154..  Validation Loss: 2.140..  Validation Accuracy: 0.464\n",
            "Epoch: 129/300..  Training Loss: 0.172..  Validation Loss: 2.840..  Validation Accuracy: 0.429\n",
            "Epoch: 130/300..  Training Loss: 0.001..  Validation Loss: 2.816..  Validation Accuracy: 0.446\n",
            "Epoch: 130/300..  Training Loss: 0.109..  Validation Loss: 3.329..  Validation Accuracy: 0.536\n",
            "Epoch: 130/300..  Training Loss: 0.085..  Validation Loss: 4.430..  Validation Accuracy: 0.411\n",
            "Epoch: 131/300..  Training Loss: 0.219..  Validation Loss: 3.706..  Validation Accuracy: 0.464\n",
            "Epoch: 131/300..  Training Loss: 0.253..  Validation Loss: 4.243..  Validation Accuracy: 0.411\n",
            "Epoch: 132/300..  Training Loss: 0.276..  Validation Loss: 2.157..  Validation Accuracy: 0.446\n",
            "Epoch: 132/300..  Training Loss: 0.249..  Validation Loss: 2.232..  Validation Accuracy: 0.536\n",
            "Epoch: 133/300..  Training Loss: 0.158..  Validation Loss: 2.835..  Validation Accuracy: 0.411\n",
            "Epoch: 133/300..  Training Loss: 0.133..  Validation Loss: 3.631..  Validation Accuracy: 0.393\n",
            "Epoch: 134/300..  Training Loss: 0.063..  Validation Loss: 4.216..  Validation Accuracy: 0.411\n",
            "Epoch: 134/300..  Training Loss: 0.190..  Validation Loss: 2.736..  Validation Accuracy: 0.536\n",
            "Epoch: 135/300..  Training Loss: 0.012..  Validation Loss: 4.123..  Validation Accuracy: 0.429\n",
            "Epoch: 135/300..  Training Loss: 0.308..  Validation Loss: 3.996..  Validation Accuracy: 0.411\n",
            "Epoch: 135/300..  Training Loss: 0.145..  Validation Loss: 2.625..  Validation Accuracy: 0.554\n",
            "Epoch: 136/300..  Training Loss: 0.151..  Validation Loss: 3.250..  Validation Accuracy: 0.411\n",
            "Epoch: 136/300..  Training Loss: 0.046..  Validation Loss: 3.432..  Validation Accuracy: 0.571\n",
            "Epoch: 137/300..  Training Loss: 0.246..  Validation Loss: 3.618..  Validation Accuracy: 0.446\n",
            "Epoch: 137/300..  Training Loss: 0.362..  Validation Loss: 3.527..  Validation Accuracy: 0.375\n",
            "Epoch: 138/300..  Training Loss: 0.140..  Validation Loss: 2.504..  Validation Accuracy: 0.554\n",
            "Epoch: 138/300..  Training Loss: 0.317..  Validation Loss: 2.338..  Validation Accuracy: 0.589\n",
            "Epoch: 139/300..  Training Loss: 0.119..  Validation Loss: 2.241..  Validation Accuracy: 0.643\n",
            "Epoch: 139/300..  Training Loss: 0.139..  Validation Loss: 3.607..  Validation Accuracy: 0.518\n",
            "Epoch: 140/300..  Training Loss: 0.018..  Validation Loss: 3.677..  Validation Accuracy: 0.500\n",
            "Epoch: 140/300..  Training Loss: 0.120..  Validation Loss: 3.227..  Validation Accuracy: 0.607\n",
            "Epoch: 140/300..  Training Loss: 0.052..  Validation Loss: 3.622..  Validation Accuracy: 0.625\n",
            "Epoch: 141/300..  Training Loss: 0.168..  Validation Loss: 5.146..  Validation Accuracy: 0.429\n",
            "Epoch: 141/300..  Training Loss: 0.097..  Validation Loss: 3.042..  Validation Accuracy: 0.536\n",
            "Epoch: 142/300..  Training Loss: 0.094..  Validation Loss: 5.532..  Validation Accuracy: 0.446\n",
            "Epoch: 142/300..  Training Loss: 0.125..  Validation Loss: 3.685..  Validation Accuracy: 0.375\n",
            "Epoch: 143/300..  Training Loss: 0.056..  Validation Loss: 4.418..  Validation Accuracy: 0.446\n",
            "Epoch: 143/300..  Training Loss: 0.182..  Validation Loss: 3.913..  Validation Accuracy: 0.554\n",
            "Epoch: 144/300..  Training Loss: 0.066..  Validation Loss: 4.808..  Validation Accuracy: 0.500\n",
            "Epoch: 144/300..  Training Loss: 0.228..  Validation Loss: 3.037..  Validation Accuracy: 0.589\n",
            "Epoch: 145/300..  Training Loss: 0.015..  Validation Loss: 3.556..  Validation Accuracy: 0.375\n",
            "Epoch: 145/300..  Training Loss: 0.373..  Validation Loss: 1.900..  Validation Accuracy: 0.589\n",
            "Epoch: 145/300..  Training Loss: 0.435..  Validation Loss: 1.645..  Validation Accuracy: 0.571\n",
            "Epoch: 146/300..  Training Loss: 0.246..  Validation Loss: 2.545..  Validation Accuracy: 0.464\n",
            "Epoch: 146/300..  Training Loss: 0.195..  Validation Loss: 2.295..  Validation Accuracy: 0.429\n",
            "Epoch: 147/300..  Training Loss: 0.184..  Validation Loss: 3.113..  Validation Accuracy: 0.482\n",
            "Epoch: 147/300..  Training Loss: 0.202..  Validation Loss: 4.005..  Validation Accuracy: 0.375\n",
            "Epoch: 148/300..  Training Loss: 0.174..  Validation Loss: 2.239..  Validation Accuracy: 0.411\n",
            "Epoch: 148/300..  Training Loss: 0.663..  Validation Loss: 1.792..  Validation Accuracy: 0.554\n",
            "Epoch: 149/300..  Training Loss: 0.132..  Validation Loss: 1.880..  Validation Accuracy: 0.500\n",
            "Epoch: 149/300..  Training Loss: 0.193..  Validation Loss: 1.802..  Validation Accuracy: 0.607\n",
            "Epoch: 150/300..  Training Loss: 0.011..  Validation Loss: 2.459..  Validation Accuracy: 0.411\n",
            "Epoch: 150/300..  Training Loss: 0.171..  Validation Loss: 2.529..  Validation Accuracy: 0.393\n",
            "Epoch: 150/300..  Training Loss: 0.144..  Validation Loss: 3.103..  Validation Accuracy: 0.482\n",
            "Epoch: 151/300..  Training Loss: 0.059..  Validation Loss: 2.658..  Validation Accuracy: 0.607\n",
            "Epoch: 151/300..  Training Loss: 0.200..  Validation Loss: 2.445..  Validation Accuracy: 0.446\n",
            "Epoch: 152/300..  Training Loss: 0.038..  Validation Loss: 2.798..  Validation Accuracy: 0.589\n",
            "Epoch: 152/300..  Training Loss: 0.152..  Validation Loss: 3.469..  Validation Accuracy: 0.446\n",
            "Epoch: 153/300..  Training Loss: 0.052..  Validation Loss: 3.884..  Validation Accuracy: 0.464\n",
            "Epoch: 153/300..  Training Loss: 0.059..  Validation Loss: 4.008..  Validation Accuracy: 0.482\n",
            "Epoch: 154/300..  Training Loss: 0.291..  Validation Loss: 9.070..  Validation Accuracy: 0.500\n",
            "Epoch: 154/300..  Training Loss: 0.046..  Validation Loss: 4.703..  Validation Accuracy: 0.411\n",
            "Epoch: 155/300..  Training Loss: 0.051..  Validation Loss: 3.547..  Validation Accuracy: 0.518\n",
            "Epoch: 155/300..  Training Loss: 0.152..  Validation Loss: 4.533..  Validation Accuracy: 0.393\n",
            "Epoch: 155/300..  Training Loss: 0.180..  Validation Loss: 3.619..  Validation Accuracy: 0.357\n",
            "Epoch: 156/300..  Training Loss: 0.347..  Validation Loss: 2.525..  Validation Accuracy: 0.411\n",
            "Epoch: 156/300..  Training Loss: 0.159..  Validation Loss: 1.845..  Validation Accuracy: 0.446\n",
            "Epoch: 157/300..  Training Loss: 0.107..  Validation Loss: 1.995..  Validation Accuracy: 0.554\n",
            "Epoch: 157/300..  Training Loss: 0.227..  Validation Loss: 2.379..  Validation Accuracy: 0.446\n",
            "Epoch: 158/300..  Training Loss: 0.096..  Validation Loss: 3.900..  Validation Accuracy: 0.464\n",
            "Epoch: 158/300..  Training Loss: 0.102..  Validation Loss: 7.084..  Validation Accuracy: 0.464\n",
            "Epoch: 159/300..  Training Loss: 0.092..  Validation Loss: 3.858..  Validation Accuracy: 0.464\n",
            "Epoch: 159/300..  Training Loss: 0.042..  Validation Loss: 3.004..  Validation Accuracy: 0.464\n",
            "Epoch: 160/300..  Training Loss: 0.107..  Validation Loss: 3.252..  Validation Accuracy: 0.518\n",
            "Epoch: 160/300..  Training Loss: 0.474..  Validation Loss: 2.067..  Validation Accuracy: 0.375\n",
            "Epoch: 160/300..  Training Loss: 0.102..  Validation Loss: 2.077..  Validation Accuracy: 0.554\n",
            "Epoch: 161/300..  Training Loss: 0.080..  Validation Loss: 3.831..  Validation Accuracy: 0.482\n",
            "Epoch: 161/300..  Training Loss: 0.182..  Validation Loss: 2.849..  Validation Accuracy: 0.446\n",
            "Epoch: 162/300..  Training Loss: 0.080..  Validation Loss: 2.971..  Validation Accuracy: 0.429\n",
            "Epoch: 162/300..  Training Loss: 0.080..  Validation Loss: 3.981..  Validation Accuracy: 0.411\n",
            "Epoch: 163/300..  Training Loss: 0.082..  Validation Loss: 3.512..  Validation Accuracy: 0.411\n",
            "Epoch: 163/300..  Training Loss: 0.098..  Validation Loss: 2.843..  Validation Accuracy: 0.589\n",
            "Epoch: 164/300..  Training Loss: 0.038..  Validation Loss: 3.620..  Validation Accuracy: 0.446\n",
            "Epoch: 164/300..  Training Loss: 0.098..  Validation Loss: 3.167..  Validation Accuracy: 0.554\n",
            "Epoch: 165/300..  Training Loss: 0.027..  Validation Loss: 3.926..  Validation Accuracy: 0.411\n",
            "Epoch: 165/300..  Training Loss: 0.373..  Validation Loss: 2.868..  Validation Accuracy: 0.446\n",
            "Epoch: 165/300..  Training Loss: 0.082..  Validation Loss: 2.063..  Validation Accuracy: 0.625\n",
            "Epoch: 166/300..  Training Loss: 0.048..  Validation Loss: 2.892..  Validation Accuracy: 0.482\n",
            "Epoch: 166/300..  Training Loss: 0.082..  Validation Loss: 2.731..  Validation Accuracy: 0.589\n",
            "Epoch: 167/300..  Training Loss: 0.011..  Validation Loss: 4.373..  Validation Accuracy: 0.464\n",
            "Epoch: 167/300..  Training Loss: 0.041..  Validation Loss: 3.074..  Validation Accuracy: 0.589\n",
            "Epoch: 168/300..  Training Loss: 0.016..  Validation Loss: 4.468..  Validation Accuracy: 0.518\n",
            "Epoch: 168/300..  Training Loss: 0.080..  Validation Loss: 4.456..  Validation Accuracy: 0.607\n",
            "Epoch: 169/300..  Training Loss: 0.026..  Validation Loss: 7.097..  Validation Accuracy: 0.446\n",
            "Epoch: 169/300..  Training Loss: 0.169..  Validation Loss: 2.694..  Validation Accuracy: 0.589\n",
            "Epoch: 170/300..  Training Loss: 0.026..  Validation Loss: 2.534..  Validation Accuracy: 0.518\n",
            "Epoch: 170/300..  Training Loss: 0.224..  Validation Loss: 1.997..  Validation Accuracy: 0.500\n",
            "Epoch: 170/300..  Training Loss: 0.120..  Validation Loss: 2.511..  Validation Accuracy: 0.429\n",
            "Epoch: 171/300..  Training Loss: 0.194..  Validation Loss: 3.522..  Validation Accuracy: 0.446\n",
            "Epoch: 171/300..  Training Loss: 0.133..  Validation Loss: 3.948..  Validation Accuracy: 0.446\n",
            "Epoch: 172/300..  Training Loss: 0.074..  Validation Loss: 2.801..  Validation Accuracy: 0.625\n",
            "Epoch: 172/300..  Training Loss: 0.064..  Validation Loss: 3.166..  Validation Accuracy: 0.411\n",
            "Epoch: 173/300..  Training Loss: 0.064..  Validation Loss: 3.187..  Validation Accuracy: 0.411\n",
            "Epoch: 173/300..  Training Loss: 0.134..  Validation Loss: 6.917..  Validation Accuracy: 0.446\n",
            "Epoch: 174/300..  Training Loss: 0.018..  Validation Loss: 3.678..  Validation Accuracy: 0.446\n",
            "Epoch: 174/300..  Training Loss: 0.213..  Validation Loss: 3.044..  Validation Accuracy: 0.589\n",
            "Epoch: 175/300..  Training Loss: 0.004..  Validation Loss: 4.963..  Validation Accuracy: 0.500\n",
            "Epoch: 175/300..  Training Loss: 0.150..  Validation Loss: 2.214..  Validation Accuracy: 0.554\n",
            "Epoch: 175/300..  Training Loss: 0.077..  Validation Loss: 2.878..  Validation Accuracy: 0.446\n",
            "Epoch: 176/300..  Training Loss: 0.121..  Validation Loss: 2.319..  Validation Accuracy: 0.571\n",
            "Epoch: 176/300..  Training Loss: 0.131..  Validation Loss: 2.194..  Validation Accuracy: 0.446\n",
            "Epoch: 177/300..  Training Loss: 0.037..  Validation Loss: 2.844..  Validation Accuracy: 0.500\n",
            "Epoch: 177/300..  Training Loss: 0.062..  Validation Loss: 2.936..  Validation Accuracy: 0.607\n",
            "Epoch: 178/300..  Training Loss: 0.036..  Validation Loss: 4.504..  Validation Accuracy: 0.464\n",
            "Epoch: 178/300..  Training Loss: 0.054..  Validation Loss: 2.568..  Validation Accuracy: 0.589\n",
            "Epoch: 179/300..  Training Loss: 0.006..  Validation Loss: 3.000..  Validation Accuracy: 0.607\n",
            "Epoch: 179/300..  Training Loss: 0.136..  Validation Loss: 2.699..  Validation Accuracy: 0.500\n",
            "Epoch: 180/300..  Training Loss: 0.002..  Validation Loss: 3.760..  Validation Accuracy: 0.464\n",
            "Epoch: 180/300..  Training Loss: 0.067..  Validation Loss: 3.541..  Validation Accuracy: 0.571\n",
            "Epoch: 180/300..  Training Loss: 0.154..  Validation Loss: 4.424..  Validation Accuracy: 0.429\n",
            "Epoch: 181/300..  Training Loss: 0.181..  Validation Loss: 4.081..  Validation Accuracy: 0.446\n",
            "Epoch: 181/300..  Training Loss: 0.135..  Validation Loss: 3.166..  Validation Accuracy: 0.411\n",
            "Epoch: 182/300..  Training Loss: 0.039..  Validation Loss: 2.403..  Validation Accuracy: 0.518\n",
            "Epoch: 182/300..  Training Loss: 0.110..  Validation Loss: 2.646..  Validation Accuracy: 0.554\n",
            "Epoch: 183/300..  Training Loss: 0.033..  Validation Loss: 3.365..  Validation Accuracy: 0.500\n",
            "Epoch: 183/300..  Training Loss: 0.076..  Validation Loss: 2.858..  Validation Accuracy: 0.536\n",
            "Epoch: 184/300..  Training Loss: 0.061..  Validation Loss: 3.179..  Validation Accuracy: 0.554\n",
            "Epoch: 184/300..  Training Loss: 0.062..  Validation Loss: 3.785..  Validation Accuracy: 0.589\n",
            "Epoch: 185/300..  Training Loss: 0.019..  Validation Loss: 3.571..  Validation Accuracy: 0.607\n",
            "Epoch: 185/300..  Training Loss: 0.181..  Validation Loss: 3.590..  Validation Accuracy: 0.446\n",
            "Epoch: 185/300..  Training Loss: 0.441..  Validation Loss: 3.901..  Validation Accuracy: 0.500\n",
            "Epoch: 186/300..  Training Loss: 0.192..  Validation Loss: 2.121..  Validation Accuracy: 0.625\n",
            "Epoch: 186/300..  Training Loss: 0.174..  Validation Loss: 3.385..  Validation Accuracy: 0.429\n",
            "Epoch: 187/300..  Training Loss: 0.091..  Validation Loss: 2.168..  Validation Accuracy: 0.589\n",
            "Epoch: 187/300..  Training Loss: 0.219..  Validation Loss: 3.274..  Validation Accuracy: 0.429\n",
            "Epoch: 188/300..  Training Loss: 0.047..  Validation Loss: 3.284..  Validation Accuracy: 0.429\n",
            "Epoch: 188/300..  Training Loss: 0.064..  Validation Loss: 2.887..  Validation Accuracy: 0.589\n",
            "Epoch: 189/300..  Training Loss: 0.041..  Validation Loss: 3.208..  Validation Accuracy: 0.500\n",
            "Epoch: 189/300..  Training Loss: 0.074..  Validation Loss: 3.690..  Validation Accuracy: 0.482\n",
            "Epoch: 190/300..  Training Loss: 0.001..  Validation Loss: 3.060..  Validation Accuracy: 0.446\n",
            "Epoch: 190/300..  Training Loss: 0.063..  Validation Loss: 4.250..  Validation Accuracy: 0.429\n",
            "Epoch: 190/300..  Training Loss: 0.039..  Validation Loss: 3.559..  Validation Accuracy: 0.589\n",
            "Epoch: 191/300..  Training Loss: 0.059..  Validation Loss: 3.572..  Validation Accuracy: 0.589\n",
            "Epoch: 191/300..  Training Loss: 0.019..  Validation Loss: 3.558..  Validation Accuracy: 0.589\n",
            "Epoch: 192/300..  Training Loss: 0.043..  Validation Loss: 3.509..  Validation Accuracy: 0.625\n",
            "Epoch: 192/300..  Training Loss: 0.034..  Validation Loss: 3.865..  Validation Accuracy: 0.482\n",
            "Epoch: 193/300..  Training Loss: 0.108..  Validation Loss: 3.268..  Validation Accuracy: 0.446\n",
            "Epoch: 193/300..  Training Loss: 0.057..  Validation Loss: 3.535..  Validation Accuracy: 0.393\n",
            "Epoch: 194/300..  Training Loss: 0.009..  Validation Loss: 4.042..  Validation Accuracy: 0.536\n",
            "Epoch: 194/300..  Training Loss: 0.126..  Validation Loss: 3.656..  Validation Accuracy: 0.589\n",
            "Epoch: 195/300..  Training Loss: 0.001..  Validation Loss: 4.122..  Validation Accuracy: 0.536\n",
            "Epoch: 195/300..  Training Loss: 0.109..  Validation Loss: 4.178..  Validation Accuracy: 0.589\n",
            "Epoch: 195/300..  Training Loss: 0.052..  Validation Loss: 3.673..  Validation Accuracy: 0.625\n",
            "Epoch: 196/300..  Training Loss: 0.161..  Validation Loss: 4.918..  Validation Accuracy: 0.464\n",
            "Epoch: 196/300..  Training Loss: 0.448..  Validation Loss: 3.887..  Validation Accuracy: 0.589\n",
            "Epoch: 197/300..  Training Loss: 0.071..  Validation Loss: 2.977..  Validation Accuracy: 0.518\n",
            "Epoch: 197/300..  Training Loss: 0.112..  Validation Loss: 3.125..  Validation Accuracy: 0.518\n",
            "Epoch: 198/300..  Training Loss: 0.077..  Validation Loss: 4.939..  Validation Accuracy: 0.339\n",
            "Epoch: 198/300..  Training Loss: 0.128..  Validation Loss: 3.450..  Validation Accuracy: 0.393\n",
            "Epoch: 199/300..  Training Loss: 0.041..  Validation Loss: 3.215..  Validation Accuracy: 0.500\n",
            "Epoch: 199/300..  Training Loss: 0.091..  Validation Loss: 2.970..  Validation Accuracy: 0.518\n",
            "Epoch: 200/300..  Training Loss: 0.003..  Validation Loss: 2.539..  Validation Accuracy: 0.429\n",
            "Epoch: 200/300..  Training Loss: 0.165..  Validation Loss: 3.878..  Validation Accuracy: 0.375\n",
            "Epoch: 200/300..  Training Loss: 0.048..  Validation Loss: 2.906..  Validation Accuracy: 0.518\n",
            "Epoch: 201/300..  Training Loss: 0.060..  Validation Loss: 3.436..  Validation Accuracy: 0.518\n",
            "Epoch: 201/300..  Training Loss: 0.044..  Validation Loss: 3.417..  Validation Accuracy: 0.607\n",
            "Epoch: 202/300..  Training Loss: 0.071..  Validation Loss: 3.757..  Validation Accuracy: 0.482\n",
            "Epoch: 202/300..  Training Loss: 0.091..  Validation Loss: 3.688..  Validation Accuracy: 0.536\n",
            "Epoch: 203/300..  Training Loss: 0.013..  Validation Loss: 3.019..  Validation Accuracy: 0.536\n",
            "Epoch: 203/300..  Training Loss: 0.161..  Validation Loss: 3.396..  Validation Accuracy: 0.429\n",
            "Epoch: 204/300..  Training Loss: 0.019..  Validation Loss: 3.246..  Validation Accuracy: 0.393\n",
            "Epoch: 204/300..  Training Loss: 0.048..  Validation Loss: 2.852..  Validation Accuracy: 0.464\n",
            "Epoch: 205/300..  Training Loss: 0.007..  Validation Loss: 3.381..  Validation Accuracy: 0.393\n",
            "Epoch: 205/300..  Training Loss: 0.038..  Validation Loss: 3.504..  Validation Accuracy: 0.393\n",
            "Epoch: 205/300..  Training Loss: 0.026..  Validation Loss: 3.662..  Validation Accuracy: 0.411\n",
            "Epoch: 206/300..  Training Loss: 0.014..  Validation Loss: 3.652..  Validation Accuracy: 0.554\n",
            "Epoch: 206/300..  Training Loss: 0.079..  Validation Loss: 3.450..  Validation Accuracy: 0.554\n",
            "Epoch: 207/300..  Training Loss: 0.056..  Validation Loss: 3.823..  Validation Accuracy: 0.607\n",
            "Epoch: 207/300..  Training Loss: 0.056..  Validation Loss: 5.332..  Validation Accuracy: 0.500\n",
            "Epoch: 208/300..  Training Loss: 0.007..  Validation Loss: 4.479..  Validation Accuracy: 0.482\n",
            "Epoch: 208/300..  Training Loss: 0.037..  Validation Loss: 4.344..  Validation Accuracy: 0.625\n",
            "Epoch: 209/300..  Training Loss: 0.004..  Validation Loss: 4.269..  Validation Accuracy: 0.589\n",
            "Epoch: 209/300..  Training Loss: 0.071..  Validation Loss: 4.435..  Validation Accuracy: 0.589\n",
            "Epoch: 210/300..  Training Loss: 0.003..  Validation Loss: 4.805..  Validation Accuracy: 0.446\n",
            "Epoch: 210/300..  Training Loss: 0.302..  Validation Loss: 3.713..  Validation Accuracy: 0.518\n",
            "Epoch: 210/300..  Training Loss: 0.073..  Validation Loss: 3.687..  Validation Accuracy: 0.536\n",
            "Epoch: 211/300..  Training Loss: 0.129..  Validation Loss: 4.450..  Validation Accuracy: 0.375\n",
            "Epoch: 211/300..  Training Loss: 0.103..  Validation Loss: 3.031..  Validation Accuracy: 0.571\n",
            "Epoch: 212/300..  Training Loss: 0.060..  Validation Loss: 3.122..  Validation Accuracy: 0.500\n",
            "Epoch: 212/300..  Training Loss: 0.133..  Validation Loss: 3.140..  Validation Accuracy: 0.482\n",
            "Epoch: 213/300..  Training Loss: 0.075..  Validation Loss: 2.990..  Validation Accuracy: 0.536\n",
            "Epoch: 213/300..  Training Loss: 0.042..  Validation Loss: 4.055..  Validation Accuracy: 0.482\n",
            "Epoch: 214/300..  Training Loss: 0.011..  Validation Loss: 4.111..  Validation Accuracy: 0.589\n",
            "Epoch: 214/300..  Training Loss: 0.174..  Validation Loss: 2.823..  Validation Accuracy: 0.571\n",
            "Epoch: 215/300..  Training Loss: 0.054..  Validation Loss: 2.130..  Validation Accuracy: 0.464\n",
            "Epoch: 215/300..  Training Loss: 0.261..  Validation Loss: 2.175..  Validation Accuracy: 0.429\n",
            "Epoch: 215/300..  Training Loss: 0.223..  Validation Loss: 1.879..  Validation Accuracy: 0.589\n",
            "Epoch: 216/300..  Training Loss: 0.118..  Validation Loss: 2.331..  Validation Accuracy: 0.536\n",
            "Epoch: 216/300..  Training Loss: 0.099..  Validation Loss: 2.819..  Validation Accuracy: 0.554\n",
            "Epoch: 217/300..  Training Loss: 0.071..  Validation Loss: 4.889..  Validation Accuracy: 0.464\n",
            "Epoch: 217/300..  Training Loss: 0.081..  Validation Loss: 4.770..  Validation Accuracy: 0.500\n",
            "Epoch: 218/300..  Training Loss: 0.019..  Validation Loss: 3.420..  Validation Accuracy: 0.643\n",
            "Epoch: 218/300..  Training Loss: 0.074..  Validation Loss: 3.202..  Validation Accuracy: 0.571\n",
            "Epoch: 219/300..  Training Loss: 0.020..  Validation Loss: 4.288..  Validation Accuracy: 0.429\n",
            "Epoch: 219/300..  Training Loss: 0.063..  Validation Loss: 3.640..  Validation Accuracy: 0.464\n",
            "Epoch: 220/300..  Training Loss: 0.002..  Validation Loss: 3.460..  Validation Accuracy: 0.643\n",
            "Epoch: 220/300..  Training Loss: 0.035..  Validation Loss: 6.892..  Validation Accuracy: 0.464\n",
            "Epoch: 220/300..  Training Loss: 0.034..  Validation Loss: 3.212..  Validation Accuracy: 0.554\n",
            "Epoch: 221/300..  Training Loss: 0.027..  Validation Loss: 3.615..  Validation Accuracy: 0.464\n",
            "Epoch: 221/300..  Training Loss: 0.081..  Validation Loss: 4.007..  Validation Accuracy: 0.625\n",
            "Epoch: 222/300..  Training Loss: 0.022..  Validation Loss: 3.854..  Validation Accuracy: 0.607\n",
            "Epoch: 222/300..  Training Loss: 0.117..  Validation Loss: 6.510..  Validation Accuracy: 0.482\n",
            "Epoch: 223/300..  Training Loss: 0.080..  Validation Loss: 3.350..  Validation Accuracy: 0.589\n",
            "Epoch: 223/300..  Training Loss: 0.181..  Validation Loss: 3.121..  Validation Accuracy: 0.446\n",
            "Epoch: 224/300..  Training Loss: 0.008..  Validation Loss: 4.936..  Validation Accuracy: 0.357\n",
            "Epoch: 224/300..  Training Loss: 0.359..  Validation Loss: 3.396..  Validation Accuracy: 0.500\n",
            "Epoch: 225/300..  Training Loss: 0.007..  Validation Loss: 2.441..  Validation Accuracy: 0.571\n",
            "Epoch: 225/300..  Training Loss: 0.140..  Validation Loss: 2.606..  Validation Accuracy: 0.411\n",
            "Epoch: 225/300..  Training Loss: 0.079..  Validation Loss: 2.398..  Validation Accuracy: 0.518\n",
            "Epoch: 226/300..  Training Loss: 0.084..  Validation Loss: 2.408..  Validation Accuracy: 0.571\n",
            "Epoch: 226/300..  Training Loss: 0.109..  Validation Loss: 2.600..  Validation Accuracy: 0.464\n",
            "Epoch: 227/300..  Training Loss: 0.029..  Validation Loss: 2.957..  Validation Accuracy: 0.500\n",
            "Epoch: 227/300..  Training Loss: 0.070..  Validation Loss: 3.040..  Validation Accuracy: 0.589\n",
            "Epoch: 228/300..  Training Loss: 0.136..  Validation Loss: 2.473..  Validation Accuracy: 0.482\n",
            "Epoch: 228/300..  Training Loss: 0.048..  Validation Loss: 2.002..  Validation Accuracy: 0.607\n",
            "Epoch: 229/300..  Training Loss: 0.012..  Validation Loss: 2.126..  Validation Accuracy: 0.589\n",
            "Epoch: 229/300..  Training Loss: 0.032..  Validation Loss: 2.800..  Validation Accuracy: 0.446\n",
            "Epoch: 230/300..  Training Loss: 0.001..  Validation Loss: 2.098..  Validation Accuracy: 0.625\n",
            "Epoch: 230/300..  Training Loss: 0.045..  Validation Loss: 2.217..  Validation Accuracy: 0.661\n",
            "Epoch: 230/300..  Training Loss: 0.324..  Validation Loss: 3.463..  Validation Accuracy: 0.500\n",
            "Epoch: 231/300..  Training Loss: 0.076..  Validation Loss: 2.083..  Validation Accuracy: 0.661\n",
            "Epoch: 231/300..  Training Loss: 0.155..  Validation Loss: 2.320..  Validation Accuracy: 0.607\n",
            "Epoch: 232/300..  Training Loss: 0.044..  Validation Loss: 2.071..  Validation Accuracy: 0.589\n",
            "Epoch: 232/300..  Training Loss: 0.070..  Validation Loss: 2.607..  Validation Accuracy: 0.464\n",
            "Epoch: 233/300..  Training Loss: 0.027..  Validation Loss: 2.988..  Validation Accuracy: 0.571\n",
            "Epoch: 233/300..  Training Loss: 0.068..  Validation Loss: 2.572..  Validation Accuracy: 0.589\n",
            "Epoch: 234/300..  Training Loss: 0.007..  Validation Loss: 2.758..  Validation Accuracy: 0.571\n",
            "Epoch: 234/300..  Training Loss: 0.066..  Validation Loss: 3.228..  Validation Accuracy: 0.625\n",
            "Epoch: 235/300..  Training Loss: 0.035..  Validation Loss: 6.271..  Validation Accuracy: 0.429\n",
            "Epoch: 235/300..  Training Loss: 0.049..  Validation Loss: 2.935..  Validation Accuracy: 0.571\n",
            "Epoch: 235/300..  Training Loss: 0.061..  Validation Loss: 2.908..  Validation Accuracy: 0.571\n",
            "Epoch: 236/300..  Training Loss: 0.054..  Validation Loss: 3.071..  Validation Accuracy: 0.571\n",
            "Epoch: 236/300..  Training Loss: 0.036..  Validation Loss: 3.364..  Validation Accuracy: 0.571\n",
            "Epoch: 237/300..  Training Loss: 0.017..  Validation Loss: 3.616..  Validation Accuracy: 0.554\n",
            "Epoch: 237/300..  Training Loss: 0.031..  Validation Loss: 4.863..  Validation Accuracy: 0.482\n",
            "Epoch: 238/300..  Training Loss: 0.039..  Validation Loss: 3.596..  Validation Accuracy: 0.625\n",
            "Epoch: 238/300..  Training Loss: 0.028..  Validation Loss: 4.855..  Validation Accuracy: 0.482\n",
            "Epoch: 239/300..  Training Loss: 0.035..  Validation Loss: 3.685..  Validation Accuracy: 0.625\n",
            "Epoch: 239/300..  Training Loss: 0.043..  Validation Loss: 4.403..  Validation Accuracy: 0.446\n",
            "Epoch: 240/300..  Training Loss: 0.000..  Validation Loss: 3.311..  Validation Accuracy: 0.571\n",
            "Epoch: 240/300..  Training Loss: 0.038..  Validation Loss: 4.274..  Validation Accuracy: 0.446\n",
            "Epoch: 240/300..  Training Loss: 0.066..  Validation Loss: 3.915..  Validation Accuracy: 0.536\n",
            "Epoch: 241/300..  Training Loss: 0.070..  Validation Loss: 4.945..  Validation Accuracy: 0.411\n",
            "Epoch: 241/300..  Training Loss: 0.052..  Validation Loss: 3.646..  Validation Accuracy: 0.554\n",
            "Epoch: 242/300..  Training Loss: 0.007..  Validation Loss: 3.849..  Validation Accuracy: 0.429\n",
            "Epoch: 242/300..  Training Loss: 0.074..  Validation Loss: 4.148..  Validation Accuracy: 0.446\n",
            "Epoch: 243/300..  Training Loss: 0.018..  Validation Loss: 2.939..  Validation Accuracy: 0.571\n",
            "Epoch: 243/300..  Training Loss: 0.078..  Validation Loss: 2.793..  Validation Accuracy: 0.571\n",
            "Epoch: 244/300..  Training Loss: 0.020..  Validation Loss: 2.748..  Validation Accuracy: 0.554\n",
            "Epoch: 244/300..  Training Loss: 0.032..  Validation Loss: 2.992..  Validation Accuracy: 0.536\n",
            "Epoch: 245/300..  Training Loss: 0.004..  Validation Loss: 5.915..  Validation Accuracy: 0.411\n",
            "Epoch: 245/300..  Training Loss: 0.029..  Validation Loss: 4.495..  Validation Accuracy: 0.393\n",
            "Epoch: 245/300..  Training Loss: 0.007..  Validation Loss: 3.733..  Validation Accuracy: 0.429\n",
            "Epoch: 246/300..  Training Loss: 0.015..  Validation Loss: 3.545..  Validation Accuracy: 0.554\n",
            "Epoch: 246/300..  Training Loss: 0.025..  Validation Loss: 3.096..  Validation Accuracy: 0.643\n",
            "Epoch: 247/300..  Training Loss: 0.029..  Validation Loss: 3.035..  Validation Accuracy: 0.464\n",
            "Epoch: 247/300..  Training Loss: 0.033..  Validation Loss: 2.949..  Validation Accuracy: 0.571\n",
            "Epoch: 248/300..  Training Loss: 0.041..  Validation Loss: 3.086..  Validation Accuracy: 0.554\n",
            "Epoch: 248/300..  Training Loss: 0.020..  Validation Loss: 3.146..  Validation Accuracy: 0.554\n",
            "Epoch: 249/300..  Training Loss: 0.004..  Validation Loss: 2.900..  Validation Accuracy: 0.411\n",
            "Epoch: 249/300..  Training Loss: 0.066..  Validation Loss: 3.264..  Validation Accuracy: 0.482\n",
            "Epoch: 250/300..  Training Loss: 0.003..  Validation Loss: 3.737..  Validation Accuracy: 0.375\n",
            "Epoch: 250/300..  Training Loss: 0.006..  Validation Loss: 4.211..  Validation Accuracy: 0.393\n",
            "Epoch: 250/300..  Training Loss: 0.094..  Validation Loss: 3.731..  Validation Accuracy: 0.464\n",
            "Epoch: 251/300..  Training Loss: 0.028..  Validation Loss: 3.394..  Validation Accuracy: 0.554\n",
            "Epoch: 251/300..  Training Loss: 0.040..  Validation Loss: 3.586..  Validation Accuracy: 0.446\n",
            "Epoch: 252/300..  Training Loss: 0.010..  Validation Loss: 4.833..  Validation Accuracy: 0.429\n",
            "Epoch: 252/300..  Training Loss: 0.042..  Validation Loss: 3.592..  Validation Accuracy: 0.411\n",
            "Epoch: 253/300..  Training Loss: 0.008..  Validation Loss: 3.793..  Validation Accuracy: 0.393\n",
            "Epoch: 253/300..  Training Loss: 0.014..  Validation Loss: 3.448..  Validation Accuracy: 0.536\n",
            "Epoch: 254/300..  Training Loss: 0.006..  Validation Loss: 3.592..  Validation Accuracy: 0.536\n",
            "Epoch: 254/300..  Training Loss: 0.006..  Validation Loss: 4.439..  Validation Accuracy: 0.411\n",
            "Epoch: 255/300..  Training Loss: 0.006..  Validation Loss: 3.929..  Validation Accuracy: 0.429\n",
            "Epoch: 255/300..  Training Loss: 0.036..  Validation Loss: 3.642..  Validation Accuracy: 0.607\n",
            "Epoch: 255/300..  Training Loss: 0.004..  Validation Loss: 4.232..  Validation Accuracy: 0.500\n",
            "Epoch: 256/300..  Training Loss: 0.029..  Validation Loss: 3.906..  Validation Accuracy: 0.500\n",
            "Epoch: 256/300..  Training Loss: 0.007..  Validation Loss: 3.738..  Validation Accuracy: 0.589\n",
            "Epoch: 257/300..  Training Loss: 0.017..  Validation Loss: 3.808..  Validation Accuracy: 0.589\n",
            "Epoch: 257/300..  Training Loss: 0.008..  Validation Loss: 3.958..  Validation Accuracy: 0.589\n",
            "Epoch: 258/300..  Training Loss: 0.002..  Validation Loss: 4.002..  Validation Accuracy: 0.589\n",
            "Epoch: 258/300..  Training Loss: 0.004..  Validation Loss: 4.726..  Validation Accuracy: 0.446\n",
            "Epoch: 259/300..  Training Loss: 0.007..  Validation Loss: 4.137..  Validation Accuracy: 0.571\n",
            "Epoch: 259/300..  Training Loss: 0.076..  Validation Loss: 4.250..  Validation Accuracy: 0.571\n",
            "Epoch: 260/300..  Training Loss: 0.000..  Validation Loss: 5.892..  Validation Accuracy: 0.464\n",
            "Epoch: 260/300..  Training Loss: 0.007..  Validation Loss: 4.405..  Validation Accuracy: 0.554\n",
            "Epoch: 260/300..  Training Loss: 0.030..  Validation Loss: 4.428..  Validation Accuracy: 0.554\n",
            "Epoch: 261/300..  Training Loss: 0.008..  Validation Loss: 4.980..  Validation Accuracy: 0.446\n",
            "Epoch: 261/300..  Training Loss: 0.005..  Validation Loss: 4.494..  Validation Accuracy: 0.554\n",
            "Epoch: 262/300..  Training Loss: 0.004..  Validation Loss: 4.956..  Validation Accuracy: 0.411\n",
            "Epoch: 262/300..  Training Loss: 0.021..  Validation Loss: 4.282..  Validation Accuracy: 0.554\n",
            "Epoch: 263/300..  Training Loss: 0.006..  Validation Loss: 5.521..  Validation Accuracy: 0.446\n",
            "Epoch: 263/300..  Training Loss: 0.027..  Validation Loss: 4.309..  Validation Accuracy: 0.589\n",
            "Epoch: 264/300..  Training Loss: 0.000..  Validation Loss: 4.331..  Validation Accuracy: 0.589\n",
            "Epoch: 264/300..  Training Loss: 0.081..  Validation Loss: 5.344..  Validation Accuracy: 0.446\n",
            "Epoch: 265/300..  Training Loss: 0.000..  Validation Loss: 4.339..  Validation Accuracy: 0.464\n",
            "Epoch: 265/300..  Training Loss: 0.004..  Validation Loss: 4.977..  Validation Accuracy: 0.446\n",
            "Epoch: 265/300..  Training Loss: 0.097..  Validation Loss: 5.740..  Validation Accuracy: 0.464\n",
            "Epoch: 266/300..  Training Loss: 0.092..  Validation Loss: 4.952..  Validation Accuracy: 0.411\n",
            "Epoch: 266/300..  Training Loss: 0.486..  Validation Loss: 1.819..  Validation Accuracy: 0.536\n",
            "Epoch: 267/300..  Training Loss: 0.116..  Validation Loss: 3.090..  Validation Accuracy: 0.357\n",
            "Epoch: 267/300..  Training Loss: 0.115..  Validation Loss: 2.225..  Validation Accuracy: 0.518\n",
            "Epoch: 268/300..  Training Loss: 0.034..  Validation Loss: 3.742..  Validation Accuracy: 0.429\n",
            "Epoch: 268/300..  Training Loss: 0.063..  Validation Loss: 2.721..  Validation Accuracy: 0.518\n",
            "Epoch: 269/300..  Training Loss: 0.032..  Validation Loss: 3.350..  Validation Accuracy: 0.536\n",
            "Epoch: 269/300..  Training Loss: 0.014..  Validation Loss: 3.796..  Validation Accuracy: 0.571\n",
            "Epoch: 270/300..  Training Loss: 0.001..  Validation Loss: 2.722..  Validation Accuracy: 0.393\n",
            "Epoch: 270/300..  Training Loss: 0.069..  Validation Loss: 2.974..  Validation Accuracy: 0.411\n",
            "Epoch: 270/300..  Training Loss: 0.054..  Validation Loss: 3.190..  Validation Accuracy: 0.482\n",
            "Epoch: 271/300..  Training Loss: 0.032..  Validation Loss: 2.895..  Validation Accuracy: 0.607\n",
            "Epoch: 271/300..  Training Loss: 0.132..  Validation Loss: 2.583..  Validation Accuracy: 0.607\n",
            "Epoch: 272/300..  Training Loss: 0.078..  Validation Loss: 5.160..  Validation Accuracy: 0.429\n",
            "Epoch: 272/300..  Training Loss: 0.046..  Validation Loss: 6.587..  Validation Accuracy: 0.393\n",
            "Epoch: 273/300..  Training Loss: 0.028..  Validation Loss: 5.234..  Validation Accuracy: 0.393\n",
            "Epoch: 273/300..  Training Loss: 0.031..  Validation Loss: 5.555..  Validation Accuracy: 0.411\n",
            "Epoch: 274/300..  Training Loss: 0.001..  Validation Loss: 4.951..  Validation Accuracy: 0.536\n",
            "Epoch: 274/300..  Training Loss: 0.051..  Validation Loss: 4.774..  Validation Accuracy: 0.518\n",
            "Epoch: 275/300..  Training Loss: 0.010..  Validation Loss: 4.414..  Validation Accuracy: 0.500\n",
            "Epoch: 275/300..  Training Loss: 0.071..  Validation Loss: 4.135..  Validation Accuracy: 0.571\n",
            "Epoch: 275/300..  Training Loss: 0.008..  Validation Loss: 4.597..  Validation Accuracy: 0.411\n",
            "Epoch: 276/300..  Training Loss: 0.121..  Validation Loss: 3.780..  Validation Accuracy: 0.571\n",
            "Epoch: 276/300..  Training Loss: 0.042..  Validation Loss: 3.844..  Validation Accuracy: 0.571\n",
            "Epoch: 277/300..  Training Loss: 0.058..  Validation Loss: 5.140..  Validation Accuracy: 0.446\n",
            "Epoch: 277/300..  Training Loss: 0.026..  Validation Loss: 3.898..  Validation Accuracy: 0.571\n",
            "Epoch: 278/300..  Training Loss: 0.004..  Validation Loss: 4.294..  Validation Accuracy: 0.446\n",
            "Epoch: 278/300..  Training Loss: 0.060..  Validation Loss: 3.957..  Validation Accuracy: 0.571\n",
            "Epoch: 279/300..  Training Loss: 0.012..  Validation Loss: 4.116..  Validation Accuracy: 0.571\n",
            "Epoch: 279/300..  Training Loss: 0.184..  Validation Loss: 4.810..  Validation Accuracy: 0.429\n",
            "Epoch: 280/300..  Training Loss: 0.200..  Validation Loss: 2.900..  Validation Accuracy: 0.679\n",
            "Epoch: 280/300..  Training Loss: 0.374..  Validation Loss: 3.120..  Validation Accuracy: 0.571\n",
            "Epoch: 280/300..  Training Loss: 0.135..  Validation Loss: 2.389..  Validation Accuracy: 0.446\n",
            "Epoch: 281/300..  Training Loss: 0.133..  Validation Loss: 2.454..  Validation Accuracy: 0.464\n",
            "Epoch: 281/300..  Training Loss: 0.094..  Validation Loss: 2.566..  Validation Accuracy: 0.589\n",
            "Epoch: 282/300..  Training Loss: 0.113..  Validation Loss: 2.610..  Validation Accuracy: 0.429\n",
            "Epoch: 282/300..  Training Loss: 0.073..  Validation Loss: 2.449..  Validation Accuracy: 0.571\n",
            "Epoch: 283/300..  Training Loss: 0.028..  Validation Loss: 2.596..  Validation Accuracy: 0.625\n",
            "Epoch: 283/300..  Training Loss: 0.049..  Validation Loss: 3.940..  Validation Accuracy: 0.482\n",
            "Epoch: 284/300..  Training Loss: 0.006..  Validation Loss: 3.908..  Validation Accuracy: 0.500\n",
            "Epoch: 284/300..  Training Loss: 0.034..  Validation Loss: 2.982..  Validation Accuracy: 0.643\n",
            "Epoch: 285/300..  Training Loss: 0.007..  Validation Loss: 3.127..  Validation Accuracy: 0.464\n",
            "Epoch: 285/300..  Training Loss: 0.038..  Validation Loss: 3.333..  Validation Accuracy: 0.589\n",
            "Epoch: 285/300..  Training Loss: 0.023..  Validation Loss: 3.628..  Validation Accuracy: 0.589\n",
            "Epoch: 286/300..  Training Loss: 0.017..  Validation Loss: 4.972..  Validation Accuracy: 0.464\n",
            "Epoch: 286/300..  Training Loss: 0.051..  Validation Loss: 4.037..  Validation Accuracy: 0.607\n",
            "Epoch: 287/300..  Training Loss: 0.014..  Validation Loss: 3.915..  Validation Accuracy: 0.625\n",
            "Epoch: 287/300..  Training Loss: 0.034..  Validation Loss: 4.436..  Validation Accuracy: 0.482\n",
            "Epoch: 288/300..  Training Loss: 0.053..  Validation Loss: 3.555..  Validation Accuracy: 0.607\n",
            "Epoch: 288/300..  Training Loss: 0.036..  Validation Loss: 3.427..  Validation Accuracy: 0.607\n",
            "Epoch: 289/300..  Training Loss: 0.143..  Validation Loss: 2.768..  Validation Accuracy: 0.607\n",
            "Epoch: 289/300..  Training Loss: 0.037..  Validation Loss: 2.560..  Validation Accuracy: 0.482\n",
            "Epoch: 290/300..  Training Loss: 0.005..  Validation Loss: 2.092..  Validation Accuracy: 0.589\n",
            "Epoch: 290/300..  Training Loss: 0.072..  Validation Loss: 2.996..  Validation Accuracy: 0.446\n",
            "Epoch: 290/300..  Training Loss: 0.028..  Validation Loss: 2.312..  Validation Accuracy: 0.571\n",
            "Epoch: 291/300..  Training Loss: 0.026..  Validation Loss: 2.527..  Validation Accuracy: 0.554\n",
            "Epoch: 291/300..  Training Loss: 0.061..  Validation Loss: 2.773..  Validation Accuracy: 0.554\n",
            "Epoch: 292/300..  Training Loss: 0.038..  Validation Loss: 3.169..  Validation Accuracy: 0.411\n",
            "Epoch: 292/300..  Training Loss: 0.010..  Validation Loss: 3.537..  Validation Accuracy: 0.446\n",
            "Epoch: 293/300..  Training Loss: 0.005..  Validation Loss: 3.833..  Validation Accuracy: 0.464\n",
            "Epoch: 293/300..  Training Loss: 0.013..  Validation Loss: 3.012..  Validation Accuracy: 0.536\n",
            "Epoch: 294/300..  Training Loss: 0.039..  Validation Loss: 3.372..  Validation Accuracy: 0.429\n",
            "Epoch: 294/300..  Training Loss: 0.052..  Validation Loss: 3.207..  Validation Accuracy: 0.429\n",
            "Epoch: 295/300..  Training Loss: 0.001..  Validation Loss: 3.274..  Validation Accuracy: 0.482\n",
            "Epoch: 295/300..  Training Loss: 0.039..  Validation Loss: 2.129..  Validation Accuracy: 0.589\n",
            "Epoch: 295/300..  Training Loss: 0.071..  Validation Loss: 2.642..  Validation Accuracy: 0.464\n",
            "Epoch: 296/300..  Training Loss: 0.034..  Validation Loss: 2.471..  Validation Accuracy: 0.571\n",
            "Epoch: 296/300..  Training Loss: 0.030..  Validation Loss: 2.776..  Validation Accuracy: 0.589\n",
            "Epoch: 297/300..  Training Loss: 0.055..  Validation Loss: 2.848..  Validation Accuracy: 0.607\n",
            "Epoch: 297/300..  Training Loss: 0.040..  Validation Loss: 3.224..  Validation Accuracy: 0.625\n",
            "Epoch: 298/300..  Training Loss: 0.027..  Validation Loss: 3.547..  Validation Accuracy: 0.446\n",
            "Epoch: 298/300..  Training Loss: 0.022..  Validation Loss: 2.810..  Validation Accuracy: 0.571\n",
            "Epoch: 299/300..  Training Loss: 0.016..  Validation Loss: 4.269..  Validation Accuracy: 0.500\n",
            "Epoch: 299/300..  Training Loss: 0.025..  Validation Loss: 4.024..  Validation Accuracy: 0.518\n",
            "Epoch: 300/300..  Training Loss: 0.017..  Validation Loss: 4.763..  Validation Accuracy: 0.500\n",
            "Epoch: 300/300..  Training Loss: 0.000..  Validation Loss: 3.663..  Validation Accuracy: 0.500\n",
            "Epoch: 300/300..  Training Loss: 0.015..  Validation Loss: 3.693..  Validation Accuracy: 0.643\n"
          ]
        }
      ]
    },
    {
      "cell_type": "markdown",
      "source": [
        "#### Validation on Test Set"
      ],
      "metadata": {
        "id": "rpL0AzGbpoMS"
      }
    },
    {
      "cell_type": "code",
      "source": [
        "def test_accuracy(model, test_loader):\n",
        "\n",
        "    model.eval()\n",
        "    model.to(device)\n",
        "    with torch.no_grad():\n",
        "        accuracy = 0\n",
        "        for images, labels in iter(test_loader):\n",
        "            images, labels = images.to(device), labels.to(device)\n",
        "            output = model.forward(images)\n",
        "            probabilities = torch.exp(output)\n",
        "            equality = (labels.data == probabilities.max(dim=1)[1])\n",
        "            accuracy += equality.type(torch.FloatTensor).mean()\n",
        "        print(\"Test Accuracy: {}\".format(accuracy/len(test_loader)))    \n",
        "        \n",
        "        \n",
        "test_accuracy(model, test_loader)"
      ],
      "metadata": {
        "id": "dvsdfcnsoZKT",
        "colab": {
          "base_uri": "https://localhost:8080/"
        },
        "outputId": "29904a0d-c727-4faa-e93c-1cd8e3cad62d"
      },
      "execution_count": 18,
      "outputs": [
        {
          "output_type": "stream",
          "name": "stdout",
          "text": [
            "Test Accuracy: 0.75\n"
          ]
        }
      ]
    },
    {
      "cell_type": "markdown",
      "source": [
        "#### Saving the Trained Model"
      ],
      "metadata": {
        "id": "KH-o4h1VqcAv"
      }
    },
    {
      "cell_type": "code",
      "source": [
        "def save_checkpoint(model):\n",
        "\n",
        "    model.class_to_idx = train_dataset.class_to_idx\n",
        "\n",
        "    checkpoint = {'arch': \"vgg16\",\n",
        "                  'class_to_idx': model.class_to_idx,\n",
        "                  'model_state_dict': model.state_dict()\n",
        "                 }\n",
        "\n",
        "    torch.save(checkpoint, 'checkpoint.pth')\n",
        "    \n",
        "save_checkpoint(model)    "
      ],
      "metadata": {
        "id": "S--Eofl8qf6Q",
        "colab": {
          "base_uri": "https://localhost:8080/",
          "height": 346
        },
        "outputId": "d3675cc9-13ad-4963-9e71-17ad1a79ec9d"
      },
      "execution_count": 19,
      "outputs": [
        {
          "output_type": "error",
          "ename": "AttributeError",
          "evalue": "ignored",
          "traceback": [
            "\u001b[0;31m---------------------------------------------------------------------------\u001b[0m",
            "\u001b[0;31mAttributeError\u001b[0m                            Traceback (most recent call last)",
            "\u001b[0;32m<ipython-input-19-c2f312240d76>\u001b[0m in \u001b[0;36m<module>\u001b[0;34m()\u001b[0m\n\u001b[1;32m     10\u001b[0m     \u001b[0mtorch\u001b[0m\u001b[0;34m.\u001b[0m\u001b[0msave\u001b[0m\u001b[0;34m(\u001b[0m\u001b[0mcheckpoint\u001b[0m\u001b[0;34m,\u001b[0m \u001b[0;34m'checkpoint.pth'\u001b[0m\u001b[0;34m)\u001b[0m\u001b[0;34m\u001b[0m\u001b[0;34m\u001b[0m\u001b[0m\n\u001b[1;32m     11\u001b[0m \u001b[0;34m\u001b[0m\u001b[0m\n\u001b[0;32m---> 12\u001b[0;31m \u001b[0msave_checkpoint\u001b[0m\u001b[0;34m(\u001b[0m\u001b[0mmodel\u001b[0m\u001b[0;34m)\u001b[0m\u001b[0;34m\u001b[0m\u001b[0;34m\u001b[0m\u001b[0m\n\u001b[0m",
            "\u001b[0;32m<ipython-input-19-c2f312240d76>\u001b[0m in \u001b[0;36msave_checkpoint\u001b[0;34m(model)\u001b[0m\n\u001b[1;32m      1\u001b[0m \u001b[0;32mdef\u001b[0m \u001b[0msave_checkpoint\u001b[0m\u001b[0;34m(\u001b[0m\u001b[0mmodel\u001b[0m\u001b[0;34m)\u001b[0m\u001b[0;34m:\u001b[0m\u001b[0;34m\u001b[0m\u001b[0;34m\u001b[0m\u001b[0m\n\u001b[1;32m      2\u001b[0m \u001b[0;34m\u001b[0m\u001b[0m\n\u001b[0;32m----> 3\u001b[0;31m     \u001b[0mmodel\u001b[0m\u001b[0;34m.\u001b[0m\u001b[0mclass_to_idx\u001b[0m \u001b[0;34m=\u001b[0m \u001b[0mtrain_dataset\u001b[0m\u001b[0;34m.\u001b[0m\u001b[0mclass_to_idx\u001b[0m\u001b[0;34m\u001b[0m\u001b[0;34m\u001b[0m\u001b[0m\n\u001b[0m\u001b[1;32m      4\u001b[0m \u001b[0;34m\u001b[0m\u001b[0m\n\u001b[1;32m      5\u001b[0m     checkpoint = {'arch': \"vgg16\",\n",
            "\u001b[0;32m/usr/local/lib/python3.7/dist-packages/torch/utils/data/dataset.py\u001b[0m in \u001b[0;36m__getattr__\u001b[0;34m(self, attribute_name)\u001b[0m\n\u001b[1;32m     81\u001b[0m             \u001b[0;32mreturn\u001b[0m \u001b[0mfunction\u001b[0m\u001b[0;34m\u001b[0m\u001b[0;34m\u001b[0m\u001b[0m\n\u001b[1;32m     82\u001b[0m         \u001b[0;32melse\u001b[0m\u001b[0;34m:\u001b[0m\u001b[0;34m\u001b[0m\u001b[0;34m\u001b[0m\u001b[0m\n\u001b[0;32m---> 83\u001b[0;31m             \u001b[0;32mraise\u001b[0m \u001b[0mAttributeError\u001b[0m\u001b[0;34m\u001b[0m\u001b[0;34m\u001b[0m\u001b[0m\n\u001b[0m\u001b[1;32m     84\u001b[0m \u001b[0;34m\u001b[0m\u001b[0m\n\u001b[1;32m     85\u001b[0m     \u001b[0;34m@\u001b[0m\u001b[0mclassmethod\u001b[0m\u001b[0;34m\u001b[0m\u001b[0;34m\u001b[0m\u001b[0m\n",
            "\u001b[0;31mAttributeError\u001b[0m: "
          ]
        }
      ]
    }
  ]
}