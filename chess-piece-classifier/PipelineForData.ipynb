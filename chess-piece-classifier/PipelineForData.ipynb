{
  "nbformat": 4,
  "nbformat_minor": 0,
  "metadata": {
    "colab": {
      "name": "PipelineForData.ipynb",
      "provenance": [],
      "collapsed_sections": []
    },
    "kernelspec": {
      "name": "python3",
      "display_name": "Python 3"
    },
    "language_info": {
      "name": "python"
    }
  },
  "cells": [
    {
      "cell_type": "code",
      "execution_count": null,
      "metadata": {
        "id": "3EP7j_ZFVxbL",
        "colab": {
          "base_uri": "https://localhost:8080/"
        },
        "outputId": "0d96dade-3baa-4287-c12e-09b97e3db0dc"
      },
      "outputs": [
        {
          "output_type": "stream",
          "name": "stdout",
          "text": [
            "Mounted at /content/drive\n"
          ]
        }
      ],
      "source": [
        "from PIL import Image\n",
        "from google.colab.patches import cv2_imshow\n",
        "import cv2\n",
        "import numpy as np\n",
        "import pandas as pd\n",
        "from google.colab import drive\n",
        "drive.mount('/content/drive')"
      ]
    },
    {
      "cell_type": "code",
      "source": [
        "def fen_to_color(string):\n",
        "  out = {}\n",
        "  letters = \"ABCDEFGH\"\n",
        "  for i in range(8):\n",
        "    for j in range(1,9):\n",
        "      out[letters[i] + str(j)] = 0\n",
        "  string = string.split('/')\n",
        "  new_string = []\n",
        "  for s in string:\n",
        "    for d in s:\n",
        "      if d.isnumeric():\n",
        "        ix = s.index(d)\n",
        "        for i in range(int(d)-1):\n",
        "          s = s[0:ix] + '1' + s[ix:]\n",
        "    new_string.append(s)\n",
        "  for i in range(8, 0, -1):\n",
        "    for j in range(8):\n",
        "      if new_string[8-i][j].islower():\n",
        "        out[letters[j] + str(i)] = 1 #orange\n",
        "      elif new_string[8-i][j].isupper():\n",
        "        out[letters[j] + str(i)] = 2 #blue\n",
        "  return out\n",
        "\n",
        "def fen_to_dict(string):\n",
        "\n",
        "  name_to_num = {\n",
        "      'p' : 1,\n",
        "      'b' : 2,\n",
        "      'n' : 3,\n",
        "      'r' : 4,\n",
        "      'q' : 5,\n",
        "      'k' : 6\n",
        "  }\n",
        "\n",
        "  out = {}\n",
        "  letters = \"ABCDEFGH\"\n",
        "  for i in range(8):\n",
        "    for j in range(1,9):\n",
        "      out[letters[i] + str(j)] = 0\n",
        "  string = string.split('/')\n",
        "  new_string = []\n",
        "  for s in string:\n",
        "    for d in s:\n",
        "      if d.isnumeric():\n",
        "        ix = s.index(d)\n",
        "        for i in range(int(d)-1):\n",
        "          s = s[0:ix] + '1' + s[ix:]\n",
        "    new_string.append(s)\n",
        "  for i in range(8, 0, -1):\n",
        "    for j in range(8):\n",
        "      if new_string[8-i][j].isnumeric():\n",
        "        out[letters[j] + str(i)] = 0\n",
        "      else:\n",
        "        out[letters[j] + str(i)] = name_to_num[new_string[8-i][j].lower()]\n",
        "\n",
        "  return out\n",
        "\n",
        "def cropped_board_to_tiles(img):\n",
        "    CHESS_TILES = {}\n",
        "    num_rows = img.shape[0]\n",
        "    num_cols = img.shape[1]\n",
        "    rows_per_tile = num_rows//8\n",
        "    cols_per_tile = num_cols//8\n",
        "    letters = \"ABCDEFGH\"\n",
        "    for i in range(8, 0, -1):\n",
        "        for j in range(8):\n",
        "            CHESS_TILES[letters[j] + str(i)] = img[(8 - i) * rows_per_tile : (9 - i) * rows_per_tile, j * cols_per_tile : (j + 1) * cols_per_tile] \n",
        "    return CHESS_TILES\n",
        "\n",
        "def img_to_file(img, base_directory=None):\n",
        "    name = 'f' + \"\".join(map(str, np.random.permutation(10).tolist())) + \".jpg\"\n",
        "    if base_directory is None:\n",
        "        wpath = name\n",
        "    else: \n",
        "        wpath = base_directory + name\n",
        "    cv2.imwrite(wpath, img)\n",
        "    return name\n",
        "\n",
        "def board_to_64_files(img, positions, colors, base_directory=None):\n",
        "    CHESS_TILES = {}\n",
        "    dict = cropped_board_to_tiles(img)\n",
        "    for key in dict.keys():\n",
        "        CHESS_TILES[key] = (img_to_file(dict[key], base_directory), positions[key], colors[key])\n",
        "    return CHESS_TILES"
      ],
      "metadata": {
        "id": "-IXEPdbgV_ic"
      },
      "execution_count": null,
      "outputs": []
    },
    {
      "cell_type": "code",
      "source": [
        "# Example Code:\n",
        "\n",
        "# img = image of board\n",
        "img = cv2.imread(\"/content/drive/MyDrive/turk_data/rasbperry_turk/raw/1/0/1481228945.jpg\")\n",
        "cv2_imshow(img)\n",
        "\n",
        "# fen_string is a string that is a fen\n",
        "fen_string = '2nrQ2N/2P1p1PP/2p4B/kPp3K1/P5Qq/qnRrPPpb/B1N2p1p/P1pRp2b'\n",
        "\n",
        "# given a fen it generates a dict of colors of positions of board\n",
        "colors = fen_to_color(fen_string)\n",
        "\n",
        "\n",
        "# given a fen it generates a dict of positions of board\n",
        "positions = fen_to_dict(fen_string)\n",
        "\n",
        "# breaks the board into 64 tiles and annotates them with the dict generated from fen\n",
        "# writes the 64 images\n",
        "tiles = board_to_64_files(img, positions, colors)\n",
        "\n",
        "# creates a pandas dataframe\n",
        "data_frame = pd.DataFrame(tiles)\n",
        "data_frame = data_frame.transpose()\n",
        "\n",
        "# creates a csv\n",
        "csv_file = data_frame.to_csv('my_csv.csv', header=False, index=False)"
      ],
      "metadata": {
        "id": "jmpeZDsPWgDB"
      },
      "execution_count": null,
      "outputs": []
    },
    {
      "cell_type": "markdown",
      "source": [
        "# FEN For Picture where top right is a orange rook\n",
        "\n",
        "# 5P1r/1q1Rp1P1/3r1P2/qqppk1R1/1b1k1n2/B1r2n1B/N2B3R/2b1bN2\n",
        "\n"
      ],
      "metadata": {
        "id": "ukCrdKqJSCyn"
      }
    },
    {
      "cell_type": "markdown",
      "source": [
        "# FEN For Picture where all corners are empty\n",
        "\n",
        "# 1b1b1qP1/1N2r2R/2BP1k2/1k1q1RB1/r1npq1r1/1B6/2pnP1NR/1b2p3"
      ],
      "metadata": {
        "id": "6YeuRJxOT-25"
      }
    }
  ]
}