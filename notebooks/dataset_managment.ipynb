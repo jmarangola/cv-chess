{
 "cells": [
  {
   "cell_type": "markdown",
   "metadata": {},
   "source": [
    "This notebook is dedicated to establishing a reliable method of transferring batches of data to and from Google Drive and storing metadata in an accessible format\n",
    "\n",
    "John Marangola\n",
    "11/2/2021\n",
    "\n",
    "We begin by sketching out how data should be clearly and efficiently stored as follows:"
   ]
  },
  {
   "cell_type": "markdown",
   "metadata": {},
   "source": [
    "In order to standardize on a simple and very useful convention, we define an enum for the pieces on the chess board. "
   ]
  },
  {
   "cell_type": "code",
   "execution_count": 1,
   "metadata": {},
   "outputs": [
    {
     "name": "stdout",
     "output_type": "stream",
     "text": [
      "This is a pawn!\n",
      "Not a knight!\n"
     ]
    }
   ],
   "source": [
    "import pandas as pd\n",
    "import numpy as np\n",
    "from enum import Enum\n",
    "\n",
    "class ChessPiece(Enum):\n",
    "    PAWN = 1\n",
    "    ROOK = 2\n",
    "    KNIGHT = 3\n",
    "    KING = 4\n",
    "    QUEEN = 5\n",
    "    BISHOP = 6\n",
    "    EMPTY = 7\n",
    "     \n",
    "piece = ChessPiece.PAWN\n",
    "if piece is ChessPiece.PAWN:\n",
    "    print(\"This is a pawn!\")\n",
    "if piece != ChessPiece.KNIGHT:\n",
    "    print(\"Not a knight!\")\n",
    "\n",
    "\n"
   ]
  },
  {
   "cell_type": "markdown",
   "metadata": {},
   "source": [
    "In order to avoid remembering ambiguous conventions such as T/F for colors of square and color of piece (Which takes time to remember and makes de bugging hard), we use a similiar standard enum for colors of things (pieces and squares)."
   ]
  },
  {
   "cell_type": "code",
   "execution_count": 9,
   "metadata": {},
   "outputs": [
    {
     "name": "stdout",
     "output_type": "stream",
     "text": [
      "pieces are opponents\n"
     ]
    }
   ],
   "source": [
    "class Color(Enum):\n",
    "    ORANGE = 1\n",
    "    BLUE = 2\n",
    "    BLACK = 3\n",
    "    WHITE = 4\n",
    "\n",
    "piece_1_color = Color.ORANGE\n",
    "piece_2_color = Color.BLUE\n",
    "print(\"pieces are opponents\") if piece_1_color != piece_2_color else \"pieces are allies\""
   ]
  },
  {
   "cell_type": "markdown",
   "metadata": {},
   "source": [
    "Now we find a clear convention for labelling positions on the board. If you are unfamiliar with chess take a look at this image that visually explains so-called \"algebraic\" notation:\n"
   ]
  },
  {
   "cell_type": "code",
   "execution_count": 8,
   "metadata": {},
   "outputs": [],
   "source": [
    "import urllib.request\n",
    "from PIL import Image\n",
    "\n",
    "urllib.request.urlretrieve(\n",
    "  \"https://upload.wikimedia.org/wikipedia/commons/thumb/b/b6/SCD_algebraic_notation.svg/1200px-SCD_algebraic_notation.svg.png\", \"SCD_algebraic_notation.svg\")\n",
    "  \n",
    "img = Image.open(\"SCD_algebraic_notation.svg\")\n",
    "img.show()"
   ]
  },
  {
   "cell_type": "markdown",
   "metadata": {},
   "source": [
    "For the sake of simplicity, we will define positions as \"LN\" where L is the letter associated with the position and N is the number associated with the position ie:"
   ]
  },
  {
   "cell_type": "code",
   "execution_count": 7,
   "metadata": {},
   "outputs": [
    {
     "name": "stdout",
     "output_type": "stream",
     "text": [
      "automatic case convesion works: True\n",
      "position2 equals position1: False\n"
     ]
    }
   ],
   "source": [
    "position1 = \"e2\"\n",
    "position1_alt = \"E2\"\n",
    "position1_alt = position1_alt.lower()\n",
    "print(f\"automatic case convesion works: {position1 == position1_alt}\")\n",
    "\n",
    "position2 = \"g1\"\n",
    "print(f\"position2 equals position1: {position2 == position1}\")"
   ]
  },
  {
   "cell_type": "markdown",
   "metadata": {},
   "source": [
    "This appears to be robust. Since the convention in chess is always <letter><number> it is illogical to even worry about things such as 2e and e2 not being equivalent. Now lets move on to the storing all the metadata for a single piece. We decided that the metadata fields that should be recorded for each image are:\n",
    "    1. Piece type\n",
    "    2. Piece color (or lack of)\n",
    "    3. Position\n",
    "    4. Color of tile\n",
    "\n",
    "We can therefore define a function that recieves these fields as parameters: "
   ]
  },
  {
   "cell_type": "code",
   "execution_count": 10,
   "metadata": {},
   "outputs": [
    {
     "name": "stdout",
     "output_type": "stream",
     "text": [
      "ROOK\n",
      "piece color: ORANGE\n",
      "position: e5\n",
      "tile color: BLACK\n"
     ]
    }
   ],
   "source": [
    "\n",
    "# (Skip type validation for now)\n",
    "def print_metadata(piece_type, piece_color, position, tile_color):\n",
    "    print(piece_type.name)\n",
    "    print(f\"piece color: {piece_color.name}\")\n",
    "    print(f\"position: {position.lower()}\")\n",
    "    print(f\"tile color: {tile_color.name}\")\n",
    "\n",
    "piece_color = Color.ORANGE\n",
    "piece_type = ChessPiece.ROOK\n",
    "position = \"E5\"\n",
    "tile_color = Color.BLACK\n",
    "\n",
    "print_metadata(piece_type, piece_color, position, tile_color)\n"
   ]
  },
  {
   "cell_type": "markdown",
   "metadata": {},
   "source": [
    "Clearly, we can never have any pieces other than {ROOK, KING, QUEEN, KNIGHT, ..., BISHOP} or the allowed colors. Everything is always in the correct format when saved and we will save space by only writing integers to the csv instead of numerous strings for instance:"
   ]
  },
  {
   "cell_type": "code",
   "execution_count": 11,
   "metadata": {},
   "outputs": [
    {
     "name": "stdout",
     "output_type": "stream",
     "text": [
      "3\n",
      "Color.BLACK\n"
     ]
    }
   ],
   "source": [
    "demo_color = Color.BLACK\n",
    "# \"write\" operation:\n",
    "print(demo_color.value)\n",
    "# Get the demo color back from # it is written as:\n",
    "print(Color(3))\n"
   ]
  },
  {
   "cell_type": "markdown",
   "metadata": {},
   "source": [
    "Since we need to store the metadata for many images, lets use pandas to organize this it in a way that is efficient! Heres a simple dataframe with random metadata:"
   ]
  },
  {
   "cell_type": "code",
   "execution_count": 12,
   "metadata": {},
   "outputs": [
    {
     "data": {
      "text/html": [
       "<div>\n",
       "<style scoped>\n",
       "    .dataframe tbody tr th:only-of-type {\n",
       "        vertical-align: middle;\n",
       "    }\n",
       "\n",
       "    .dataframe tbody tr th {\n",
       "        vertical-align: top;\n",
       "    }\n",
       "\n",
       "    .dataframe thead th {\n",
       "        text-align: right;\n",
       "    }\n",
       "</style>\n",
       "<table border=\"1\" class=\"dataframe\">\n",
       "  <thead>\n",
       "    <tr style=\"text-align: right;\">\n",
       "      <th></th>\n",
       "      <th>Piece Type</th>\n",
       "      <th>Piece Color</th>\n",
       "      <th>Position</th>\n",
       "      <th>Tile Color</th>\n",
       "    </tr>\n",
       "  </thead>\n",
       "  <tbody>\n",
       "    <tr>\n",
       "      <th>0</th>\n",
       "      <td>KNIGHT</td>\n",
       "      <td>BLUE</td>\n",
       "      <td>a5</td>\n",
       "      <td>WHITE</td>\n",
       "    </tr>\n",
       "    <tr>\n",
       "      <th>1</th>\n",
       "      <td>QUEEN</td>\n",
       "      <td>ORANGE</td>\n",
       "      <td>a6</td>\n",
       "      <td>BLACK</td>\n",
       "    </tr>\n",
       "    <tr>\n",
       "      <th>2</th>\n",
       "      <td>PAWN</td>\n",
       "      <td>ORANGE</td>\n",
       "      <td>c4</td>\n",
       "      <td>BLACK</td>\n",
       "    </tr>\n",
       "    <tr>\n",
       "      <th>3</th>\n",
       "      <td>BISHOP</td>\n",
       "      <td>ORANGE</td>\n",
       "      <td>a4</td>\n",
       "      <td>WHITE</td>\n",
       "    </tr>\n",
       "    <tr>\n",
       "      <th>4</th>\n",
       "      <td>KNIGHT</td>\n",
       "      <td>BLUE</td>\n",
       "      <td>c6</td>\n",
       "      <td>BLACK</td>\n",
       "    </tr>\n",
       "    <tr>\n",
       "      <th>5</th>\n",
       "      <td>ROOK</td>\n",
       "      <td>ORANGE</td>\n",
       "      <td>h1</td>\n",
       "      <td>WHITE</td>\n",
       "    </tr>\n",
       "    <tr>\n",
       "      <th>6</th>\n",
       "      <td>PAWN</td>\n",
       "      <td>BLUE</td>\n",
       "      <td>h1</td>\n",
       "      <td>BLACK</td>\n",
       "    </tr>\n",
       "    <tr>\n",
       "      <th>7</th>\n",
       "      <td>ROOK</td>\n",
       "      <td>ORANGE</td>\n",
       "      <td>d1</td>\n",
       "      <td>WHITE</td>\n",
       "    </tr>\n",
       "    <tr>\n",
       "      <th>8</th>\n",
       "      <td>KNIGHT</td>\n",
       "      <td>BLUE</td>\n",
       "      <td>a2</td>\n",
       "      <td>WHITE</td>\n",
       "    </tr>\n",
       "    <tr>\n",
       "      <th>9</th>\n",
       "      <td>KNIGHT</td>\n",
       "      <td>ORANGE</td>\n",
       "      <td>c8</td>\n",
       "      <td>BLACK</td>\n",
       "    </tr>\n",
       "  </tbody>\n",
       "</table>\n",
       "</div>"
      ],
      "text/plain": [
       "  Piece Type Piece Color Position Tile Color\n",
       "0     KNIGHT        BLUE       a5      WHITE\n",
       "1      QUEEN      ORANGE       a6      BLACK\n",
       "2       PAWN      ORANGE       c4      BLACK\n",
       "3     BISHOP      ORANGE       a4      WHITE\n",
       "4     KNIGHT        BLUE       c6      BLACK\n",
       "5       ROOK      ORANGE       h1      WHITE\n",
       "6       PAWN        BLUE       h1      BLACK\n",
       "7       ROOK      ORANGE       d1      WHITE\n",
       "8     KNIGHT        BLUE       a2      WHITE\n",
       "9     KNIGHT      ORANGE       c8      BLACK"
      ]
     },
     "execution_count": 12,
     "metadata": {},
     "output_type": "execute_result"
    }
   ],
   "source": [
    "import pandas as pd\n",
    "import numpy as np\n",
    "import random\n",
    "\n",
    "# Can rescale metadata table for any general number of images\n",
    "number_images = 10\n",
    "\n",
    "cols = [\"Piece Type\", \"Color\", \"Position\", \"Tile Color\"]\n",
    "rows = list(range(5))\n",
    "data = np.random.randn(5, number_images)\n",
    "df_temp = pd.DataFrame(\n",
    "    {\n",
    "        \"Piece Type\": [ChessPiece(random.randint(1, 7)).name for i in range(number_images)],\n",
    "        \"Piece Color\": [Color(random.choice([1, 2])).name for i in range(number_images)],\n",
    "        \"Position\" : [random.choice(list(\"abcdefgh\")) + str(random.randint(1, 8)) for i in range(number_images)],\n",
    "        \"Tile Color\" : [Color(random.randint(3, 4)).name for i in range(number_images)]\n",
    "    }\n",
    ")\n",
    "df_temp"
   ]
  },
  {
   "cell_type": "markdown",
   "metadata": {},
   "source": [
    "Yes, it is possible to have an empty square with a piece color... the above data is totally randomly generated and just quick and dirty to get an idea of how this would work. \n",
    "\n",
    "Moving on we should probably add the camera pose as well:"
   ]
  },
  {
   "cell_type": "code",
   "execution_count": 13,
   "metadata": {},
   "outputs": [
    {
     "data": {
      "text/html": [
       "<div>\n",
       "<style scoped>\n",
       "    .dataframe tbody tr th:only-of-type {\n",
       "        vertical-align: middle;\n",
       "    }\n",
       "\n",
       "    .dataframe tbody tr th {\n",
       "        vertical-align: top;\n",
       "    }\n",
       "\n",
       "    .dataframe thead th {\n",
       "        text-align: right;\n",
       "    }\n",
       "</style>\n",
       "<table border=\"1\" class=\"dataframe\">\n",
       "  <thead>\n",
       "    <tr style=\"text-align: right;\">\n",
       "      <th></th>\n",
       "      <th>Piece Type</th>\n",
       "      <th>Piece Color</th>\n",
       "      <th>Position</th>\n",
       "      <th>Tile Color</th>\n",
       "      <th>Camera</th>\n",
       "    </tr>\n",
       "  </thead>\n",
       "  <tbody>\n",
       "    <tr>\n",
       "      <th>0</th>\n",
       "      <td>EMPTY</td>\n",
       "      <td>ORANGE</td>\n",
       "      <td>f6</td>\n",
       "      <td>BLACK</td>\n",
       "      <td>BIRDSEYE</td>\n",
       "    </tr>\n",
       "    <tr>\n",
       "      <th>1</th>\n",
       "      <td>KING</td>\n",
       "      <td>ORANGE</td>\n",
       "      <td>c1</td>\n",
       "      <td>BLACK</td>\n",
       "      <td>BIRDSEYE</td>\n",
       "    </tr>\n",
       "    <tr>\n",
       "      <th>2</th>\n",
       "      <td>KNIGHT</td>\n",
       "      <td>ORANGE</td>\n",
       "      <td>d8</td>\n",
       "      <td>BLACK</td>\n",
       "      <td>ANGLED</td>\n",
       "    </tr>\n",
       "    <tr>\n",
       "      <th>3</th>\n",
       "      <td>BISHOP</td>\n",
       "      <td>BLUE</td>\n",
       "      <td>h3</td>\n",
       "      <td>WHITE</td>\n",
       "      <td>ANGLED</td>\n",
       "    </tr>\n",
       "    <tr>\n",
       "      <th>4</th>\n",
       "      <td>QUEEN</td>\n",
       "      <td>ORANGE</td>\n",
       "      <td>g4</td>\n",
       "      <td>WHITE</td>\n",
       "      <td>ANGLED</td>\n",
       "    </tr>\n",
       "    <tr>\n",
       "      <th>5</th>\n",
       "      <td>ROOK</td>\n",
       "      <td>BLUE</td>\n",
       "      <td>h8</td>\n",
       "      <td>WHITE</td>\n",
       "      <td>BIRDSEYE</td>\n",
       "    </tr>\n",
       "    <tr>\n",
       "      <th>6</th>\n",
       "      <td>EMPTY</td>\n",
       "      <td>BLUE</td>\n",
       "      <td>d5</td>\n",
       "      <td>WHITE</td>\n",
       "      <td>BIRDSEYE</td>\n",
       "    </tr>\n",
       "    <tr>\n",
       "      <th>7</th>\n",
       "      <td>EMPTY</td>\n",
       "      <td>ORANGE</td>\n",
       "      <td>f2</td>\n",
       "      <td>BLACK</td>\n",
       "      <td>ANGLED</td>\n",
       "    </tr>\n",
       "    <tr>\n",
       "      <th>8</th>\n",
       "      <td>KING</td>\n",
       "      <td>BLUE</td>\n",
       "      <td>c2</td>\n",
       "      <td>WHITE</td>\n",
       "      <td>BIRDSEYE</td>\n",
       "    </tr>\n",
       "    <tr>\n",
       "      <th>9</th>\n",
       "      <td>QUEEN</td>\n",
       "      <td>ORANGE</td>\n",
       "      <td>e4</td>\n",
       "      <td>BLACK</td>\n",
       "      <td>ANGLED</td>\n",
       "    </tr>\n",
       "  </tbody>\n",
       "</table>\n",
       "</div>"
      ],
      "text/plain": [
       "  Piece Type Piece Color Position Tile Color    Camera\n",
       "0      EMPTY      ORANGE       f6      BLACK  BIRDSEYE\n",
       "1       KING      ORANGE       c1      BLACK  BIRDSEYE\n",
       "2     KNIGHT      ORANGE       d8      BLACK    ANGLED\n",
       "3     BISHOP        BLUE       h3      WHITE    ANGLED\n",
       "4      QUEEN      ORANGE       g4      WHITE    ANGLED\n",
       "5       ROOK        BLUE       h8      WHITE  BIRDSEYE\n",
       "6      EMPTY        BLUE       d5      WHITE  BIRDSEYE\n",
       "7      EMPTY      ORANGE       f2      BLACK    ANGLED\n",
       "8       KING        BLUE       c2      WHITE  BIRDSEYE\n",
       "9      QUEEN      ORANGE       e4      BLACK    ANGLED"
      ]
     },
     "execution_count": 13,
     "metadata": {},
     "output_type": "execute_result"
    }
   ],
   "source": [
    "# For now, lets keep it basic\n",
    "class Camera(Enum):\n",
    "    BIRDSEYE = 1\n",
    "    ANGLED = 2\n",
    "    \n",
    "df_temp = pd.DataFrame(\n",
    "    {\n",
    "        \"Piece Type\": [ChessPiece(random.randint(1, 7)).name for i in range(number_images)],\n",
    "        \"Piece Color\": [Color(random.choice([1, 2])).name for i in range(number_images)],\n",
    "        \"Position\" : [random.choice(list(\"abcdefgh\")) + str(random.randint(1, 8)) for i in range(number_images)],\n",
    "        \"Tile Color\" : [Color(random.randint(3, 4)).name for i in range(number_images)],\n",
    "        \"Camera\": [Camera(random.randint(1, 2)).name for i in range(number_images)]\n",
    "    }\n",
    ")\n",
    "df_temp"
   ]
  },
  {
   "cell_type": "markdown",
   "metadata": {},
   "source": [
    "Looking good, now lets move on to uploading the metadata to Google Drive."
   ]
  },
  {
   "cell_type": "code",
   "execution_count": 14,
   "metadata": {},
   "outputs": [
    {
     "name": "stdout",
     "output_type": "stream",
     "text": [
      "Requirement already satisfied: pydrive in /usr/local/lib/python3.9/site-packages (1.3.1)\n",
      "Requirement already satisfied: oauth2client>=4.0.0 in /usr/local/lib/python3.9/site-packages (from pydrive) (4.1.3)\n",
      "Requirement already satisfied: PyYAML>=3.0 in /usr/local/lib/python3.9/site-packages (from pydrive) (6.0)\n",
      "Requirement already satisfied: google-api-python-client>=1.2 in /usr/local/lib/python3.9/site-packages (from pydrive) (1.12.8)\n",
      "Requirement already satisfied: uritemplate<4dev,>=3.0.0 in /usr/local/lib/python3.9/site-packages (from google-api-python-client>=1.2->pydrive) (3.0.1)\n",
      "Requirement already satisfied: httplib2<1dev,>=0.15.0 in /usr/local/lib/python3.9/site-packages (from google-api-python-client>=1.2->pydrive) (0.19.0)\n",
      "Requirement already satisfied: google-auth>=1.16.0 in /usr/local/lib/python3.9/site-packages (from google-api-python-client>=1.2->pydrive) (1.26.1)\n",
      "Requirement already satisfied: google-api-core<2dev,>=1.21.0 in /usr/local/lib/python3.9/site-packages (from google-api-python-client>=1.2->pydrive) (1.26.0)\n",
      "Requirement already satisfied: six<2dev,>=1.13.0 in /usr/local/lib/python3.9/site-packages (from google-api-python-client>=1.2->pydrive) (1.15.0)\n",
      "Requirement already satisfied: google-auth-httplib2>=0.0.3 in /usr/local/lib/python3.9/site-packages (from google-api-python-client>=1.2->pydrive) (0.0.4)\n",
      "Requirement already satisfied: setuptools>=40.3.0 in /usr/local/lib/python3.9/site-packages (from google-api-core<2dev,>=1.21.0->google-api-python-client>=1.2->pydrive) (54.2.0)\n",
      "Requirement already satisfied: pytz in /usr/local/lib/python3.9/site-packages (from google-api-core<2dev,>=1.21.0->google-api-python-client>=1.2->pydrive) (2021.1)\n",
      "Requirement already satisfied: requests<3.0.0dev,>=2.18.0 in /usr/local/lib/python3.9/site-packages (from google-api-core<2dev,>=1.21.0->google-api-python-client>=1.2->pydrive) (2.25.1)\n",
      "Requirement already satisfied: packaging>=14.3 in /usr/local/lib/python3.9/site-packages (from google-api-core<2dev,>=1.21.0->google-api-python-client>=1.2->pydrive) (20.9)\n",
      "Requirement already satisfied: protobuf>=3.12.0 in /usr/local/lib/python3.9/site-packages (from google-api-core<2dev,>=1.21.0->google-api-python-client>=1.2->pydrive) (3.14.0)\n",
      "Requirement already satisfied: googleapis-common-protos<2.0dev,>=1.6.0 in /usr/local/lib/python3.9/site-packages (from google-api-core<2dev,>=1.21.0->google-api-python-client>=1.2->pydrive) (1.52.0)\n",
      "Requirement already satisfied: cachetools<5.0,>=2.0.0 in /usr/local/lib/python3.9/site-packages (from google-auth>=1.16.0->google-api-python-client>=1.2->pydrive) (4.2.1)\n",
      "Requirement already satisfied: rsa<5,>=3.1.4 in /usr/local/lib/python3.9/site-packages (from google-auth>=1.16.0->google-api-python-client>=1.2->pydrive) (4.7)\n",
      "Requirement already satisfied: pyasn1-modules>=0.2.1 in /usr/local/lib/python3.9/site-packages (from google-auth>=1.16.0->google-api-python-client>=1.2->pydrive) (0.2.8)\n",
      "Requirement already satisfied: pyparsing<3,>=2.4.2 in /usr/local/lib/python3.9/site-packages (from httplib2<1dev,>=0.15.0->google-api-python-client>=1.2->pydrive) (2.4.7)\n",
      "Requirement already satisfied: pyasn1>=0.1.7 in /usr/local/lib/python3.9/site-packages (from oauth2client>=4.0.0->pydrive) (0.4.8)\n",
      "Requirement already satisfied: certifi>=2017.4.17 in /usr/local/lib/python3.9/site-packages (from requests<3.0.0dev,>=2.18.0->google-api-core<2dev,>=1.21.0->google-api-python-client>=1.2->pydrive) (2020.12.5)\n",
      "Requirement already satisfied: chardet<5,>=3.0.2 in /usr/local/lib/python3.9/site-packages (from requests<3.0.0dev,>=2.18.0->google-api-core<2dev,>=1.21.0->google-api-python-client>=1.2->pydrive) (4.0.0)\n",
      "Requirement already satisfied: idna<3,>=2.5 in /usr/local/lib/python3.9/site-packages (from requests<3.0.0dev,>=2.18.0->google-api-core<2dev,>=1.21.0->google-api-python-client>=1.2->pydrive) (2.10)\n",
      "Requirement already satisfied: urllib3<1.27,>=1.21.1 in /usr/local/lib/python3.9/site-packages (from requests<3.0.0dev,>=2.18.0->google-api-core<2dev,>=1.21.0->google-api-python-client>=1.2->pydrive) (1.26.3)\n",
      "\u001b[33mWARNING: You are using pip version 21.0.1; however, version 21.3.1 is available.\n",
      "You should consider upgrading via the '/usr/local/opt/python@3.9/bin/python3.9 -m pip install --upgrade pip' command.\u001b[0m\n",
      "Note: you may need to restart the kernel to use updated packages.\n"
     ]
    }
   ],
   "source": [
    "pip install pydrive"
   ]
  },
  {
   "cell_type": "markdown",
   "metadata": {},
   "source": [
    "Perform first time manual developer authentication using Oauth and pydrive, make sure Localhost:8080/ abnd Localhost:8090/ enabled"
   ]
  },
  {
   "cell_type": "code",
   "execution_count": 16,
   "metadata": {},
   "outputs": [
    {
     "name": "stdout",
     "output_type": "stream",
     "text": [
      "Your browser has been opened to visit:\n",
      "\n",
      "    https://accounts.google.com/o/oauth2/auth?client_id=1022961328214-bl4hn8614idt5sdup9996pk8rirkjf33.apps.googleusercontent.com&redirect_uri=http%3A%2F%2Flocalhost%3A8080%2F&scope=https%3A%2F%2Fwww.googleapis.com%2Fauth%2Fdrive&access_type=offline&response_type=code\n",
      "\n",
      "Authentication successful.\n"
     ]
    }
   ],
   "source": [
    "from pydrive.auth import GoogleAuth\n",
    "from pydrive.drive import GoogleDrive\n",
    "\n",
    "gauth = GoogleAuth()\n",
    "gauth.LocalWebserverAuth() # Creates local webserver and auto handles authentication.\n",
    "drive = GoogleDrive(gauth)\n",
    "\n",
    "file1 = drive.CreateFile({'title': 'Hello6.txt'})  # Create GoogleDriveFile instance with title 'Hello.txt'.\n",
    "file1.SetContentString('this is a test!') # Set content of the file from given string.\n",
    "file1.Upload()"
   ]
  },
  {
   "cell_type": "markdown",
   "metadata": {},
   "source": [
    "It worked!\n",
    "\n",
    "Now lets create a function"
   ]
  },
  {
   "cell_type": "code",
   "execution_count": 17,
   "metadata": {},
   "outputs": [
    {
     "data": {
      "text/plain": [
       "GoogleDriveFile({'title': 'tester.txt', 'kind': 'drive#file', 'id': '1ZASyVcRP7kxjvDDSfC3tqFzvCgZ-C-K6', 'etag': '\"MTYzNjA2NDY0NzE1NQ\"', 'selfLink': 'https://www.googleapis.com/drive/v2/files/1ZASyVcRP7kxjvDDSfC3tqFzvCgZ-C-K6', 'webContentLink': 'https://drive.google.com/uc?id=1ZASyVcRP7kxjvDDSfC3tqFzvCgZ-C-K6&export=download', 'alternateLink': 'https://drive.google.com/file/d/1ZASyVcRP7kxjvDDSfC3tqFzvCgZ-C-K6/view?usp=drivesdk', 'embedLink': 'https://drive.google.com/file/d/1ZASyVcRP7kxjvDDSfC3tqFzvCgZ-C-K6/preview?usp=drivesdk', 'iconLink': 'https://drive-thirdparty.googleusercontent.com/16/type/text/plain', 'mimeType': 'text/plain', 'labels': {'starred': False, 'hidden': False, 'trashed': False, 'restricted': False, 'viewed': True}, 'copyRequiresWriterPermission': False, 'createdDate': '2021-11-04T22:24:07.155Z', 'modifiedDate': '2021-11-04T22:24:07.155Z', 'modifiedByMeDate': '2021-11-04T22:24:07.155Z', 'lastViewedByMeDate': '2021-11-04T22:24:07.155Z', 'markedViewedByMeDate': '1970-01-01T00:00:00.000Z', 'version': '1', 'parents': [{'kind': 'drive#parentReference', 'id': '0AC_LoQiJXRpdUk9PVA', 'selfLink': 'https://www.googleapis.com/drive/v2/files/1ZASyVcRP7kxjvDDSfC3tqFzvCgZ-C-K6/parents/0AC_LoQiJXRpdUk9PVA', 'parentLink': 'https://www.googleapis.com/drive/v2/files/0AC_LoQiJXRpdUk9PVA', 'isRoot': True}], 'downloadUrl': 'https://www.googleapis.com/drive/v2/files/1ZASyVcRP7kxjvDDSfC3tqFzvCgZ-C-K6?alt=media&source=downloadUrl', 'userPermission': {'kind': 'drive#permission', 'etag': '\"ycS4XC578WGWP37JIBpr4DYHToQ\"', 'id': 'me', 'selfLink': 'https://www.googleapis.com/drive/v2/files/1ZASyVcRP7kxjvDDSfC3tqFzvCgZ-C-K6/permissions/me', 'role': 'owner', 'type': 'user'}, 'originalFilename': '', 'fileExtension': 'txt', 'md5Checksum': 'd41d8cd98f00b204e9800998ecf8427e', 'fileSize': '0', 'quotaBytesUsed': '0', 'ownerNames': ['cv chess'], 'owners': [{'kind': 'drive#user', 'displayName': 'cv chess', 'picture': {'url': 'https://lh3.googleusercontent.com/a/default-user=s64'}, 'isAuthenticatedUser': True, 'permissionId': '00595435506690355527', 'emailAddress': 'cvchess3343@gmail.com'}], 'lastModifyingUserName': 'cv chess', 'lastModifyingUser': {'kind': 'drive#user', 'displayName': 'cv chess', 'picture': {'url': 'https://lh3.googleusercontent.com/a/default-user=s64'}, 'isAuthenticatedUser': True, 'permissionId': '00595435506690355527', 'emailAddress': 'cvchess3343@gmail.com'}, 'capabilities': {'canCopy': True, 'canEdit': True}, 'editable': True, 'copyable': True, 'writersCanShare': True, 'shared': False, 'explicitlyTrashed': False, 'appDataContents': False, 'headRevisionId': '0By_LoQiJXRpdcWpBdm1HcHJzclE2ZGlla3kzSjY3QVYyUmlZPQ', 'spaces': ['drive']})"
      ]
     },
     "execution_count": 17,
     "metadata": {},
     "output_type": "execute_result"
    }
   ],
   "source": [
    "def create_file(filename, content=None):\n",
    "    file1 = drive.CreateFile({'title': filename})  # Create GoogleDriveFile instance with title 'Hello.txt'.\n",
    "    if content is not None:\n",
    "        file1.SetContentString(content) \n",
    "    file1.Upload()\n",
    "    return file1\n",
    "\n",
    "# Test function by making an empty test file\n",
    "create_file(\"tester.txt\")\n",
    "    \n"
   ]
  },
  {
   "cell_type": "markdown",
   "metadata": {},
   "source": [
    "Get a list of files and their respective ids"
   ]
  },
  {
   "cell_type": "code",
   "execution_count": 18,
   "metadata": {},
   "outputs": [
    {
     "name": "stdout",
     "output_type": "stream",
     "text": [
      "title: tester.txt, id: 1ZASyVcRP7kxjvDDSfC3tqFzvCgZ-C-K6\n"
     ]
    }
   ],
   "source": [
    "file_list = drive.ListFile({'q': \"'root' in parents and trashed=false\"}).GetList()\n",
    "for file1 in file_list:\n",
    "  print('title: %s, id: %s' % (file1['title'], file1['id']))"
   ]
  },
  {
   "cell_type": "code",
   "execution_count": 19,
   "metadata": {},
   "outputs": [
    {
     "name": "stdout",
     "output_type": "stream",
     "text": [
      "1ZASyVcRP7kxjvDDSfC3tqFzvCgZ-C-K6\n",
      "None\n"
     ]
    }
   ],
   "source": [
    "\"\"\" \n",
    "Get the first occurence of the id of a file in root directory of drive from its name\n",
    "\n",
    "Returns: id iff single file found with name, else None\n",
    "\"\"\"\n",
    "def get_id(name):\n",
    "    file_list = drive.ListFile({'q': \"'root' in parents and trashed=false\"}).GetList()\n",
    "    ids = []\n",
    "    for file1 in file_list: \n",
    "        if file1[\"title\"] == name: \n",
    "            ids.append(file1[\"id\"])\n",
    "    if len(ids) == 1: return ids[0]\n",
    "    return None\n",
    "\n",
    "print(get_id(\"tester.txt\"))\n",
    "print(get_id(\"Hello2.txt\"))"
   ]
  },
  {
   "cell_type": "markdown",
   "metadata": {},
   "source": [
    "Now given some filename for the metadata we can download it"
   ]
  },
  {
   "cell_type": "code",
   "execution_count": 20,
   "metadata": {},
   "outputs": [
    {
     "data": {
      "text/plain": [
       "True"
      ]
     },
     "execution_count": 20,
     "metadata": {},
     "output_type": "execute_result"
    }
   ],
   "source": [
    "\"\"\" \n",
    "Download a filename from google drive if it exists, else do nothing \n",
    "\n",
    "Return: True -> Sucessful, False -> file not found\n",
    "\"\"\"\n",
    "def download(filename):\n",
    "    _id = get_id(filename)\n",
    "    if _id is None: \n",
    "        return False\n",
    "    temp = drive.CreateFile({'id':_id})\n",
    "    temp.GetContentFile(filename)\n",
    "    return True\n",
    "    \n",
    "download(\"tester.txt\")"
   ]
  },
  {
   "cell_type": "markdown",
   "metadata": {},
   "source": [
    "This clearly works, now lets try for our csv...\n",
    "\n",
    "First, lets upload the csv to a folder called dataset like this\n",
    "\n",
    "--test_dataset\n",
    "    |__ BIRDSEYE\n",
    "        |__ metadata.csv"
   ]
  },
  {
   "cell_type": "code",
   "execution_count": 21,
   "metadata": {},
   "outputs": [
    {
     "name": "stdout",
     "output_type": "stream",
     "text": [
      "1HB9Ns5e2XLOpnHESNZQrsN9q0e3JQDxu\n"
     ]
    }
   ],
   "source": [
    "# demo: add nested folders\n",
    "base = drive.CreateFile({'title':\"base\", 'mimeType':\"application/vnd.google-apps.folder\"})\n",
    "base.Upload()\n",
    "print(base['id'])\n",
    "file1 = drive.CreateFile({'title':\"sub\",\"parents\":[{'id':base.attr[\"metadata\"][\"id\"]}],'mimeType':\"application/vnd.google-apps.folder\"})\n",
    "file1.Upload()\n",
    "    "
   ]
  },
  {
   "cell_type": "code",
   "execution_count": 22,
   "metadata": {},
   "outputs": [
    {
     "data": {
      "text/plain": [
       "'1qCcT3j8J_k2JicRx80GrYi-1TN5afMaG'"
      ]
     },
     "execution_count": 22,
     "metadata": {},
     "output_type": "execute_result"
    }
   ],
   "source": [
    "\"\"\"\n",
    "Create a root folder named <name>\n",
    "\n",
    "Return: id of root folder\n",
    "\"\"\"\n",
    "def create_root_folder(name):\n",
    "    for file in drive.ListFile({'q': f\"'root' in parents and trashed=false\"}).GetList():\n",
    "        if file['title'] == name:\n",
    "            return False\n",
    "    root_folder = drive.CreateFile({'title':name, 'mimeType':\"application/vnd.google-apps.folder\"})\n",
    "    root_folder.Upload()\n",
    "    return root_folder['id']\n",
    "create_root_folder(\"root\")\n",
    "\n"
   ]
  },
  {
   "cell_type": "code",
   "execution_count": 242,
   "metadata": {},
   "outputs": [
    {
     "data": {
      "text/plain": [
       "'1G4U5DhFkKiJM8dpRROc_5QfjXmN5uuYE'"
      ]
     },
     "execution_count": 242,
     "metadata": {},
     "output_type": "execute_result"
    }
   ],
   "source": [
    "\"\"\"\n",
    "Adds sub_folder inside base directory if base directory is a single folder in drive\n",
    "\n",
    "Returns: id of sub folder for directory chaining\n",
    "\"\"\"\n",
    "def upload_subfolder(root_dir, sub_folder):\n",
    "    id_temp = get_id(root_dir)\n",
    "    if id_temp is None: \n",
    "        return False # ie. duplicate folders, folder not found\n",
    "    # check to make sure sub-directory does not exist yet:\n",
    "    for file in drive.ListFile({'q': f\"'{id_temp}' in parents and trashed=false\"}).GetList():\n",
    "        if file['title'] == sub_folder:\n",
    "            return False\n",
    "    sub_dir = drive.CreateFile({'title':sub_folder,\"parents\":[{'id':id_temp}],'mimeType':\"application/vnd.google-apps.folder\"})\n",
    "    sub_dir.Upload()\n",
    "    return sub_dir['id']\n"
   ]
  },
  {
   "cell_type": "markdown",
   "metadata": {},
   "source": [
    "Putting it all together, we can create a function that takes the file id of any directory and generates a sub directory named sub_dir inside of it:"
   ]
  },
  {
   "cell_type": "code",
   "execution_count": 24,
   "metadata": {},
   "outputs": [],
   "source": [
    "\"\"\"\n",
    "Create a sub folder <sub_dir> inside parent folder with parent_id\n",
    "\n",
    "Return: id of sub folder\n",
    "\"\"\"\n",
    "def add_sub_directory(parent_id, sub_dir):\n",
    "    # check to make sure sub-directory does not exist yet:\n",
    "    for file in drive.ListFile({'q': f\"'{parent_id}' in parents and trashed=false\"}).GetList():\n",
    "        if file['title'] == sub_dir:\n",
    "            return False\n",
    "    sub_dir = drive.CreateFile({'title':sub_dir,\"parents\":[{'id':parent_id}],'mimeType':\"application/vnd.google-apps.folder\"})\n",
    "    sub_dir.Upload()\n",
    "    return sub_dir['id']\n"
   ]
  },
  {
   "cell_type": "markdown",
   "metadata": {},
   "source": [
    "Lets try to create the directory above now:"
   ]
  },
  {
   "cell_type": "code",
   "execution_count": 25,
   "metadata": {},
   "outputs": [
    {
     "ename": "HttpError",
     "evalue": "<HttpError 404 when requesting https://www.googleapis.com/drive/v2/files?q=%27False%27+in+parents+and+trashed%3Dfalse&maxResults=1000&alt=json returned \"File not found:\". Details: \"File not found: \">",
     "output_type": "error",
     "traceback": [
      "\u001b[0;31m---------------------------------------------------------------------------\u001b[0m",
      "\u001b[0;31mHttpError\u001b[0m                                 Traceback (most recent call last)",
      "\u001b[0;32m/var/folders/1z/tk831v090vn3d18mfj2mgmmw0000gn/T/ipykernel_6940/2074611846.py\u001b[0m in \u001b[0;36m<module>\u001b[0;34m\u001b[0m\n\u001b[1;32m      1\u001b[0m \u001b[0mroot_id\u001b[0m \u001b[0;34m=\u001b[0m \u001b[0mcreate_root_folder\u001b[0m\u001b[0;34m(\u001b[0m\u001b[0;34m\"test_dataset\"\u001b[0m\u001b[0;34m)\u001b[0m\u001b[0;34m\u001b[0m\u001b[0;34m\u001b[0m\u001b[0m\n\u001b[0;32m----> 2\u001b[0;31m \u001b[0mtemp_id\u001b[0m \u001b[0;34m=\u001b[0m \u001b[0madd_sub_directory\u001b[0m\u001b[0;34m(\u001b[0m\u001b[0mroot_id\u001b[0m\u001b[0;34m,\u001b[0m \u001b[0;34m\"Birdseye\"\u001b[0m\u001b[0;34m)\u001b[0m\u001b[0;34m\u001b[0m\u001b[0;34m\u001b[0m\u001b[0m\n\u001b[0m\u001b[1;32m      3\u001b[0m \u001b[0mtemp2_id\u001b[0m \u001b[0;34m=\u001b[0m \u001b[0madd_sub_directory\u001b[0m\u001b[0;34m(\u001b[0m\u001b[0mroot_id\u001b[0m\u001b[0;34m,\u001b[0m \u001b[0;34m\"Angled\"\u001b[0m\u001b[0;34m)\u001b[0m\u001b[0;34m\u001b[0m\u001b[0;34m\u001b[0m\u001b[0m\n\u001b[1;32m      4\u001b[0m \u001b[0mprint\u001b[0m\u001b[0;34m(\u001b[0m\u001b[0;34mf\"birds eye id {temp_id}\\nangled id: {temp2_id}\"\u001b[0m\u001b[0;34m)\u001b[0m\u001b[0;34m\u001b[0m\u001b[0;34m\u001b[0m\u001b[0m\n",
      "\u001b[0;32m/var/folders/1z/tk831v090vn3d18mfj2mgmmw0000gn/T/ipykernel_6940/2941664535.py\u001b[0m in \u001b[0;36madd_sub_directory\u001b[0;34m(parent_id, sub_dir)\u001b[0m\n\u001b[1;32m      6\u001b[0m \u001b[0;32mdef\u001b[0m \u001b[0madd_sub_directory\u001b[0m\u001b[0;34m(\u001b[0m\u001b[0mparent_id\u001b[0m\u001b[0;34m,\u001b[0m \u001b[0msub_dir\u001b[0m\u001b[0;34m)\u001b[0m\u001b[0;34m:\u001b[0m\u001b[0;34m\u001b[0m\u001b[0;34m\u001b[0m\u001b[0m\n\u001b[1;32m      7\u001b[0m     \u001b[0;31m# check to make sure sub-directory does not exist yet:\u001b[0m\u001b[0;34m\u001b[0m\u001b[0;34m\u001b[0m\u001b[0;34m\u001b[0m\u001b[0m\n\u001b[0;32m----> 8\u001b[0;31m     \u001b[0;32mfor\u001b[0m \u001b[0mfile\u001b[0m \u001b[0;32min\u001b[0m \u001b[0mdrive\u001b[0m\u001b[0;34m.\u001b[0m\u001b[0mListFile\u001b[0m\u001b[0;34m(\u001b[0m\u001b[0;34m{\u001b[0m\u001b[0;34m'q'\u001b[0m\u001b[0;34m:\u001b[0m \u001b[0;34mf\"'{parent_id}' in parents and trashed=false\"\u001b[0m\u001b[0;34m}\u001b[0m\u001b[0;34m)\u001b[0m\u001b[0;34m.\u001b[0m\u001b[0mGetList\u001b[0m\u001b[0;34m(\u001b[0m\u001b[0;34m)\u001b[0m\u001b[0;34m:\u001b[0m\u001b[0;34m\u001b[0m\u001b[0;34m\u001b[0m\u001b[0m\n\u001b[0m\u001b[1;32m      9\u001b[0m         \u001b[0;32mif\u001b[0m \u001b[0mfile\u001b[0m\u001b[0;34m[\u001b[0m\u001b[0;34m'title'\u001b[0m\u001b[0;34m]\u001b[0m \u001b[0;34m==\u001b[0m \u001b[0msub_dir\u001b[0m\u001b[0;34m:\u001b[0m\u001b[0;34m\u001b[0m\u001b[0;34m\u001b[0m\u001b[0m\n\u001b[1;32m     10\u001b[0m             \u001b[0;32mreturn\u001b[0m \u001b[0;32mFalse\u001b[0m\u001b[0;34m\u001b[0m\u001b[0;34m\u001b[0m\u001b[0m\n",
      "\u001b[0;32m/usr/local/lib/python3.9/site-packages/pydrive/apiattr.py\u001b[0m in \u001b[0;36mGetList\u001b[0;34m(self)\u001b[0m\n\u001b[1;32m    160\u001b[0m       \u001b[0mself\u001b[0m\u001b[0;34m[\u001b[0m\u001b[0;34m'maxResults'\u001b[0m\u001b[0;34m]\u001b[0m \u001b[0;34m=\u001b[0m \u001b[0;36m1000\u001b[0m\u001b[0;34m\u001b[0m\u001b[0;34m\u001b[0m\u001b[0m\n\u001b[1;32m    161\u001b[0m       \u001b[0mresult\u001b[0m \u001b[0;34m=\u001b[0m \u001b[0;34m[\u001b[0m\u001b[0;34m]\u001b[0m\u001b[0;34m\u001b[0m\u001b[0;34m\u001b[0m\u001b[0m\n\u001b[0;32m--> 162\u001b[0;31m       \u001b[0;32mfor\u001b[0m \u001b[0mx\u001b[0m \u001b[0;32min\u001b[0m \u001b[0mself\u001b[0m\u001b[0;34m:\u001b[0m\u001b[0;34m\u001b[0m\u001b[0;34m\u001b[0m\u001b[0m\n\u001b[0m\u001b[1;32m    163\u001b[0m         \u001b[0mresult\u001b[0m\u001b[0;34m.\u001b[0m\u001b[0mextend\u001b[0m\u001b[0;34m(\u001b[0m\u001b[0mx\u001b[0m\u001b[0;34m)\u001b[0m\u001b[0;34m\u001b[0m\u001b[0;34m\u001b[0m\u001b[0m\n\u001b[1;32m    164\u001b[0m       \u001b[0;32mdel\u001b[0m \u001b[0mself\u001b[0m\u001b[0;34m[\u001b[0m\u001b[0;34m'maxResults'\u001b[0m\u001b[0;34m]\u001b[0m\u001b[0;34m\u001b[0m\u001b[0;34m\u001b[0m\u001b[0m\n",
      "\u001b[0;32m/usr/local/lib/python3.9/site-packages/pydrive/apiattr.py\u001b[0m in \u001b[0;36m__next__\u001b[0;34m(self)\u001b[0m\n\u001b[1;32m    144\u001b[0m     \u001b[0;32mif\u001b[0m \u001b[0;34m'pageToken'\u001b[0m \u001b[0;32min\u001b[0m \u001b[0mself\u001b[0m \u001b[0;32mand\u001b[0m \u001b[0mself\u001b[0m\u001b[0;34m[\u001b[0m\u001b[0;34m'pageToken'\u001b[0m\u001b[0;34m]\u001b[0m \u001b[0;32mis\u001b[0m \u001b[0;32mNone\u001b[0m\u001b[0;34m:\u001b[0m\u001b[0;34m\u001b[0m\u001b[0;34m\u001b[0m\u001b[0m\n\u001b[1;32m    145\u001b[0m       \u001b[0;32mraise\u001b[0m \u001b[0mStopIteration\u001b[0m\u001b[0;34m\u001b[0m\u001b[0;34m\u001b[0m\u001b[0m\n\u001b[0;32m--> 146\u001b[0;31m     \u001b[0mresult\u001b[0m \u001b[0;34m=\u001b[0m \u001b[0mself\u001b[0m\u001b[0;34m.\u001b[0m\u001b[0m_GetList\u001b[0m\u001b[0;34m(\u001b[0m\u001b[0;34m)\u001b[0m\u001b[0;34m\u001b[0m\u001b[0;34m\u001b[0m\u001b[0m\n\u001b[0m\u001b[1;32m    147\u001b[0m     \u001b[0mself\u001b[0m\u001b[0;34m[\u001b[0m\u001b[0;34m'pageToken'\u001b[0m\u001b[0;34m]\u001b[0m \u001b[0;34m=\u001b[0m \u001b[0mself\u001b[0m\u001b[0;34m.\u001b[0m\u001b[0mmetadata\u001b[0m\u001b[0;34m.\u001b[0m\u001b[0mget\u001b[0m\u001b[0;34m(\u001b[0m\u001b[0;34m'nextPageToken'\u001b[0m\u001b[0;34m)\u001b[0m\u001b[0;34m\u001b[0m\u001b[0;34m\u001b[0m\u001b[0m\n\u001b[1;32m    148\u001b[0m     \u001b[0;32mreturn\u001b[0m \u001b[0mresult\u001b[0m\u001b[0;34m\u001b[0m\u001b[0;34m\u001b[0m\u001b[0m\n",
      "\u001b[0;32m/usr/local/lib/python3.9/site-packages/pydrive/auth.py\u001b[0m in \u001b[0;36m_decorated\u001b[0;34m(self, *args, **kwargs)\u001b[0m\n\u001b[1;32m     73\u001b[0m       \u001b[0mself\u001b[0m\u001b[0;34m.\u001b[0m\u001b[0mhttp\u001b[0m \u001b[0;34m=\u001b[0m \u001b[0mself\u001b[0m\u001b[0;34m.\u001b[0m\u001b[0mauth\u001b[0m\u001b[0;34m.\u001b[0m\u001b[0mGet_Http_Object\u001b[0m\u001b[0;34m(\u001b[0m\u001b[0;34m)\u001b[0m\u001b[0;34m\u001b[0m\u001b[0;34m\u001b[0m\u001b[0m\n\u001b[1;32m     74\u001b[0m \u001b[0;34m\u001b[0m\u001b[0m\n\u001b[0;32m---> 75\u001b[0;31m     \u001b[0;32mreturn\u001b[0m \u001b[0mdecoratee\u001b[0m\u001b[0;34m(\u001b[0m\u001b[0mself\u001b[0m\u001b[0;34m,\u001b[0m \u001b[0;34m*\u001b[0m\u001b[0margs\u001b[0m\u001b[0;34m,\u001b[0m \u001b[0;34m**\u001b[0m\u001b[0mkwargs\u001b[0m\u001b[0;34m)\u001b[0m\u001b[0;34m\u001b[0m\u001b[0;34m\u001b[0m\u001b[0m\n\u001b[0m\u001b[1;32m     76\u001b[0m   \u001b[0;32mreturn\u001b[0m \u001b[0m_decorated\u001b[0m\u001b[0;34m\u001b[0m\u001b[0;34m\u001b[0m\u001b[0m\n\u001b[1;32m     77\u001b[0m \u001b[0;34m\u001b[0m\u001b[0m\n",
      "\u001b[0;32m/usr/local/lib/python3.9/site-packages/pydrive/files.py\u001b[0m in \u001b[0;36m_GetList\u001b[0;34m(self)\u001b[0m\n\u001b[1;32m     61\u001b[0m     \u001b[0;34m:\u001b[0m\u001b[0mreturns\u001b[0m\u001b[0;34m:\u001b[0m \u001b[0mlist\u001b[0m \u001b[0;34m-\u001b[0m\u001b[0;34m-\u001b[0m \u001b[0mlist\u001b[0m \u001b[0mof\u001b[0m \u001b[0mpydrive\u001b[0m\u001b[0;34m.\u001b[0m\u001b[0mfiles\u001b[0m\u001b[0;34m.\u001b[0m\u001b[0mGoogleDriveFile\u001b[0m\u001b[0;34m.\u001b[0m\u001b[0;34m\u001b[0m\u001b[0;34m\u001b[0m\u001b[0m\n\u001b[1;32m     62\u001b[0m     \"\"\"\n\u001b[0;32m---> 63\u001b[0;31m     self.metadata = self.auth.service.files().list(**dict(self)).execute(\n\u001b[0m\u001b[1;32m     64\u001b[0m       http=self.http)\n\u001b[1;32m     65\u001b[0m     \u001b[0mresult\u001b[0m \u001b[0;34m=\u001b[0m \u001b[0;34m[\u001b[0m\u001b[0;34m]\u001b[0m\u001b[0;34m\u001b[0m\u001b[0;34m\u001b[0m\u001b[0m\n",
      "\u001b[0;32m/usr/local/lib/python3.9/site-packages/googleapiclient/_helpers.py\u001b[0m in \u001b[0;36mpositional_wrapper\u001b[0;34m(*args, **kwargs)\u001b[0m\n\u001b[1;32m    132\u001b[0m                 \u001b[0;32melif\u001b[0m \u001b[0mpositional_parameters_enforcement\u001b[0m \u001b[0;34m==\u001b[0m \u001b[0mPOSITIONAL_WARNING\u001b[0m\u001b[0;34m:\u001b[0m\u001b[0;34m\u001b[0m\u001b[0;34m\u001b[0m\u001b[0m\n\u001b[1;32m    133\u001b[0m                     \u001b[0mlogger\u001b[0m\u001b[0;34m.\u001b[0m\u001b[0mwarning\u001b[0m\u001b[0;34m(\u001b[0m\u001b[0mmessage\u001b[0m\u001b[0;34m)\u001b[0m\u001b[0;34m\u001b[0m\u001b[0;34m\u001b[0m\u001b[0m\n\u001b[0;32m--> 134\u001b[0;31m             \u001b[0;32mreturn\u001b[0m \u001b[0mwrapped\u001b[0m\u001b[0;34m(\u001b[0m\u001b[0;34m*\u001b[0m\u001b[0margs\u001b[0m\u001b[0;34m,\u001b[0m \u001b[0;34m**\u001b[0m\u001b[0mkwargs\u001b[0m\u001b[0;34m)\u001b[0m\u001b[0;34m\u001b[0m\u001b[0;34m\u001b[0m\u001b[0m\n\u001b[0m\u001b[1;32m    135\u001b[0m \u001b[0;34m\u001b[0m\u001b[0m\n\u001b[1;32m    136\u001b[0m         \u001b[0;32mreturn\u001b[0m \u001b[0mpositional_wrapper\u001b[0m\u001b[0;34m\u001b[0m\u001b[0;34m\u001b[0m\u001b[0m\n",
      "\u001b[0;32m/usr/local/lib/python3.9/site-packages/googleapiclient/http.py\u001b[0m in \u001b[0;36mexecute\u001b[0;34m(self, http, num_retries)\u001b[0m\n\u001b[1;32m    913\u001b[0m             \u001b[0mcallback\u001b[0m\u001b[0;34m(\u001b[0m\u001b[0mresp\u001b[0m\u001b[0;34m)\u001b[0m\u001b[0;34m\u001b[0m\u001b[0;34m\u001b[0m\u001b[0m\n\u001b[1;32m    914\u001b[0m         \u001b[0;32mif\u001b[0m \u001b[0mresp\u001b[0m\u001b[0;34m.\u001b[0m\u001b[0mstatus\u001b[0m \u001b[0;34m>=\u001b[0m \u001b[0;36m300\u001b[0m\u001b[0;34m:\u001b[0m\u001b[0;34m\u001b[0m\u001b[0;34m\u001b[0m\u001b[0m\n\u001b[0;32m--> 915\u001b[0;31m             \u001b[0;32mraise\u001b[0m \u001b[0mHttpError\u001b[0m\u001b[0;34m(\u001b[0m\u001b[0mresp\u001b[0m\u001b[0;34m,\u001b[0m \u001b[0mcontent\u001b[0m\u001b[0;34m,\u001b[0m \u001b[0muri\u001b[0m\u001b[0;34m=\u001b[0m\u001b[0mself\u001b[0m\u001b[0;34m.\u001b[0m\u001b[0muri\u001b[0m\u001b[0;34m)\u001b[0m\u001b[0;34m\u001b[0m\u001b[0;34m\u001b[0m\u001b[0m\n\u001b[0m\u001b[1;32m    916\u001b[0m         \u001b[0;32mreturn\u001b[0m \u001b[0mself\u001b[0m\u001b[0;34m.\u001b[0m\u001b[0mpostproc\u001b[0m\u001b[0;34m(\u001b[0m\u001b[0mresp\u001b[0m\u001b[0;34m,\u001b[0m \u001b[0mcontent\u001b[0m\u001b[0;34m)\u001b[0m\u001b[0;34m\u001b[0m\u001b[0;34m\u001b[0m\u001b[0m\n\u001b[1;32m    917\u001b[0m \u001b[0;34m\u001b[0m\u001b[0m\n",
      "\u001b[0;31mHttpError\u001b[0m: <HttpError 404 when requesting https://www.googleapis.com/drive/v2/files?q=%27False%27+in+parents+and+trashed%3Dfalse&maxResults=1000&alt=json returned \"File not found:\". Details: \"File not found: \">"
     ]
    }
   ],
   "source": []
  }
 ],
 "metadata": {
  "interpreter": {
   "hash": "aee8b7b246df8f9039afb4144a1f6fd8d2ca17a180786b69acc140d282b71a49"
  },
  "kernelspec": {
   "display_name": "Python 3.9.4 64-bit",
   "name": "python3"
  },
  "language_info": {
   "codemirror_mode": {
    "name": "ipython",
    "version": 3
   },
   "file_extension": ".py",
   "mimetype": "text/x-python",
   "name": "python",
   "nbconvert_exporter": "python",
   "pygments_lexer": "ipython3",
   "version": "3.9.8"
  },
  "orig_nbformat": 4
 },
 "nbformat": 4,
 "nbformat_minor": 2
}
