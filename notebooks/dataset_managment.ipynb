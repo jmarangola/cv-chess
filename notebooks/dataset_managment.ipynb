{
 "cells": [
  {
   "cell_type": "markdown",
   "metadata": {},
   "source": [
    "This notebook is dedicated to establishing a reliable method of transferring batches of data to and from Google Drive and storing metadata in an accessible format\n",
    "\n",
    "John Marangola\n",
    "11/2/2021\n",
    "\n",
    "We begin by sketching out how data should be clearly and efficiently stored as follows:"
   ]
  },
  {
   "cell_type": "markdown",
   "metadata": {},
   "source": [
    "In order to standardize on a simple and very useful convention, we define an enum for the pieces on the chess board. "
   ]
  },
  {
   "cell_type": "code",
   "execution_count": 28,
   "metadata": {},
   "outputs": [
    {
     "name": "stdout",
     "output_type": "stream",
     "text": [
      "This is a pawn!\n",
      "Not a knight!\n"
     ]
    }
   ],
   "source": [
    "import pandas as pd\n",
    "import numpy as np\n",
    "from enum import Enum\n",
    "\n",
    "class ChessPiece(Enum):\n",
    "    PAWN = 1\n",
    "    ROOK = 2\n",
    "    KNIGHT = 3\n",
    "    KING = 4\n",
    "    QUEEN = 5\n",
    "    BISHOP = 6\n",
    "    EMPTY = 7\n",
    "     \n",
    "piece = ChessPiece.PAWN\n",
    "if piece is ChessPiece.PAWN:\n",
    "    print(\"This is a pawn!\")\n",
    "if piece != ChessPiece.KNIGHT:\n",
    "    print(\"Not a knight!\")\n",
    "\n",
    "\n"
   ]
  },
  {
   "cell_type": "markdown",
   "metadata": {},
   "source": [
    "In order to avoid remembering ambiguous conventions such as T/F for colors of square and color of piece (Which takes time to remember and makes de bugging hard), we use a similiar standard enum for colors of things (pieces and squares)."
   ]
  },
  {
   "cell_type": "code",
   "execution_count": 9,
   "metadata": {},
   "outputs": [
    {
     "name": "stdout",
     "output_type": "stream",
     "text": [
      "pieces are opponents\n"
     ]
    }
   ],
   "source": [
    "class Color(Enum):\n",
    "    ORANGE = 1\n",
    "    BLUE = 2\n",
    "    BLACK = 3\n",
    "    WHITE = 4\n",
    "\n",
    "piece_1_color = Color.ORANGE\n",
    "piece_2_color = Color.BLUE\n",
    "print(\"pieces are opponents\") if piece_1_color != piece_2_color else \"pieces are allies\""
   ]
  },
  {
   "cell_type": "markdown",
   "metadata": {},
   "source": [
    "Now we find a clear convention for labelling positions on the board. If you are unfamiliar with chess take a look at this image that visually explains so-called \"algebraic\" notation:\n"
   ]
  },
  {
   "cell_type": "code",
   "execution_count": 20,
   "metadata": {},
   "outputs": [],
   "source": [
    "import urllib.request\n",
    "from PIL import Image\n",
    "\n",
    "urllib.request.urlretrieve(\n",
    "  \"https://upload.wikimedia.org/wikipedia/commons/thumb/b/b6/SCD_algebraic_notation.svg/1200px-SCD_algebraic_notation.svg.png\", \"SCD_algebraic_notation.svg\")\n",
    "  \n",
    "img = Image.open(\"SCD_algebraic_notation.svg\")\n",
    "img.show()"
   ]
  },
  {
   "cell_type": "markdown",
   "metadata": {},
   "source": [
    "For the sake of simplicity, we will define positions as \"LN\" where L is the letter associated with the position and N is the number associated with the position ie:"
   ]
  },
  {
   "cell_type": "code",
   "execution_count": 25,
   "metadata": {},
   "outputs": [
    {
     "name": "stdout",
     "output_type": "stream",
     "text": [
      "automatic case convesion works: True\n",
      "position2 equals position1: False\n"
     ]
    }
   ],
   "source": [
    "position1 = \"e2\"\n",
    "position1_alt = \"E2\"\n",
    "position1_alt = position1_alt.lower()\n",
    "print(f\"automatic case convesion works: {position1 == position1_alt}\")\n",
    "\n",
    "position2 = \"g1\"\n",
    "print(f\"position2 equals position1: {position2 == position1}\")"
   ]
  },
  {
   "cell_type": "markdown",
   "metadata": {},
   "source": [
    "This appears to be robust. Since the convention in chess is always <letter><number> it is illogical to even worry about things such as 2e and e2 not being equivalent. Now lets move on to the storing all the metadata for a single piece. We decided that the metadata fields that should be recorded for each image are:\n",
    "    1. Piece type\n",
    "    2. Piece color (or lack of)\n",
    "    3. Position\n",
    "    4. Color of tile\n",
    "\n",
    "We can therefore define a function that recieves these fields as parameters:"
   ]
  },
  {
   "cell_type": "code",
   "execution_count": 32,
   "metadata": {},
   "outputs": [
    {
     "name": "stdout",
     "output_type": "stream",
     "text": [
      "ROOK\n",
      "piece color: ORANGE\n",
      "position: e5\n",
      "tile color: BLACK\n"
     ]
    }
   ],
   "source": [
    "\n",
    "# (Skip type validation for now)\n",
    "def print_metadata(piece_type, piece_color, position, tile_color):\n",
    "    print(piece_type.name)\n",
    "    print(f\"piece color: {piece_color.name}\")\n",
    "    print(f\"position: {position.lower()}\")\n",
    "    print(f\"tile color: {tile_color.name}\")\n",
    "\n",
    "piece_color = Color.ORANGE\n",
    "piece_type = ChessPiece.ROOK\n",
    "position = \"E5\"\n",
    "tile_color = Color.BLACK\n",
    "\n",
    "print_metadata(piece_type, piece_color, position, tile_color)\n"
   ]
  },
  {
   "cell_type": "markdown",
   "metadata": {},
   "source": [
    "Clearly, we can never have any pieces other than {ROOK, KING, QUEEN, KNIGHT, ..., BISHOP} or the allowed colors. Everything is always in the correct format when saved and we will save space by only writing integers to the csv instead of numerous strings for instance:"
   ]
  },
  {
   "cell_type": "code",
   "execution_count": 37,
   "metadata": {},
   "outputs": [
    {
     "name": "stdout",
     "output_type": "stream",
     "text": [
      "3\n",
      "Color.BLACK\n"
     ]
    }
   ],
   "source": [
    "demo_color = Color.BLACK\n",
    "# \"write\" operation:\n",
    "print(demo_color.value)\n",
    "# Get the demo color back from # it is written as:\n",
    "print(Color(3))\n"
   ]
  }
 ],
 "metadata": {
  "interpreter": {
   "hash": "aee8b7b246df8f9039afb4144a1f6fd8d2ca17a180786b69acc140d282b71a49"
  },
  "kernelspec": {
   "display_name": "Python 3.9.4 64-bit",
   "name": "python3"
  },
  "language_info": {
   "codemirror_mode": {
    "name": "ipython",
    "version": 3
   },
   "file_extension": ".py",
   "mimetype": "text/x-python",
   "name": "python",
   "nbconvert_exporter": "python",
   "pygments_lexer": "ipython3",
   "version": "3.9.4"
  },
  "orig_nbformat": 4
 },
 "nbformat": 4,
 "nbformat_minor": 2
}
