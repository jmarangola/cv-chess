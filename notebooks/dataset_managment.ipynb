{
 "cells": [
  {
   "cell_type": "markdown",
   "metadata": {},
   "source": [
    "This notebook is dedicated to establishing a reliable method of transferring batches of data to and from Google Drive and storing metadata in an accessible format\n",
    "\n",
    "John Marangola\n",
    "11/2/2021\n",
    "\n",
    "We begin by sketching out how data should be clearly and efficiently stored as follows:"
   ]
  },
  {
   "cell_type": "markdown",
   "metadata": {},
   "source": [
    "In order to standardize on a simple and very useful convention, we define an enum for the pieces on the chess board. "
   ]
  },
  {
   "cell_type": "code",
   "execution_count": 185,
   "metadata": {},
   "outputs": [
    {
     "name": "stdout",
     "output_type": "stream",
     "text": [
      "This is a pawn!\n",
      "Not a knight!\n"
     ]
    }
   ],
   "source": [
    "import pandas as pd\n",
    "import numpy as np\n",
    "from enum import Enum\n",
    "\n",
    "class ChessPiece(Enum):\n",
    "    PAWN = 1\n",
    "    ROOK = 2\n",
    "    KNIGHT = 3\n",
    "    KING = 4\n",
    "    QUEEN = 5\n",
    "    BISHOP = 6\n",
    "    EMPTY = 7\n",
    "     \n",
    "piece = ChessPiece.PAWN\n",
    "if piece is ChessPiece.PAWN:\n",
    "    print(\"This is a pawn!\")\n",
    "if piece != ChessPiece.KNIGHT:\n",
    "    print(\"Not a knight!\")\n",
    "\n",
    "\n"
   ]
  },
  {
   "cell_type": "markdown",
   "metadata": {},
   "source": [
    "In order to avoid remembering ambiguous conventions such as T/F for colors of square and color of piece (Which takes time to remember and makes de bugging hard), we use a similiar standard enum for colors of things (pieces and squares)."
   ]
  },
  {
   "cell_type": "code",
   "execution_count": 9,
   "metadata": {},
   "outputs": [
    {
     "name": "stdout",
     "output_type": "stream",
     "text": [
      "pieces are opponents\n"
     ]
    }
   ],
   "source": [
    "class Color(Enum):\n",
    "    ORANGE = 1\n",
    "    BLUE = 2\n",
    "    BLACK = 3\n",
    "    WHITE = 4\n",
    "\n",
    "piece_1_color = Color.ORANGE\n",
    "piece_2_color = Color.BLUE\n",
    "print(\"pieces are opponents\") if piece_1_color != piece_2_color else \"pieces are allies\""
   ]
  },
  {
   "cell_type": "markdown",
   "metadata": {},
   "source": [
    "Now we find a clear convention for labelling positions on the board. If you are unfamiliar with chess take a look at this image that visually explains so-called \"algebraic\" notation:\n"
   ]
  },
  {
   "cell_type": "code",
   "execution_count": 186,
   "metadata": {},
   "outputs": [],
   "source": [
    "import urllib.request\n",
    "from PIL import Image\n",
    "\n",
    "urllib.request.urlretrieve(\n",
    "  \"https://upload.wikimedia.org/wikipedia/commons/thumb/b/b6/SCD_algebraic_notation.svg/1200px-SCD_algebraic_notation.svg.png\", \"SCD_algebraic_notation.svg\")\n",
    "  \n",
    "img = Image.open(\"SCD_algebraic_notation.svg\")\n",
    "img.show()"
   ]
  },
  {
   "cell_type": "markdown",
   "metadata": {},
   "source": [
    "For the sake of simplicity, we will define positions as \"LN\" where L is the letter associated with the position and N is the number associated with the position ie:"
   ]
  },
  {
   "cell_type": "code",
   "execution_count": 25,
   "metadata": {},
   "outputs": [
    {
     "name": "stdout",
     "output_type": "stream",
     "text": [
      "automatic case convesion works: True\n",
      "position2 equals position1: False\n"
     ]
    }
   ],
   "source": [
    "position1 = \"e2\"\n",
    "position1_alt = \"E2\"\n",
    "position1_alt = position1_alt.lower()\n",
    "print(f\"automatic case convesion works: {position1 == position1_alt}\")\n",
    "\n",
    "position2 = \"g1\"\n",
    "print(f\"position2 equals position1: {position2 == position1}\")"
   ]
  },
  {
   "cell_type": "markdown",
   "metadata": {},
   "source": [
    "This appears to be robust. Since the convention in chess is always <letter><number> it is illogical to even worry about things such as 2e and e2 not being equivalent. Now lets move on to the storing all the metadata for a single piece. We decided that the metadata fields that should be recorded for each image are:\n",
    "    1. Piece type\n",
    "    2. Piece color (or lack of)\n",
    "    3. Position\n",
    "    4. Color of tile\n",
    "\n",
    "We can therefore define a function that recieves these fields as parameters: "
   ]
  },
  {
   "cell_type": "code",
   "execution_count": 32,
   "metadata": {},
   "outputs": [
    {
     "name": "stdout",
     "output_type": "stream",
     "text": [
      "ROOK\n",
      "piece color: ORANGE\n",
      "position: e5\n",
      "tile color: BLACK\n"
     ]
    }
   ],
   "source": [
    "\n",
    "# (Skip type validation for now)\n",
    "def print_metadata(piece_type, piece_color, position, tile_color):\n",
    "    print(piece_type.name)\n",
    "    print(f\"piece color: {piece_color.name}\")\n",
    "    print(f\"position: {position.lower()}\")\n",
    "    print(f\"tile color: {tile_color.name}\")\n",
    "\n",
    "piece_color = Color.ORANGE\n",
    "piece_type = ChessPiece.ROOK\n",
    "position = \"E5\"\n",
    "tile_color = Color.BLACK\n",
    "\n",
    "print_metadata(piece_type, piece_color, position, tile_color)\n"
   ]
  },
  {
   "cell_type": "markdown",
   "metadata": {},
   "source": [
    "Clearly, we can never have any pieces other than {ROOK, KING, QUEEN, KNIGHT, ..., BISHOP} or the allowed colors. Everything is always in the correct format when saved and we will save space by only writing integers to the csv instead of numerous strings for instance:"
   ]
  },
  {
   "cell_type": "code",
   "execution_count": 37,
   "metadata": {},
   "outputs": [
    {
     "name": "stdout",
     "output_type": "stream",
     "text": [
      "3\n",
      "Color.BLACK\n"
     ]
    }
   ],
   "source": [
    "demo_color = Color.BLACK\n",
    "# \"write\" operation:\n",
    "print(demo_color.value)\n",
    "# Get the demo color back from # it is written as:\n",
    "print(Color(3))\n"
   ]
  },
  {
   "cell_type": "markdown",
   "metadata": {},
   "source": [
    "Since we need to store the metadata for many images, lets use pandas to organize this it in a way that is efficient! Heres a simple dataframe with random metadata:"
   ]
  },
  {
   "cell_type": "code",
   "execution_count": 76,
   "metadata": {},
   "outputs": [
    {
     "data": {
      "text/html": [
       "<div>\n",
       "<style scoped>\n",
       "    .dataframe tbody tr th:only-of-type {\n",
       "        vertical-align: middle;\n",
       "    }\n",
       "\n",
       "    .dataframe tbody tr th {\n",
       "        vertical-align: top;\n",
       "    }\n",
       "\n",
       "    .dataframe thead th {\n",
       "        text-align: right;\n",
       "    }\n",
       "</style>\n",
       "<table border=\"1\" class=\"dataframe\">\n",
       "  <thead>\n",
       "    <tr style=\"text-align: right;\">\n",
       "      <th></th>\n",
       "      <th>Piece Type</th>\n",
       "      <th>Piece Color</th>\n",
       "      <th>Position</th>\n",
       "      <th>Tile Color</th>\n",
       "    </tr>\n",
       "  </thead>\n",
       "  <tbody>\n",
       "    <tr>\n",
       "      <th>0</th>\n",
       "      <td>EMPTY</td>\n",
       "      <td>BLUE</td>\n",
       "      <td>a3</td>\n",
       "      <td>WHITE</td>\n",
       "    </tr>\n",
       "    <tr>\n",
       "      <th>1</th>\n",
       "      <td>BISHOP</td>\n",
       "      <td>BLUE</td>\n",
       "      <td>h6</td>\n",
       "      <td>WHITE</td>\n",
       "    </tr>\n",
       "    <tr>\n",
       "      <th>2</th>\n",
       "      <td>QUEEN</td>\n",
       "      <td>ORANGE</td>\n",
       "      <td>h3</td>\n",
       "      <td>WHITE</td>\n",
       "    </tr>\n",
       "    <tr>\n",
       "      <th>3</th>\n",
       "      <td>ROOK</td>\n",
       "      <td>BLUE</td>\n",
       "      <td>a3</td>\n",
       "      <td>WHITE</td>\n",
       "    </tr>\n",
       "    <tr>\n",
       "      <th>4</th>\n",
       "      <td>EMPTY</td>\n",
       "      <td>ORANGE</td>\n",
       "      <td>b3</td>\n",
       "      <td>BLACK</td>\n",
       "    </tr>\n",
       "    <tr>\n",
       "      <th>5</th>\n",
       "      <td>KNIGHT</td>\n",
       "      <td>ORANGE</td>\n",
       "      <td>h6</td>\n",
       "      <td>WHITE</td>\n",
       "    </tr>\n",
       "    <tr>\n",
       "      <th>6</th>\n",
       "      <td>EMPTY</td>\n",
       "      <td>ORANGE</td>\n",
       "      <td>c1</td>\n",
       "      <td>BLACK</td>\n",
       "    </tr>\n",
       "    <tr>\n",
       "      <th>7</th>\n",
       "      <td>QUEEN</td>\n",
       "      <td>ORANGE</td>\n",
       "      <td>g8</td>\n",
       "      <td>BLACK</td>\n",
       "    </tr>\n",
       "    <tr>\n",
       "      <th>8</th>\n",
       "      <td>QUEEN</td>\n",
       "      <td>ORANGE</td>\n",
       "      <td>h8</td>\n",
       "      <td>BLACK</td>\n",
       "    </tr>\n",
       "    <tr>\n",
       "      <th>9</th>\n",
       "      <td>PAWN</td>\n",
       "      <td>ORANGE</td>\n",
       "      <td>c6</td>\n",
       "      <td>BLACK</td>\n",
       "    </tr>\n",
       "  </tbody>\n",
       "</table>\n",
       "</div>"
      ],
      "text/plain": [
       "  Piece Type Piece Color Position Tile Color\n",
       "0      EMPTY        BLUE       a3      WHITE\n",
       "1     BISHOP        BLUE       h6      WHITE\n",
       "2      QUEEN      ORANGE       h3      WHITE\n",
       "3       ROOK        BLUE       a3      WHITE\n",
       "4      EMPTY      ORANGE       b3      BLACK\n",
       "5     KNIGHT      ORANGE       h6      WHITE\n",
       "6      EMPTY      ORANGE       c1      BLACK\n",
       "7      QUEEN      ORANGE       g8      BLACK\n",
       "8      QUEEN      ORANGE       h8      BLACK\n",
       "9       PAWN      ORANGE       c6      BLACK"
      ]
     },
     "execution_count": 76,
     "metadata": {},
     "output_type": "execute_result"
    }
   ],
   "source": [
    "import pandas as pd\n",
    "import numpy as np\n",
    "import random\n",
    "\n",
    "# Can rescale metadata table for any general number of images\n",
    "number_images = 10\n",
    "\n",
    "cols = [\"Piece Type\", \"Color\", \"Position\", \"Tile Color\"]\n",
    "rows = list(range(5))\n",
    "data = np.random.randn(5, number_images)\n",
    "df_temp = pd.DataFrame(\n",
    "    {\n",
    "        \"Piece Type\": [ChessPiece(random.randint(1, 7)).name for i in range(number_images)],\n",
    "        \"Piece Color\": [Color(random.choice([1, 2])).name for i in range(number_images)],\n",
    "        \"Position\" : [random.choice(list(\"abcdefgh\")) + str(random.randint(1, 8)) for i in range(number_images)],\n",
    "        \"Tile Color\" : [Color(random.randint(3, 4)).name for i in range(number_images)]\n",
    "    }\n",
    ")\n",
    "df_temp"
   ]
  },
  {
   "cell_type": "markdown",
   "metadata": {},
   "source": [
    "Yes, it is possible to have an empty square with a piece color... the above data is totally randomly generated and just quick and dirty to get an idea of how this would work. \n",
    "\n",
    "Moving on we should probably add the camera pose as well:"
   ]
  },
  {
   "cell_type": "code",
   "execution_count": 81,
   "metadata": {},
   "outputs": [
    {
     "data": {
      "text/html": [
       "<div>\n",
       "<style scoped>\n",
       "    .dataframe tbody tr th:only-of-type {\n",
       "        vertical-align: middle;\n",
       "    }\n",
       "\n",
       "    .dataframe tbody tr th {\n",
       "        vertical-align: top;\n",
       "    }\n",
       "\n",
       "    .dataframe thead th {\n",
       "        text-align: right;\n",
       "    }\n",
       "</style>\n",
       "<table border=\"1\" class=\"dataframe\">\n",
       "  <thead>\n",
       "    <tr style=\"text-align: right;\">\n",
       "      <th></th>\n",
       "      <th>Piece Type</th>\n",
       "      <th>Piece Color</th>\n",
       "      <th>Position</th>\n",
       "      <th>Tile Color</th>\n",
       "      <th>Camera</th>\n",
       "    </tr>\n",
       "  </thead>\n",
       "  <tbody>\n",
       "    <tr>\n",
       "      <th>0</th>\n",
       "      <td>BISHOP</td>\n",
       "      <td>ORANGE</td>\n",
       "      <td>c3</td>\n",
       "      <td>BLACK</td>\n",
       "      <td>BIRDSEYE</td>\n",
       "    </tr>\n",
       "    <tr>\n",
       "      <th>1</th>\n",
       "      <td>EMPTY</td>\n",
       "      <td>BLUE</td>\n",
       "      <td>c1</td>\n",
       "      <td>BLACK</td>\n",
       "      <td>BIRDSEYE</td>\n",
       "    </tr>\n",
       "    <tr>\n",
       "      <th>2</th>\n",
       "      <td>QUEEN</td>\n",
       "      <td>ORANGE</td>\n",
       "      <td>d8</td>\n",
       "      <td>BLACK</td>\n",
       "      <td>BIRDSEYE</td>\n",
       "    </tr>\n",
       "    <tr>\n",
       "      <th>3</th>\n",
       "      <td>BISHOP</td>\n",
       "      <td>BLUE</td>\n",
       "      <td>f5</td>\n",
       "      <td>WHITE</td>\n",
       "      <td>ANGLED</td>\n",
       "    </tr>\n",
       "    <tr>\n",
       "      <th>4</th>\n",
       "      <td>BISHOP</td>\n",
       "      <td>BLUE</td>\n",
       "      <td>f6</td>\n",
       "      <td>WHITE</td>\n",
       "      <td>BIRDSEYE</td>\n",
       "    </tr>\n",
       "    <tr>\n",
       "      <th>5</th>\n",
       "      <td>KING</td>\n",
       "      <td>ORANGE</td>\n",
       "      <td>e2</td>\n",
       "      <td>WHITE</td>\n",
       "      <td>BIRDSEYE</td>\n",
       "    </tr>\n",
       "    <tr>\n",
       "      <th>6</th>\n",
       "      <td>PAWN</td>\n",
       "      <td>ORANGE</td>\n",
       "      <td>a2</td>\n",
       "      <td>BLACK</td>\n",
       "      <td>ANGLED</td>\n",
       "    </tr>\n",
       "    <tr>\n",
       "      <th>7</th>\n",
       "      <td>KING</td>\n",
       "      <td>BLUE</td>\n",
       "      <td>e5</td>\n",
       "      <td>WHITE</td>\n",
       "      <td>ANGLED</td>\n",
       "    </tr>\n",
       "    <tr>\n",
       "      <th>8</th>\n",
       "      <td>ROOK</td>\n",
       "      <td>ORANGE</td>\n",
       "      <td>g2</td>\n",
       "      <td>BLACK</td>\n",
       "      <td>ANGLED</td>\n",
       "    </tr>\n",
       "    <tr>\n",
       "      <th>9</th>\n",
       "      <td>ROOK</td>\n",
       "      <td>BLUE</td>\n",
       "      <td>b3</td>\n",
       "      <td>BLACK</td>\n",
       "      <td>BIRDSEYE</td>\n",
       "    </tr>\n",
       "  </tbody>\n",
       "</table>\n",
       "</div>"
      ],
      "text/plain": [
       "  Piece Type Piece Color Position Tile Color    Camera\n",
       "0     BISHOP      ORANGE       c3      BLACK  BIRDSEYE\n",
       "1      EMPTY        BLUE       c1      BLACK  BIRDSEYE\n",
       "2      QUEEN      ORANGE       d8      BLACK  BIRDSEYE\n",
       "3     BISHOP        BLUE       f5      WHITE    ANGLED\n",
       "4     BISHOP        BLUE       f6      WHITE  BIRDSEYE\n",
       "5       KING      ORANGE       e2      WHITE  BIRDSEYE\n",
       "6       PAWN      ORANGE       a2      BLACK    ANGLED\n",
       "7       KING        BLUE       e5      WHITE    ANGLED\n",
       "8       ROOK      ORANGE       g2      BLACK    ANGLED\n",
       "9       ROOK        BLUE       b3      BLACK  BIRDSEYE"
      ]
     },
     "execution_count": 81,
     "metadata": {},
     "output_type": "execute_result"
    }
   ],
   "source": [
    "# For now, lets keep it basic\n",
    "class Camera(Enum):\n",
    "    BIRDSEYE = 1\n",
    "    ANGLED = 2\n",
    "    \n",
    "df_temp = pd.DataFrame(\n",
    "    {\n",
    "        \"Piece Type\": [ChessPiece(random.randint(1, 7)).name for i in range(number_images)],\n",
    "        \"Piece Color\": [Color(random.choice([1, 2])).name for i in range(number_images)],\n",
    "        \"Position\" : [random.choice(list(\"abcdefgh\")) + str(random.randint(1, 8)) for i in range(number_images)],\n",
    "        \"Tile Color\" : [Color(random.randint(3, 4)).name for i in range(number_images)],\n",
    "        \"Camera\": [Camera(random.randint(1, 2)).name for i in range(number_images)]\n",
    "    }\n",
    ")\n",
    "df_temp"
   ]
  },
  {
   "cell_type": "markdown",
   "metadata": {},
   "source": [
    "Looking good, now lets move on to uploading the metadata to Google Drive."
   ]
  },
  {
   "cell_type": "code",
   "execution_count": 82,
   "metadata": {},
   "outputs": [
    {
     "name": "stdout",
     "output_type": "stream",
     "text": [
      "Collecting pydrive\n",
      "  Downloading PyDrive-1.3.1.tar.gz (987 kB)\n",
      "\u001b[K     |████████████████████████████████| 987 kB 3.2 MB/s \n",
      "\u001b[?25hRequirement already satisfied: google-api-python-client>=1.2 in /usr/local/lib/python3.9/site-packages (from pydrive) (1.12.8)\n",
      "Requirement already satisfied: oauth2client>=4.0.0 in /usr/local/lib/python3.9/site-packages (from pydrive) (4.1.3)\n",
      "Collecting PyYAML>=3.0\n",
      "  Downloading PyYAML-6.0-cp39-cp39-macosx_10_9_x86_64.whl (197 kB)\n",
      "\u001b[K     |████████████████████████████████| 197 kB 25.9 MB/s \n",
      "\u001b[?25hRequirement already satisfied: uritemplate<4dev,>=3.0.0 in /usr/local/lib/python3.9/site-packages (from google-api-python-client>=1.2->pydrive) (3.0.1)\n",
      "Requirement already satisfied: google-auth-httplib2>=0.0.3 in /usr/local/lib/python3.9/site-packages (from google-api-python-client>=1.2->pydrive) (0.0.4)\n",
      "Requirement already satisfied: six<2dev,>=1.13.0 in /usr/local/lib/python3.9/site-packages (from google-api-python-client>=1.2->pydrive) (1.15.0)\n",
      "Requirement already satisfied: google-auth>=1.16.0 in /usr/local/lib/python3.9/site-packages (from google-api-python-client>=1.2->pydrive) (1.26.1)\n",
      "Requirement already satisfied: google-api-core<2dev,>=1.21.0 in /usr/local/lib/python3.9/site-packages (from google-api-python-client>=1.2->pydrive) (1.26.0)\n",
      "Requirement already satisfied: httplib2<1dev,>=0.15.0 in /usr/local/lib/python3.9/site-packages (from google-api-python-client>=1.2->pydrive) (0.19.0)\n",
      "Requirement already satisfied: setuptools>=40.3.0 in /usr/local/lib/python3.9/site-packages (from google-api-core<2dev,>=1.21.0->google-api-python-client>=1.2->pydrive) (54.2.0)\n",
      "Requirement already satisfied: protobuf>=3.12.0 in /usr/local/lib/python3.9/site-packages (from google-api-core<2dev,>=1.21.0->google-api-python-client>=1.2->pydrive) (3.14.0)\n",
      "Requirement already satisfied: pytz in /usr/local/lib/python3.9/site-packages (from google-api-core<2dev,>=1.21.0->google-api-python-client>=1.2->pydrive) (2021.1)\n",
      "Requirement already satisfied: packaging>=14.3 in /usr/local/lib/python3.9/site-packages (from google-api-core<2dev,>=1.21.0->google-api-python-client>=1.2->pydrive) (20.9)\n",
      "Requirement already satisfied: googleapis-common-protos<2.0dev,>=1.6.0 in /usr/local/lib/python3.9/site-packages (from google-api-core<2dev,>=1.21.0->google-api-python-client>=1.2->pydrive) (1.52.0)\n",
      "Requirement already satisfied: requests<3.0.0dev,>=2.18.0 in /usr/local/lib/python3.9/site-packages (from google-api-core<2dev,>=1.21.0->google-api-python-client>=1.2->pydrive) (2.25.1)\n",
      "Requirement already satisfied: pyasn1-modules>=0.2.1 in /usr/local/lib/python3.9/site-packages (from google-auth>=1.16.0->google-api-python-client>=1.2->pydrive) (0.2.8)\n",
      "Requirement already satisfied: cachetools<5.0,>=2.0.0 in /usr/local/lib/python3.9/site-packages (from google-auth>=1.16.0->google-api-python-client>=1.2->pydrive) (4.2.1)\n",
      "Requirement already satisfied: rsa<5,>=3.1.4 in /usr/local/lib/python3.9/site-packages (from google-auth>=1.16.0->google-api-python-client>=1.2->pydrive) (4.7)\n",
      "Requirement already satisfied: pyparsing<3,>=2.4.2 in /usr/local/lib/python3.9/site-packages (from httplib2<1dev,>=0.15.0->google-api-python-client>=1.2->pydrive) (2.4.7)\n",
      "Requirement already satisfied: pyasn1>=0.1.7 in /usr/local/lib/python3.9/site-packages (from oauth2client>=4.0.0->pydrive) (0.4.8)\n",
      "Requirement already satisfied: chardet<5,>=3.0.2 in /usr/local/lib/python3.9/site-packages (from requests<3.0.0dev,>=2.18.0->google-api-core<2dev,>=1.21.0->google-api-python-client>=1.2->pydrive) (4.0.0)\n",
      "Requirement already satisfied: idna<3,>=2.5 in /usr/local/lib/python3.9/site-packages (from requests<3.0.0dev,>=2.18.0->google-api-core<2dev,>=1.21.0->google-api-python-client>=1.2->pydrive) (2.10)\n",
      "Requirement already satisfied: urllib3<1.27,>=1.21.1 in /usr/local/lib/python3.9/site-packages (from requests<3.0.0dev,>=2.18.0->google-api-core<2dev,>=1.21.0->google-api-python-client>=1.2->pydrive) (1.26.3)\n",
      "Requirement already satisfied: certifi>=2017.4.17 in /usr/local/lib/python3.9/site-packages (from requests<3.0.0dev,>=2.18.0->google-api-core<2dev,>=1.21.0->google-api-python-client>=1.2->pydrive) (2020.12.5)\n",
      "Building wheels for collected packages: pydrive\n",
      "  Building wheel for pydrive (setup.py) ... \u001b[?25ldone\n",
      "\u001b[?25h  Created wheel for pydrive: filename=PyDrive-1.3.1-py3-none-any.whl size=27435 sha256=0a4ad07782da99ed5d30682c079fe0bb749ff7804873978a75f489ac0d844d58\n",
      "  Stored in directory: /Users/johnmarangola/Library/Caches/pip/wheels/6e/98/e3/c91ae530a0508f87f1f24fe2b9df9d8e3952de1224d495e9e2\n",
      "Successfully built pydrive\n",
      "Installing collected packages: PyYAML, pydrive\n",
      "Successfully installed PyYAML-6.0 pydrive-1.3.1\n",
      "\u001b[33mWARNING: You are using pip version 21.0.1; however, version 21.3.1 is available.\n",
      "You should consider upgrading via the '/usr/local/opt/python@3.9/bin/python3.9 -m pip install --upgrade pip' command.\u001b[0m\n",
      "Note: you may need to restart the kernel to use updated packages.\n"
     ]
    }
   ],
   "source": [
    "pip install pydrive"
   ]
  },
  {
   "cell_type": "markdown",
   "metadata": {},
   "source": [
    "Perform first time manual developer authentication using Oauth and pydrive, make sure Localhost:8080/ abnd Localhost:8090/ enabled"
   ]
  },
  {
   "cell_type": "code",
   "execution_count": 163,
   "metadata": {},
   "outputs": [
    {
     "name": "stdout",
     "output_type": "stream",
     "text": [
      "Your browser has been opened to visit:\n",
      "\n",
      "    https://accounts.google.com/o/oauth2/auth?client_id=1022961328214-bl4hn8614idt5sdup9996pk8rirkjf33.apps.googleusercontent.com&redirect_uri=http%3A%2F%2Flocalhost%3A8080%2F&scope=https%3A%2F%2Fwww.googleapis.com%2Fauth%2Fdrive&access_type=offline&response_type=code\n",
      "\n",
      "Authentication successful.\n"
     ]
    }
   ],
   "source": [
    "from pydrive.auth import GoogleAuth\n",
    "from pydrive.drive import GoogleDrive\n",
    "\n",
    "gauth = GoogleAuth()\n",
    "gauth.LocalWebserverAuth() # Creates local webserver and auto handles authentication.\n",
    "drive = GoogleDrive(gauth)\n",
    "\n",
    "file1 = drive.CreateFile({'title': 'Hello6.txt'})  # Create GoogleDriveFile instance with title 'Hello.txt'.\n",
    "file1.SetContentString('this is a test!') # Set content of the file from given string.\n",
    "file1.Upload()"
   ]
  },
  {
   "cell_type": "markdown",
   "metadata": {},
   "source": [
    "It worked!\n",
    "\n",
    "Now lets create a function"
   ]
  },
  {
   "cell_type": "code",
   "execution_count": 192,
   "metadata": {},
   "outputs": [
    {
     "data": {
      "text/plain": [
       "GoogleDriveFile({'title': 'test.txt', 'kind': 'drive#file', 'id': '1qTLbjnJ7nr_h2w9hpzmaXMW_lCUEEBeM', 'etag': '\"MTYzNTk5OTIyMTU5Nw\"', 'selfLink': 'https://www.googleapis.com/drive/v2/files/1qTLbjnJ7nr_h2w9hpzmaXMW_lCUEEBeM', 'webContentLink': 'https://drive.google.com/uc?id=1qTLbjnJ7nr_h2w9hpzmaXMW_lCUEEBeM&export=download', 'alternateLink': 'https://drive.google.com/file/d/1qTLbjnJ7nr_h2w9hpzmaXMW_lCUEEBeM/view?usp=drivesdk', 'embedLink': 'https://drive.google.com/file/d/1qTLbjnJ7nr_h2w9hpzmaXMW_lCUEEBeM/preview?usp=drivesdk', 'iconLink': 'https://drive-thirdparty.googleusercontent.com/16/type/text/plain', 'mimeType': 'text/plain', 'labels': {'starred': False, 'hidden': False, 'trashed': False, 'restricted': False, 'viewed': True}, 'copyRequiresWriterPermission': False, 'createdDate': '2021-11-04T04:13:41.597Z', 'modifiedDate': '2021-11-04T04:13:41.597Z', 'modifiedByMeDate': '2021-11-04T04:13:41.597Z', 'lastViewedByMeDate': '2021-11-04T04:13:41.597Z', 'markedViewedByMeDate': '1970-01-01T00:00:00.000Z', 'version': '1', 'parents': [{'kind': 'drive#parentReference', 'id': '0AC_LoQiJXRpdUk9PVA', 'selfLink': 'https://www.googleapis.com/drive/v2/files/1qTLbjnJ7nr_h2w9hpzmaXMW_lCUEEBeM/parents/0AC_LoQiJXRpdUk9PVA', 'parentLink': 'https://www.googleapis.com/drive/v2/files/0AC_LoQiJXRpdUk9PVA', 'isRoot': True}], 'downloadUrl': 'https://www.googleapis.com/drive/v2/files/1qTLbjnJ7nr_h2w9hpzmaXMW_lCUEEBeM?alt=media&source=downloadUrl', 'userPermission': {'kind': 'drive#permission', 'etag': '\"wuslFxHnf314GgzW5tF8cGpch_M\"', 'id': 'me', 'selfLink': 'https://www.googleapis.com/drive/v2/files/1qTLbjnJ7nr_h2w9hpzmaXMW_lCUEEBeM/permissions/me', 'role': 'owner', 'type': 'user'}, 'originalFilename': '', 'fileExtension': 'txt', 'md5Checksum': 'd41d8cd98f00b204e9800998ecf8427e', 'fileSize': '0', 'quotaBytesUsed': '0', 'ownerNames': ['cv chess'], 'owners': [{'kind': 'drive#user', 'displayName': 'cv chess', 'picture': {'url': 'https://lh3.googleusercontent.com/a/default-user=s64'}, 'isAuthenticatedUser': True, 'permissionId': '00595435506690355527', 'emailAddress': 'cvchess3343@gmail.com'}], 'lastModifyingUserName': 'cv chess', 'lastModifyingUser': {'kind': 'drive#user', 'displayName': 'cv chess', 'picture': {'url': 'https://lh3.googleusercontent.com/a/default-user=s64'}, 'isAuthenticatedUser': True, 'permissionId': '00595435506690355527', 'emailAddress': 'cvchess3343@gmail.com'}, 'capabilities': {'canCopy': True, 'canEdit': True}, 'editable': True, 'copyable': True, 'writersCanShare': True, 'shared': False, 'explicitlyTrashed': False, 'appDataContents': False, 'headRevisionId': '0By_LoQiJXRpdZ1JJbG5WN0JJQ2VrSWN1bWFGZlVlZEhNck0wPQ', 'spaces': ['drive']})"
      ]
     },
     "execution_count": 192,
     "metadata": {},
     "output_type": "execute_result"
    }
   ],
   "source": [
    "def create_file(filename, content=None):\n",
    "    file1 = drive.CreateFile({'title': filename})  # Create GoogleDriveFile instance with title 'Hello.txt'.\n",
    "    if content is not None:\n",
    "        file1.SetContentString(content) \n",
    "    file1.Upload()\n",
    "    return file1\n",
    "\n",
    "# Test function by making an empty test file\n",
    "create_file(\"test.txt\")\n",
    "    \n"
   ]
  },
  {
   "cell_type": "markdown",
   "metadata": {},
   "source": [
    "Get a list of files and their respective ids"
   ]
  },
  {
   "cell_type": "code",
   "execution_count": 193,
   "metadata": {},
   "outputs": [
    {
     "name": "stdout",
     "output_type": "stream",
     "text": [
      "title: test.txt, id: 1qTLbjnJ7nr_h2w9hpzmaXMW_lCUEEBeM\n",
      "title: testFolder, id: 1sKdnG4bMN5GmjI1Y4k_vXoSmRpaIsiSP\n"
     ]
    }
   ],
   "source": [
    "file_list = drive.ListFile({'q': \"'root' in parents and trashed=false\"}).GetList()\n",
    "for file1 in file_list:\n",
    "  print('title: %s, id: %s' % (file1['title'], file1['id']))"
   ]
  },
  {
   "cell_type": "code",
   "execution_count": 194,
   "metadata": {},
   "outputs": [
    {
     "name": "stdout",
     "output_type": "stream",
     "text": [
      "1qTLbjnJ7nr_h2w9hpzmaXMW_lCUEEBeM\n",
      "None\n"
     ]
    }
   ],
   "source": [
    "\"\"\" \n",
    "Get the first occurence of the id of a file in root directory of drive from its name\n",
    "\n",
    "Returns: id iff single file found with name, else None\n",
    "\"\"\"\n",
    "def get_id(name):\n",
    "    file_list = drive.ListFile({'q': \"'root' in parents and trashed=false\"}).GetList()\n",
    "    ids = []\n",
    "    for file1 in file_list: \n",
    "        if file1[\"title\"] == name: \n",
    "            ids.append(file1[\"id\"])\n",
    "    if len(ids) == 1: return ids[0]\n",
    "    return None\n",
    "\n",
    "print(get_id(\"test.txt\"))\n",
    "print(get_id(\"Hello2.txt\"))"
   ]
  },
  {
   "cell_type": "markdown",
   "metadata": {},
   "source": [
    "Now given some filename for the metadata we can download it"
   ]
  },
  {
   "cell_type": "code",
   "execution_count": 195,
   "metadata": {},
   "outputs": [
    {
     "data": {
      "text/plain": [
       "True"
      ]
     },
     "execution_count": 195,
     "metadata": {},
     "output_type": "execute_result"
    }
   ],
   "source": [
    "\"\"\" \n",
    "Download a filename from google drive if it exists, else do nothing \n",
    "\n",
    "Return: True -> Sucessful, False -> file not found\n",
    "\"\"\"\n",
    "def download(filename):\n",
    "    _id = get_id(filename)\n",
    "    if _id is None: \n",
    "        return False\n",
    "    temp = drive.CreateFile({'id':_id})\n",
    "    temp.GetContentFile(filename)\n",
    "    return True\n",
    "    \n",
    "download(\"test.txt\")"
   ]
  },
  {
   "cell_type": "markdown",
   "metadata": {},
   "source": [
    "This clearly works, now lets try for our csv...\n",
    "\n",
    "First, lets upload the csv to a folder called dataset like this\n",
    "\n",
    "--test_dataset\n",
    "    |__ BIRDSEYE\n",
    "        |__ metadata.csv"
   ]
  },
  {
   "cell_type": "code",
   "execution_count": 245,
   "metadata": {},
   "outputs": [
    {
     "name": "stdout",
     "output_type": "stream",
     "text": [
      "12ZagiWg3BSpCiNBozgwd4XssCECji7vz\n"
     ]
    }
   ],
   "source": [
    "# demo: add nested folders\n",
    "base = drive.CreateFile({'title':\"base\", 'mimeType':\"application/vnd.google-apps.folder\"})\n",
    "base.Upload()\n",
    "print(base['id'])\n",
    "file1 = drive.CreateFile({'title':\"sub\",\"parents\":[{'id':base.attr[\"metadata\"][\"id\"]}],'mimeType':\"application/vnd.google-apps.folder\"})\n",
    "file1.Upload()\n",
    "    "
   ]
  },
  {
   "cell_type": "code",
   "execution_count": 249,
   "metadata": {},
   "outputs": [],
   "source": [
    "\"\"\"\n",
    "Create a root folder named <name>\n",
    "\n",
    "Return: id of root folder\n",
    "\"\"\"\n",
    "def create_root_folder(name):\n",
    "    for file in drive.ListFile({'q': f\"'root' in parents and trashed=false\"}).GetList():\n",
    "        if file['title'] == name:\n",
    "            return False\n",
    "    root_folder = drive.CreateFile({'title':name, 'mimeType':\"application/vnd.google-apps.folder\"})\n",
    "    root_folder.Upload()\n",
    "    return root_folder['id']"
   ]
  },
  {
   "cell_type": "code",
   "execution_count": 242,
   "metadata": {},
   "outputs": [
    {
     "data": {
      "text/plain": [
       "'1G4U5DhFkKiJM8dpRROc_5QfjXmN5uuYE'"
      ]
     },
     "execution_count": 242,
     "metadata": {},
     "output_type": "execute_result"
    }
   ],
   "source": [
    "\"\"\"\n",
    "Adds sub_folder inside base directory if base directory is a single folder in drive\n",
    "\n",
    "Returns: id of sub folder for directory chaining\n",
    "\"\"\"\n",
    "def upload_subfolder(root_dir, sub_folder):\n",
    "    id_temp = get_id(root_dir)\n",
    "    if id_temp is None: \n",
    "        return False # ie. duplicate folders, folder not found\n",
    "    # check to make sure sub-directory does not exist yet:\n",
    "    for file in drive.ListFile({'q': f\"'{id_temp}' in parents and trashed=false\"}).GetList():\n",
    "        if file['title'] == sub_folder:\n",
    "            return False\n",
    "    sub_dir = drive.CreateFile({'title':sub_folder,\"parents\":[{'id':id_temp}],'mimeType':\"application/vnd.google-apps.folder\"})\n",
    "    sub_dir.Upload()\n",
    "    return sub_dir['id']\n"
   ]
  },
  {
   "cell_type": "markdown",
   "metadata": {},
   "source": [
    "Putting it all together, we can create a function that takes the file id of any directory and generates a sub directory named sub_dir inside of it:"
   ]
  },
  {
   "cell_type": "code",
   "execution_count": 247,
   "metadata": {},
   "outputs": [
    {
     "data": {
      "text/plain": [
       "False"
      ]
     },
     "execution_count": 247,
     "metadata": {},
     "output_type": "execute_result"
    }
   ],
   "source": [
    "\"\"\"\n",
    "Create a sub folder <sub_dir> inside parent folder with parent_id\n",
    "\n",
    "Return: id of sub folder\n",
    "\"\"\"\n",
    "def add_sub_directory(parent_id, sub_dir):\n",
    "    # check to make sure sub-directory does not exist yet:\n",
    "    for file in drive.ListFile({'q': f\"'{parent_id}' in parents and trashed=false\"}).GetList():\n",
    "        if file['title'] == sub_dir:\n",
    "            return False\n",
    "    sub_dir = drive.CreateFile({'title':sub_dir,\"parents\":[{'id':parent_id}],'mimeType':\"application/vnd.google-apps.folder\"})\n",
    "    sub_dir.Upload()\n",
    "    return sub_dir['id']\n"
   ]
  },
  {
   "cell_type": "code",
   "execution_count": null,
   "metadata": {},
   "outputs": [],
   "source": []
  }
 ],
 "metadata": {
  "interpreter": {
   "hash": "aee8b7b246df8f9039afb4144a1f6fd8d2ca17a180786b69acc140d282b71a49"
  },
  "kernelspec": {
   "display_name": "Python 3.9.4 64-bit",
   "name": "python3"
  },
  "language_info": {
   "codemirror_mode": {
    "name": "ipython",
    "version": 3
   },
   "file_extension": ".py",
   "mimetype": "text/x-python",
   "name": "python",
   "nbconvert_exporter": "python",
   "pygments_lexer": "ipython3",
   "version": "3.9.4"
  },
  "orig_nbformat": 4
 },
 "nbformat": 4,
 "nbformat_minor": 2
}
