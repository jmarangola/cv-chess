{
 "cells": [
  {
   "cell_type": "markdown",
   "metadata": {},
   "source": [
    "This notebook is dedicated to establishing a reliable method of transferring batches of data to and from Google Drive and storing metadata in an accessible format\n",
    "\n",
    "John Marangola\n",
    "11/2/2021\n",
    "\n",
    "We begin by sketching out how data should be clearly and efficiently stored as follows:"
   ]
  },
  {
   "cell_type": "markdown",
   "metadata": {},
   "source": [
    "In order to standardize on a simple and very useful convention, we define an enum for the pieces on the chess board. "
   ]
  },
  {
   "cell_type": "code",
   "execution_count": 28,
   "metadata": {},
   "outputs": [
    {
     "name": "stdout",
     "output_type": "stream",
     "text": [
      "This is a pawn!\n",
      "Not a knight!\n"
     ]
    }
   ],
   "source": [
    "import pandas as pd\n",
    "import numpy as np\n",
    "from enum import Enum\n",
    "\n",
    "class ChessPiece(Enum):\n",
    "    PAWN = 1\n",
    "    ROOK = 2\n",
    "    KNIGHT = 3\n",
    "    KING = 4\n",
    "    QUEEN = 5\n",
    "    BISHOP = 6\n",
    "    EMPTY = 7\n",
    "     \n",
    "piece = ChessPiece.PAWN\n",
    "if piece is ChessPiece.PAWN:\n",
    "    print(\"This is a pawn!\")\n",
    "if piece != ChessPiece.KNIGHT:\n",
    "    print(\"Not a knight!\")\n",
    "\n",
    "\n"
   ]
  },
  {
   "cell_type": "markdown",
   "metadata": {},
   "source": [
    "In order to avoid remembering ambiguous conventions such as T/F for colors of square and color of piece (Which takes time to remember and makes de bugging hard), we use a similiar standard enum for colors of things (pieces and squares)."
   ]
  },
  {
   "cell_type": "code",
   "execution_count": 9,
   "metadata": {},
   "outputs": [
    {
     "name": "stdout",
     "output_type": "stream",
     "text": [
      "pieces are opponents\n"
     ]
    }
   ],
   "source": [
    "class Color(Enum):\n",
    "    ORANGE = 1\n",
    "    BLUE = 2\n",
    "    BLACK = 3\n",
    "    WHITE = 4\n",
    "\n",
    "piece_1_color = Color.ORANGE\n",
    "piece_2_color = Color.BLUE\n",
    "print(\"pieces are opponents\") if piece_1_color != piece_2_color else \"pieces are allies\""
   ]
  },
  {
   "cell_type": "markdown",
   "metadata": {},
   "source": [
    "Now we find a clear convention for labelling positions on the board. If you are unfamiliar with chess take a look at this image that visually explains so-called \"algebraic\" notation:\n"
   ]
  },
  {
   "cell_type": "code",
   "execution_count": 20,
   "metadata": {},
   "outputs": [],
   "source": [
    "import urllib.request\n",
    "from PIL import Image\n",
    "\n",
    "urllib.request.urlretrieve(\n",
    "  \"https://upload.wikimedia.org/wikipedia/commons/thumb/b/b6/SCD_algebraic_notation.svg/1200px-SCD_algebraic_notation.svg.png\", \"SCD_algebraic_notation.svg\")\n",
    "  \n",
    "img = Image.open(\"SCD_algebraic_notation.svg\")\n",
    "img.show()"
   ]
  },
  {
   "cell_type": "markdown",
   "metadata": {},
   "source": [
    "For the sake of simplicity, we will define positions as \"LN\" where L is the letter associated with the position and N is the number associated with the position ie:"
   ]
  },
  {
   "cell_type": "code",
   "execution_count": 25,
   "metadata": {},
   "outputs": [
    {
     "name": "stdout",
     "output_type": "stream",
     "text": [
      "automatic case convesion works: True\n",
      "position2 equals position1: False\n"
     ]
    }
   ],
   "source": [
    "position1 = \"e2\"\n",
    "position1_alt = \"E2\"\n",
    "position1_alt = position1_alt.lower()\n",
    "print(f\"automatic case convesion works: {position1 == position1_alt}\")\n",
    "\n",
    "position2 = \"g1\"\n",
    "print(f\"position2 equals position1: {position2 == position1}\")"
   ]
  },
  {
   "cell_type": "markdown",
   "metadata": {},
   "source": [
    "This appears to be robust. Since the convention in chess is always <letter><number> it is illogical to even worry about things such as 2e and e2 not being equivalent. Now lets move on to the storing all the metadata for a single piece. We decided that the metadata fields that should be recorded for each image are:\n",
    "    1. Piece type\n",
    "    2. Piece color (or lack of)\n",
    "    3. Position\n",
    "    4. Color of tile\n",
    "\n",
    "We can therefore define a function that recieves these fields as parameters: "
   ]
  },
  {
   "cell_type": "code",
   "execution_count": 32,
   "metadata": {},
   "outputs": [
    {
     "name": "stdout",
     "output_type": "stream",
     "text": [
      "ROOK\n",
      "piece color: ORANGE\n",
      "position: e5\n",
      "tile color: BLACK\n"
     ]
    }
   ],
   "source": [
    "\n",
    "# (Skip type validation for now)\n",
    "def print_metadata(piece_type, piece_color, position, tile_color):\n",
    "    print(piece_type.name)\n",
    "    print(f\"piece color: {piece_color.name}\")\n",
    "    print(f\"position: {position.lower()}\")\n",
    "    print(f\"tile color: {tile_color.name}\")\n",
    "\n",
    "piece_color = Color.ORANGE\n",
    "piece_type = ChessPiece.ROOK\n",
    "position = \"E5\"\n",
    "tile_color = Color.BLACK\n",
    "\n",
    "print_metadata(piece_type, piece_color, position, tile_color)\n"
   ]
  },
  {
   "cell_type": "markdown",
   "metadata": {},
   "source": [
    "Clearly, we can never have any pieces other than {ROOK, KING, QUEEN, KNIGHT, ..., BISHOP} or the allowed colors. Everything is always in the correct format when saved and we will save space by only writing integers to the csv instead of numerous strings for instance:"
   ]
  },
  {
   "cell_type": "code",
   "execution_count": 37,
   "metadata": {},
   "outputs": [
    {
     "name": "stdout",
     "output_type": "stream",
     "text": [
      "3\n",
      "Color.BLACK\n"
     ]
    }
   ],
   "source": [
    "demo_color = Color.BLACK\n",
    "# \"write\" operation:\n",
    "print(demo_color.value)\n",
    "# Get the demo color back from # it is written as:\n",
    "print(Color(3))\n"
   ]
  },
  {
   "cell_type": "markdown",
   "metadata": {},
   "source": [
    "Since we need to store the metadata for many images, lets use pandas to organize this it in a way that is efficient! Heres a simple dataframe with random metadata:"
   ]
  },
  {
   "cell_type": "code",
   "execution_count": 76,
   "metadata": {},
   "outputs": [
    {
     "data": {
      "text/html": [
       "<div>\n",
       "<style scoped>\n",
       "    .dataframe tbody tr th:only-of-type {\n",
       "        vertical-align: middle;\n",
       "    }\n",
       "\n",
       "    .dataframe tbody tr th {\n",
       "        vertical-align: top;\n",
       "    }\n",
       "\n",
       "    .dataframe thead th {\n",
       "        text-align: right;\n",
       "    }\n",
       "</style>\n",
       "<table border=\"1\" class=\"dataframe\">\n",
       "  <thead>\n",
       "    <tr style=\"text-align: right;\">\n",
       "      <th></th>\n",
       "      <th>Piece Type</th>\n",
       "      <th>Piece Color</th>\n",
       "      <th>Position</th>\n",
       "      <th>Tile Color</th>\n",
       "    </tr>\n",
       "  </thead>\n",
       "  <tbody>\n",
       "    <tr>\n",
       "      <th>0</th>\n",
       "      <td>EMPTY</td>\n",
       "      <td>BLUE</td>\n",
       "      <td>a3</td>\n",
       "      <td>WHITE</td>\n",
       "    </tr>\n",
       "    <tr>\n",
       "      <th>1</th>\n",
       "      <td>BISHOP</td>\n",
       "      <td>BLUE</td>\n",
       "      <td>h6</td>\n",
       "      <td>WHITE</td>\n",
       "    </tr>\n",
       "    <tr>\n",
       "      <th>2</th>\n",
       "      <td>QUEEN</td>\n",
       "      <td>ORANGE</td>\n",
       "      <td>h3</td>\n",
       "      <td>WHITE</td>\n",
       "    </tr>\n",
       "    <tr>\n",
       "      <th>3</th>\n",
       "      <td>ROOK</td>\n",
       "      <td>BLUE</td>\n",
       "      <td>a3</td>\n",
       "      <td>WHITE</td>\n",
       "    </tr>\n",
       "    <tr>\n",
       "      <th>4</th>\n",
       "      <td>EMPTY</td>\n",
       "      <td>ORANGE</td>\n",
       "      <td>b3</td>\n",
       "      <td>BLACK</td>\n",
       "    </tr>\n",
       "    <tr>\n",
       "      <th>5</th>\n",
       "      <td>KNIGHT</td>\n",
       "      <td>ORANGE</td>\n",
       "      <td>h6</td>\n",
       "      <td>WHITE</td>\n",
       "    </tr>\n",
       "    <tr>\n",
       "      <th>6</th>\n",
       "      <td>EMPTY</td>\n",
       "      <td>ORANGE</td>\n",
       "      <td>c1</td>\n",
       "      <td>BLACK</td>\n",
       "    </tr>\n",
       "    <tr>\n",
       "      <th>7</th>\n",
       "      <td>QUEEN</td>\n",
       "      <td>ORANGE</td>\n",
       "      <td>g8</td>\n",
       "      <td>BLACK</td>\n",
       "    </tr>\n",
       "    <tr>\n",
       "      <th>8</th>\n",
       "      <td>QUEEN</td>\n",
       "      <td>ORANGE</td>\n",
       "      <td>h8</td>\n",
       "      <td>BLACK</td>\n",
       "    </tr>\n",
       "    <tr>\n",
       "      <th>9</th>\n",
       "      <td>PAWN</td>\n",
       "      <td>ORANGE</td>\n",
       "      <td>c6</td>\n",
       "      <td>BLACK</td>\n",
       "    </tr>\n",
       "  </tbody>\n",
       "</table>\n",
       "</div>"
      ],
      "text/plain": [
       "  Piece Type Piece Color Position Tile Color\n",
       "0      EMPTY        BLUE       a3      WHITE\n",
       "1     BISHOP        BLUE       h6      WHITE\n",
       "2      QUEEN      ORANGE       h3      WHITE\n",
       "3       ROOK        BLUE       a3      WHITE\n",
       "4      EMPTY      ORANGE       b3      BLACK\n",
       "5     KNIGHT      ORANGE       h6      WHITE\n",
       "6      EMPTY      ORANGE       c1      BLACK\n",
       "7      QUEEN      ORANGE       g8      BLACK\n",
       "8      QUEEN      ORANGE       h8      BLACK\n",
       "9       PAWN      ORANGE       c6      BLACK"
      ]
     },
     "execution_count": 76,
     "metadata": {},
     "output_type": "execute_result"
    }
   ],
   "source": [
    "import pandas as pd\n",
    "import numpy as np\n",
    "import random\n",
    "\n",
    "# Can rescale metadata table for any general number of images\n",
    "number_images = 10\n",
    "\n",
    "cols = [\"Piece Type\", \"Color\", \"Position\", \"Tile Color\"]\n",
    "rows = list(range(5))\n",
    "data = np.random.randn(5, number_images)\n",
    "df_temp = pd.DataFrame(\n",
    "    {\n",
    "        \"Piece Type\": [ChessPiece(random.randint(1, 7)).name for i in range(number_images)],\n",
    "        \"Piece Color\": [Color(random.choice([1, 2])).name for i in range(number_images)],\n",
    "        \"Position\" : [random.choice(list(\"abcdefgh\")) + str(random.randint(1, 8)) for i in range(number_images)],\n",
    "        \"Tile Color\" : [Color(random.randint(3, 4)).name for i in range(number_images)]\n",
    "    }\n",
    ")\n",
    "df_temp"
   ]
  },
  {
   "cell_type": "markdown",
   "metadata": {},
   "source": [
    "Yes, it is possible to have an empty square with a piece color... the above data is totally randomly generated and just quick and dirty to get an idea of how this would work. \n",
    "\n",
    "Moving on we should probably add the camera pose as well:"
   ]
  },
  {
   "cell_type": "code",
   "execution_count": 81,
   "metadata": {},
   "outputs": [
    {
     "data": {
      "text/html": [
       "<div>\n",
       "<style scoped>\n",
       "    .dataframe tbody tr th:only-of-type {\n",
       "        vertical-align: middle;\n",
       "    }\n",
       "\n",
       "    .dataframe tbody tr th {\n",
       "        vertical-align: top;\n",
       "    }\n",
       "\n",
       "    .dataframe thead th {\n",
       "        text-align: right;\n",
       "    }\n",
       "</style>\n",
       "<table border=\"1\" class=\"dataframe\">\n",
       "  <thead>\n",
       "    <tr style=\"text-align: right;\">\n",
       "      <th></th>\n",
       "      <th>Piece Type</th>\n",
       "      <th>Piece Color</th>\n",
       "      <th>Position</th>\n",
       "      <th>Tile Color</th>\n",
       "      <th>Camera</th>\n",
       "    </tr>\n",
       "  </thead>\n",
       "  <tbody>\n",
       "    <tr>\n",
       "      <th>0</th>\n",
       "      <td>BISHOP</td>\n",
       "      <td>ORANGE</td>\n",
       "      <td>c3</td>\n",
       "      <td>BLACK</td>\n",
       "      <td>BIRDSEYE</td>\n",
       "    </tr>\n",
       "    <tr>\n",
       "      <th>1</th>\n",
       "      <td>EMPTY</td>\n",
       "      <td>BLUE</td>\n",
       "      <td>c1</td>\n",
       "      <td>BLACK</td>\n",
       "      <td>BIRDSEYE</td>\n",
       "    </tr>\n",
       "    <tr>\n",
       "      <th>2</th>\n",
       "      <td>QUEEN</td>\n",
       "      <td>ORANGE</td>\n",
       "      <td>d8</td>\n",
       "      <td>BLACK</td>\n",
       "      <td>BIRDSEYE</td>\n",
       "    </tr>\n",
       "    <tr>\n",
       "      <th>3</th>\n",
       "      <td>BISHOP</td>\n",
       "      <td>BLUE</td>\n",
       "      <td>f5</td>\n",
       "      <td>WHITE</td>\n",
       "      <td>ANGLED</td>\n",
       "    </tr>\n",
       "    <tr>\n",
       "      <th>4</th>\n",
       "      <td>BISHOP</td>\n",
       "      <td>BLUE</td>\n",
       "      <td>f6</td>\n",
       "      <td>WHITE</td>\n",
       "      <td>BIRDSEYE</td>\n",
       "    </tr>\n",
       "    <tr>\n",
       "      <th>5</th>\n",
       "      <td>KING</td>\n",
       "      <td>ORANGE</td>\n",
       "      <td>e2</td>\n",
       "      <td>WHITE</td>\n",
       "      <td>BIRDSEYE</td>\n",
       "    </tr>\n",
       "    <tr>\n",
       "      <th>6</th>\n",
       "      <td>PAWN</td>\n",
       "      <td>ORANGE</td>\n",
       "      <td>a2</td>\n",
       "      <td>BLACK</td>\n",
       "      <td>ANGLED</td>\n",
       "    </tr>\n",
       "    <tr>\n",
       "      <th>7</th>\n",
       "      <td>KING</td>\n",
       "      <td>BLUE</td>\n",
       "      <td>e5</td>\n",
       "      <td>WHITE</td>\n",
       "      <td>ANGLED</td>\n",
       "    </tr>\n",
       "    <tr>\n",
       "      <th>8</th>\n",
       "      <td>ROOK</td>\n",
       "      <td>ORANGE</td>\n",
       "      <td>g2</td>\n",
       "      <td>BLACK</td>\n",
       "      <td>ANGLED</td>\n",
       "    </tr>\n",
       "    <tr>\n",
       "      <th>9</th>\n",
       "      <td>ROOK</td>\n",
       "      <td>BLUE</td>\n",
       "      <td>b3</td>\n",
       "      <td>BLACK</td>\n",
       "      <td>BIRDSEYE</td>\n",
       "    </tr>\n",
       "  </tbody>\n",
       "</table>\n",
       "</div>"
      ],
      "text/plain": [
       "  Piece Type Piece Color Position Tile Color    Camera\n",
       "0     BISHOP      ORANGE       c3      BLACK  BIRDSEYE\n",
       "1      EMPTY        BLUE       c1      BLACK  BIRDSEYE\n",
       "2      QUEEN      ORANGE       d8      BLACK  BIRDSEYE\n",
       "3     BISHOP        BLUE       f5      WHITE    ANGLED\n",
       "4     BISHOP        BLUE       f6      WHITE  BIRDSEYE\n",
       "5       KING      ORANGE       e2      WHITE  BIRDSEYE\n",
       "6       PAWN      ORANGE       a2      BLACK    ANGLED\n",
       "7       KING        BLUE       e5      WHITE    ANGLED\n",
       "8       ROOK      ORANGE       g2      BLACK    ANGLED\n",
       "9       ROOK        BLUE       b3      BLACK  BIRDSEYE"
      ]
     },
     "execution_count": 81,
     "metadata": {},
     "output_type": "execute_result"
    }
   ],
   "source": [
    "# For now, lets keep it basic\n",
    "class Camera(Enum):\n",
    "    BIRDSEYE = 1\n",
    "    ANGLED = 2\n",
    "    \n",
    "df_temp = pd.DataFrame(\n",
    "    {\n",
    "        \"Piece Type\": [ChessPiece(random.randint(1, 7)).name for i in range(number_images)],\n",
    "        \"Piece Color\": [Color(random.choice([1, 2])).name for i in range(number_images)],\n",
    "        \"Position\" : [random.choice(list(\"abcdefgh\")) + str(random.randint(1, 8)) for i in range(number_images)],\n",
    "        \"Tile Color\" : [Color(random.randint(3, 4)).name for i in range(number_images)],\n",
    "        \"Camera\": [Camera(random.randint(1, 2)).name for i in range(number_images)]\n",
    "    }\n",
    ")\n",
    "df_temp"
   ]
  },
  {
   "cell_type": "markdown",
   "metadata": {},
   "source": [
    "Looking good, now lets move on to uploading the metadata to Google Drive."
   ]
  },
  {
   "cell_type": "code",
   "execution_count": 82,
   "metadata": {},
   "outputs": [
    {
     "name": "stdout",
     "output_type": "stream",
     "text": [
      "Collecting pydrive\n",
      "  Downloading PyDrive-1.3.1.tar.gz (987 kB)\n",
      "\u001b[K     |████████████████████████████████| 987 kB 3.2 MB/s \n",
      "\u001b[?25hRequirement already satisfied: google-api-python-client>=1.2 in /usr/local/lib/python3.9/site-packages (from pydrive) (1.12.8)\n",
      "Requirement already satisfied: oauth2client>=4.0.0 in /usr/local/lib/python3.9/site-packages (from pydrive) (4.1.3)\n",
      "Collecting PyYAML>=3.0\n",
      "  Downloading PyYAML-6.0-cp39-cp39-macosx_10_9_x86_64.whl (197 kB)\n",
      "\u001b[K     |████████████████████████████████| 197 kB 25.9 MB/s \n",
      "\u001b[?25hRequirement already satisfied: uritemplate<4dev,>=3.0.0 in /usr/local/lib/python3.9/site-packages (from google-api-python-client>=1.2->pydrive) (3.0.1)\n",
      "Requirement already satisfied: google-auth-httplib2>=0.0.3 in /usr/local/lib/python3.9/site-packages (from google-api-python-client>=1.2->pydrive) (0.0.4)\n",
      "Requirement already satisfied: six<2dev,>=1.13.0 in /usr/local/lib/python3.9/site-packages (from google-api-python-client>=1.2->pydrive) (1.15.0)\n",
      "Requirement already satisfied: google-auth>=1.16.0 in /usr/local/lib/python3.9/site-packages (from google-api-python-client>=1.2->pydrive) (1.26.1)\n",
      "Requirement already satisfied: google-api-core<2dev,>=1.21.0 in /usr/local/lib/python3.9/site-packages (from google-api-python-client>=1.2->pydrive) (1.26.0)\n",
      "Requirement already satisfied: httplib2<1dev,>=0.15.0 in /usr/local/lib/python3.9/site-packages (from google-api-python-client>=1.2->pydrive) (0.19.0)\n",
      "Requirement already satisfied: setuptools>=40.3.0 in /usr/local/lib/python3.9/site-packages (from google-api-core<2dev,>=1.21.0->google-api-python-client>=1.2->pydrive) (54.2.0)\n",
      "Requirement already satisfied: protobuf>=3.12.0 in /usr/local/lib/python3.9/site-packages (from google-api-core<2dev,>=1.21.0->google-api-python-client>=1.2->pydrive) (3.14.0)\n",
      "Requirement already satisfied: pytz in /usr/local/lib/python3.9/site-packages (from google-api-core<2dev,>=1.21.0->google-api-python-client>=1.2->pydrive) (2021.1)\n",
      "Requirement already satisfied: packaging>=14.3 in /usr/local/lib/python3.9/site-packages (from google-api-core<2dev,>=1.21.0->google-api-python-client>=1.2->pydrive) (20.9)\n",
      "Requirement already satisfied: googleapis-common-protos<2.0dev,>=1.6.0 in /usr/local/lib/python3.9/site-packages (from google-api-core<2dev,>=1.21.0->google-api-python-client>=1.2->pydrive) (1.52.0)\n",
      "Requirement already satisfied: requests<3.0.0dev,>=2.18.0 in /usr/local/lib/python3.9/site-packages (from google-api-core<2dev,>=1.21.0->google-api-python-client>=1.2->pydrive) (2.25.1)\n",
      "Requirement already satisfied: pyasn1-modules>=0.2.1 in /usr/local/lib/python3.9/site-packages (from google-auth>=1.16.0->google-api-python-client>=1.2->pydrive) (0.2.8)\n",
      "Requirement already satisfied: cachetools<5.0,>=2.0.0 in /usr/local/lib/python3.9/site-packages (from google-auth>=1.16.0->google-api-python-client>=1.2->pydrive) (4.2.1)\n",
      "Requirement already satisfied: rsa<5,>=3.1.4 in /usr/local/lib/python3.9/site-packages (from google-auth>=1.16.0->google-api-python-client>=1.2->pydrive) (4.7)\n",
      "Requirement already satisfied: pyparsing<3,>=2.4.2 in /usr/local/lib/python3.9/site-packages (from httplib2<1dev,>=0.15.0->google-api-python-client>=1.2->pydrive) (2.4.7)\n",
      "Requirement already satisfied: pyasn1>=0.1.7 in /usr/local/lib/python3.9/site-packages (from oauth2client>=4.0.0->pydrive) (0.4.8)\n",
      "Requirement already satisfied: chardet<5,>=3.0.2 in /usr/local/lib/python3.9/site-packages (from requests<3.0.0dev,>=2.18.0->google-api-core<2dev,>=1.21.0->google-api-python-client>=1.2->pydrive) (4.0.0)\n",
      "Requirement already satisfied: idna<3,>=2.5 in /usr/local/lib/python3.9/site-packages (from requests<3.0.0dev,>=2.18.0->google-api-core<2dev,>=1.21.0->google-api-python-client>=1.2->pydrive) (2.10)\n",
      "Requirement already satisfied: urllib3<1.27,>=1.21.1 in /usr/local/lib/python3.9/site-packages (from requests<3.0.0dev,>=2.18.0->google-api-core<2dev,>=1.21.0->google-api-python-client>=1.2->pydrive) (1.26.3)\n",
      "Requirement already satisfied: certifi>=2017.4.17 in /usr/local/lib/python3.9/site-packages (from requests<3.0.0dev,>=2.18.0->google-api-core<2dev,>=1.21.0->google-api-python-client>=1.2->pydrive) (2020.12.5)\n",
      "Building wheels for collected packages: pydrive\n",
      "  Building wheel for pydrive (setup.py) ... \u001b[?25ldone\n",
      "\u001b[?25h  Created wheel for pydrive: filename=PyDrive-1.3.1-py3-none-any.whl size=27435 sha256=0a4ad07782da99ed5d30682c079fe0bb749ff7804873978a75f489ac0d844d58\n",
      "  Stored in directory: /Users/johnmarangola/Library/Caches/pip/wheels/6e/98/e3/c91ae530a0508f87f1f24fe2b9df9d8e3952de1224d495e9e2\n",
      "Successfully built pydrive\n",
      "Installing collected packages: PyYAML, pydrive\n",
      "Successfully installed PyYAML-6.0 pydrive-1.3.1\n",
      "\u001b[33mWARNING: You are using pip version 21.0.1; however, version 21.3.1 is available.\n",
      "You should consider upgrading via the '/usr/local/opt/python@3.9/bin/python3.9 -m pip install --upgrade pip' command.\u001b[0m\n",
      "Note: you may need to restart the kernel to use updated packages.\n"
     ]
    }
   ],
   "source": [
    "pip install pydrive"
   ]
  },
  {
   "cell_type": "markdown",
   "metadata": {},
   "source": [
    "Perform first time manual developer authentication using Oauth and pydrive, make sure Localhost:8080/ abnd Localhost:8090/ enabled"
   ]
  },
  {
   "cell_type": "code",
   "execution_count": 113,
   "metadata": {},
   "outputs": [
    {
     "name": "stdout",
     "output_type": "stream",
     "text": [
      "Your browser has been opened to visit:\n",
      "\n",
      "    https://accounts.google.com/o/oauth2/auth?client_id=1022961328214-bl4hn8614idt5sdup9996pk8rirkjf33.apps.googleusercontent.com&redirect_uri=http%3A%2F%2Flocalhost%3A8080%2F&scope=https%3A%2F%2Fwww.googleapis.com%2Fauth%2Fdrive&access_type=offline&response_type=code\n",
      "\n",
      "Authentication successful.\n"
     ]
    }
   ],
   "source": [
    "from pydrive.auth import GoogleAuth\n",
    "from pydrive.drive import GoogleDrive\n",
    "\n",
    "gauth = GoogleAuth()\n",
    "gauth.LocalWebserverAuth() # Creates local webserver and auto handles authentication.\n",
    "\n",
    "from pydrive.drive import GoogleDrive\n",
    "\n",
    "drive = GoogleDrive(gauth)\n",
    "\n",
    "file1 = drive.CreateFile({'title': 'Hello.txt'})  # Create GoogleDriveFile instance with title 'Hello.txt'.\n",
    "file1.SetContentString('Hello World!') # Set content of the file from given string.\n",
    "file1.Upload()"
   ]
  },
  {
   "cell_type": "markdown",
   "metadata": {},
   "source": [
    "It worked!\n",
    "\n",
    "Now lets create a test folder"
   ]
  },
  {
   "cell_type": "code",
   "execution_count": 118,
   "metadata": {},
   "outputs": [],
   "source": [
    "def create_folder(folder):\n",
    "    file1 = drive.CreateFile({'title': 'Hello.txt'})  # Create GoogleDriveFile instance with title 'Hello.txt'.\n",
    "    file1.SetContentString('Hello World!') # Set content of the file from given string.\n",
    "    file1.Upload()\n",
    "    \n",
    "create_folder(\"testFolder\")"
   ]
  }
 ],
 "metadata": {
  "interpreter": {
   "hash": "aee8b7b246df8f9039afb4144a1f6fd8d2ca17a180786b69acc140d282b71a49"
  },
  "kernelspec": {
   "display_name": "Python 3.9.4 64-bit",
   "name": "python3"
  },
  "language_info": {
   "codemirror_mode": {
    "name": "ipython",
    "version": 3
   },
   "file_extension": ".py",
   "mimetype": "text/x-python",
   "name": "python",
   "nbconvert_exporter": "python",
   "pygments_lexer": "ipython3",
   "version": "3.9.4"
  },
  "orig_nbformat": 4
 },
 "nbformat": 4,
 "nbformat_minor": 2
}
