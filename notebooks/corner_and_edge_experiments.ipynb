{
  "nbformat": 4,
  "nbformat_minor": 0,
  "metadata": {
    "colab": {
      "name": "corner_and_edge_experiments.ipynb",
      "provenance": [],
      "collapsed_sections": []
    },
    "kernelspec": {
      "display_name": "Python 3",
      "name": "python3"
    },
    "language_info": {
      "name": "python"
    }
  },
  "cells": [
    {
      "cell_type": "markdown",
      "metadata": {
        "id": "uexg5cay2UEY"
      },
      "source": [
        "Piece recognition using Harris Corner Detection \n",
        "\n",
        "# Fabio Costa and John Marangola"
      ]
    },
    {
      "cell_type": "code",
      "metadata": {
        "colab": {
          "base_uri": "https://localhost:8080/",
          "height": 357
        },
        "id": "j4cs1Cd23GPh",
        "outputId": "d13e6615-d389-4479-8059-e38d00ca4d06"
      },
      "source": [
        "import urllib.request\n",
        "import imageio\n",
        "from google.colab.patches import cv2_imshow\n",
        "from google.colab import files\n",
        "import cv2\n",
        "import math\n",
        "import numpy as np\n",
        "\n",
        "filename = 'board.jpg'\n",
        "url = \"https://assets.pbimgs.com/pbimgs/rk/images/dp/wcm/202140/0003/wooden-chess-board-game-z.jpg\"\n",
        "url = \"http://www.raspberryturk.com/assets/img/rawcapture.png\"\n",
        "#url = \"https://image.shutterstock.com/image-photo/chess-top-view-600w-165691334.jpg\"\n",
        "\n",
        "\n",
        "#urllib.request.urlretrieve(url, filename)\n",
        "\n",
        "#img = cv2.imread(filename)\n",
        "\n",
        "img = cv2.imread(\"IMG_1478.jpg\")\n",
        "cv2_imshow(img)\n",
        "gray = cv2.cvtColor(img,cv2.COLOR_BGR2GRAY)\n",
        "\n",
        "# find Harris corners\n",
        "gray = np.float32(gray)\n",
        "dst = cv2.cornerHarris(gray,2,3,0.04)\n",
        "dst = cv2.dilate(dst,None)\n",
        "ret, dst = cv2.threshold(dst,0.5*dst.max(),255,0)\n",
        "dst = np.uint8(dst)\n",
        "\n",
        "# find centroids\n",
        "ret, labels, stats, centroids = cv2.connectedComponentsWithStats(dst)\n",
        "\n",
        "# define the criteria to stop and refine the corners\n",
        "criteria = (cv2.TERM_CRITERIA_EPS + cv2.TERM_CRITERIA_MAX_ITER, 100, 0.001)\n",
        "corners = cv2.cornerSubPix(gray,np.float32(centroids),(1,1),(-1,-1),criteria)\n",
        "\n",
        "\n",
        "# Now draw green and red\n",
        "res = np.hstack((centroids,corners))\n",
        "res = np.int0(res)\n",
        "\n",
        "res = res[:, 2:]\n",
        "\n",
        "# mask_green = cv2.boxFilter(src = img[:,:,1], ddepth = -1, ksize = (5,5))\n",
        "# mask_red = cv2.boxFilter(src = img[:,:,2], ddepth = -1, ksize = (5,5))\n",
        "\n",
        "# mask_green = cv2.GaussianBlur(src = img[:,:,1], ksize = (31,31), sigmaX = 30, sigmaY = 30)\n",
        "# mask_red = cv2.GaussianBlur(src = img[:,:,2], ksize = (5,5), sigmaX = 2, sigmaY = 2)\n",
        "\n",
        "\n",
        "# kernel = np.identity(9) / 9\n",
        "# mask = cv2.filter2D(src = img[:,:], ddepth = -1, kernel = kernel)\n",
        "# print(mask[0,0])\n",
        "\n",
        "# mask = (mask[:,:,0] + mask[:,:,1] + mask[:,:,2]) / 3\n",
        "\n",
        "# removed = []\n",
        "\n",
        "# i = 0\n",
        "# while i < len(res) - 1:\n",
        "#   e = 50\n",
        "#   #get rid of red and green\n",
        "#   if mask[res[i, 1], res[i, 0]] > e:\n",
        "#     res = np.delete(res, i, 0)\n",
        "#     removed.append(res[i])\n",
        "#     print(\"REMOVED\")\n",
        "#   else:\n",
        "#     i += 1\n",
        "\n",
        "img[res[:,1],res[:,0]] = [255,0,0]\n",
        "img[res[:,1] + 1, res[:,0] + 1] = [255,0,0]\n",
        "img[res[:,1] - 1, res[:,0] - 1] = [255,0,0]\n",
        "img[res[:,1] + 1, res[:,0] - 1] = [255,0,0]\n",
        "img[res[:,1] - 1, res[:,0] + 1] = [255,0,0]\n",
        "#img[res[:,3],res[:,2]] = [0,255,0]\n",
        "\n",
        "# removed = np.array(removed)\n",
        "img[removed[:,1], removed[:,0]] = [0,0,255]\n",
        "img[removed[:,1] + 1, removed[:,0] + 1] = [0,0,255]\n",
        "img[removed[:,1] - 1, removed[:,0] - 1] = [0,0,255]\n",
        "img[removed[:,1] + 1, removed[:,0] - 1] = [0,0,255]\n",
        "img[removed[:,1] - 1, removed[:,0] + 1] = [0,0,255]\n",
        "\n",
        "\n",
        "\n",
        "cv2.imwrite('subpixel5.png',img)\n",
        "\n",
        "cv2_imshow(img)\n",
        "if cv2.waitKey(0) & 0xff == 27:\n",
        "    cv2.destroyAllWindows()\n",
        "\n"
      ],
      "execution_count": null,
      "outputs": [
        {
          "output_type": "error",
          "ename": "AttributeError",
          "evalue": "ignored",
          "traceback": [
            "\u001b[0;31m---------------------------------------------------------------------------\u001b[0m",
            "\u001b[0;31mAttributeError\u001b[0m                            Traceback (most recent call last)",
            "\u001b[0;32m<ipython-input-1-eb6f2a25b750>\u001b[0m in \u001b[0;36m<module>\u001b[0;34m()\u001b[0m\n\u001b[1;32m     18\u001b[0m \u001b[0;34m\u001b[0m\u001b[0m\n\u001b[1;32m     19\u001b[0m \u001b[0mimg\u001b[0m \u001b[0;34m=\u001b[0m \u001b[0mcv2\u001b[0m\u001b[0;34m.\u001b[0m\u001b[0mimread\u001b[0m\u001b[0;34m(\u001b[0m\u001b[0;34m\"IMG_1478.jpg\"\u001b[0m\u001b[0;34m)\u001b[0m\u001b[0;34m\u001b[0m\u001b[0;34m\u001b[0m\u001b[0m\n\u001b[0;32m---> 20\u001b[0;31m \u001b[0mcv2_imshow\u001b[0m\u001b[0;34m(\u001b[0m\u001b[0mimg\u001b[0m\u001b[0;34m)\u001b[0m\u001b[0;34m\u001b[0m\u001b[0;34m\u001b[0m\u001b[0m\n\u001b[0m\u001b[1;32m     21\u001b[0m \u001b[0mgray\u001b[0m \u001b[0;34m=\u001b[0m \u001b[0mcv2\u001b[0m\u001b[0;34m.\u001b[0m\u001b[0mcvtColor\u001b[0m\u001b[0;34m(\u001b[0m\u001b[0mimg\u001b[0m\u001b[0;34m,\u001b[0m\u001b[0mcv2\u001b[0m\u001b[0;34m.\u001b[0m\u001b[0mCOLOR_BGR2GRAY\u001b[0m\u001b[0;34m)\u001b[0m\u001b[0;34m\u001b[0m\u001b[0;34m\u001b[0m\u001b[0m\n\u001b[1;32m     22\u001b[0m \u001b[0;34m\u001b[0m\u001b[0m\n",
            "\u001b[0;32m/usr/local/lib/python3.7/dist-packages/google/colab/patches/__init__.py\u001b[0m in \u001b[0;36mcv2_imshow\u001b[0;34m(a)\u001b[0m\n\u001b[1;32m     20\u001b[0m       \u001b[0mimage\u001b[0m\u001b[0;34m.\u001b[0m\u001b[0;34m\u001b[0m\u001b[0;34m\u001b[0m\u001b[0m\n\u001b[1;32m     21\u001b[0m   \"\"\"\n\u001b[0;32m---> 22\u001b[0;31m   \u001b[0ma\u001b[0m \u001b[0;34m=\u001b[0m \u001b[0ma\u001b[0m\u001b[0;34m.\u001b[0m\u001b[0mclip\u001b[0m\u001b[0;34m(\u001b[0m\u001b[0;36m0\u001b[0m\u001b[0;34m,\u001b[0m \u001b[0;36m255\u001b[0m\u001b[0;34m)\u001b[0m\u001b[0;34m.\u001b[0m\u001b[0mastype\u001b[0m\u001b[0;34m(\u001b[0m\u001b[0;34m'uint8'\u001b[0m\u001b[0;34m)\u001b[0m\u001b[0;34m\u001b[0m\u001b[0;34m\u001b[0m\u001b[0m\n\u001b[0m\u001b[1;32m     23\u001b[0m   \u001b[0;31m# cv2 stores colors as BGR; convert to RGB\u001b[0m\u001b[0;34m\u001b[0m\u001b[0;34m\u001b[0m\u001b[0;34m\u001b[0m\u001b[0m\n\u001b[1;32m     24\u001b[0m   \u001b[0;32mif\u001b[0m \u001b[0ma\u001b[0m\u001b[0;34m.\u001b[0m\u001b[0mndim\u001b[0m \u001b[0;34m==\u001b[0m \u001b[0;36m3\u001b[0m\u001b[0;34m:\u001b[0m\u001b[0;34m\u001b[0m\u001b[0;34m\u001b[0m\u001b[0m\n",
            "\u001b[0;31mAttributeError\u001b[0m: 'NoneType' object has no attribute 'clip'"
          ]
        }
      ]
    }
  ]
}